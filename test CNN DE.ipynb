{
 "cells": [
  {
   "cell_type": "markdown",
   "metadata": {},
   "source": [
    "### Importing the required Libraries"
   ]
  },
  {
   "cell_type": "code",
   "execution_count": 1,
   "metadata": {},
   "outputs": [],
   "source": [
    "import errno, os\n",
    "import requests\n",
    "import scipy.io as sio\n",
    "import numpy as np\n",
    "\n",
    "from os import listdir\n",
    "from os.path import isfile, join\n"
   ]
  },
  {
   "cell_type": "markdown",
   "metadata": {},
   "source": [
    "### State Of Bearings\n",
    "\n",
    "♦ N for normal state, not damaged\n",
    "\n",
    "♦ B for ball damaged\n",
    "\n",
    "♦ IR for inner raceway damage\n",
    "\n",
    "♦ OR for outer raceway damage\n"
   ]
  },
  {
   "cell_type": "markdown",
   "metadata": {},
   "source": [
    "### Fault Diameter -\n",
    "\n",
    "♦ 007 for 0.007 inch or 7 mils damage\n",
    "\n",
    "♦ 014 for 0.014 inch damage\n",
    "\n",
    "♦ 021 for 0.021 inch damage\n",
    "\n",
    "♦ 028 for 0.028 inch damage\n"
   ]
  },
  {
   "cell_type": "markdown",
   "metadata": {},
   "source": [
    "### Position of the sensor\n",
    "\n",
    "♦ 3, 6, 12 for OUTER RACEWAY faults located at 3 o’clock, at 6 o’clock and at 12 o’clock respectively of the load zone\n",
    "\n",
    "♦ Load can be:\n",
    "  0, 1, 2, 3 for different motor load conditions in Horsepower (HP)"
   ]
  },
  {
   "cell_type": "markdown",
   "metadata": {},
   "source": [
    "♦ Using the data collected at the Drive End, which is labeled as the code DE, The Below Function picks up the time signal from a  file.\n",
    "\n",
    "♦ For the given code, a regex is made on the dictionary keys, looking for the the Code(DE) and ignoring the rest of the suffix.\n",
    "\n",
    "♦ The function also converts the unit to SI."
   ]
  },
  {
   "cell_type": "code",
   "execution_count": 2,
   "metadata": {},
   "outputs": [],
   "source": [
    "def acceleration_time_signal(dict_1, code):                                 # data=dict1\n",
    "    \"\"\"\n",
    "    load the time series in the file and convert units in SI\n",
    "    file= 'filename' from the ./dataset/ folder\n",
    "    code= ' DE' or 'FE', other code will give error\n",
    "    \"\"\"\n",
    "    import re\n",
    "    try:\n",
    "        for key in dict_1:\n",
    "            if re.findall(rf\"({code})\", key):\n",
    "                dict_code = key\n",
    "        #inches to meter\n",
    "        unit_conv = 0.0254\n",
    "        x = dict_1[dict_code] * unit_conv\n",
    "        return x\n",
    "    except:\n",
    "        print('File does not exist or code wrong. Code must be either \"DE or \"FE\" ')"
   ]
  },
  {
   "cell_type": "code",
   "execution_count": 3,
   "metadata": {},
   "outputs": [],
   "source": [
    "def Read_MAT_files_from_folders(file_path, files_list, code):\n",
    "  \n",
    "  G_data = []\n",
    "  \n",
    "  for i in range(len(files_list)):\n",
    "      data = sio.loadmat(os.path.join(file_path, files_list[i]))           #Joining file path with file name\n",
    "      print(file_path, files_list[i])                                      #print(data)\n",
    "      sig = acceleration_time_signal(data, code)                           #Printing the signal from accelerometers\n",
    "      G_data.append(sig)\n",
    "  \n",
    "  G_data = np.vstack(G_data).flatten()                                     #Stacking all our input arrays vertically\n",
    "  \n",
    "  return G_data "
   ]
  },
  {
   "cell_type": "code",
   "execution_count": 4,
   "metadata": {},
   "outputs": [],
   "source": [
    "def Percent_train_test_split(array_1, percent = 10):                 # For splititng the data we define a function with 10% test and 90%train\n",
    "  len_n = len(array_1)                                         \n",
    "  percent_true = percent/100\n",
    "  #print(percent_true)\n",
    "  x = int(percent_true*len_n) #% split\n",
    "  data_test, data_train = np.split(array_1, [x+1])\n",
    "\n",
    "  return data_train, data_test"
   ]
  },
  {
   "cell_type": "code",
   "execution_count": 5,
   "metadata": {},
   "outputs": [],
   "source": [
    "def fast_scandir(dirname):                                                  #For printing all the subfolders in the given directory which is reffered to as path\n",
    "    subfolders= [f.path for f in os.scandir(dirname) if f.is_dir()]\n",
    "    for dirname in list(subfolders):\n",
    "        subfolders.extend(fast_scandir(dirname))\n",
    "    return subfolders "
   ]
  },
  {
   "cell_type": "markdown",
   "metadata": {},
   "source": [
    "### Checking Out if the above functions work(Using Normal data-DE)"
   ]
  },
  {
   "cell_type": "code",
   "execution_count": 6,
   "metadata": {},
   "outputs": [
    {
     "name": "stdout",
     "output_type": "stream",
     "text": [
      "C:\\Users\\Lenovo\\Desktop\\CWRU_NEW\\CWRU-dataset-main\\Normal 100_Normal_3.mat\n",
      "C:\\Users\\Lenovo\\Desktop\\CWRU_NEW\\CWRU-dataset-main\\Normal 97_Normal_0.mat\n",
      "C:\\Users\\Lenovo\\Desktop\\CWRU_NEW\\CWRU-dataset-main\\Normal 98_Normal_1.mat\n",
      "C:\\Users\\Lenovo\\Desktop\\CWRU_NEW\\CWRU-dataset-main\\Normal 99_Normal_2.mat\n"
     ]
    },
    {
     "data": {
      "text/plain": [
       "(1698547,)"
      ]
     },
     "metadata": {},
     "output_type": "display_data"
    }
   ],
   "source": [
    "#12k Normal Signal for DE\n",
    "\n",
    "file_path_1 = r'C:\\Users\\Lenovo\\Desktop\\CWRU_NEW\\CWRU-dataset-main\\Normal'\n",
    "onlyfiles_1 = [f for f in listdir(file_path_1) if isfile(join(file_path_1, f))]\n",
    "#print(onlyfiles_1)\n",
    "\n",
    "G_data_N_DE = Read_MAT_files_from_folders(file_path_1, onlyfiles_1, \"DE\")\n",
    "\n",
    "display(G_data_N_DE.shape)"
   ]
  },
  {
   "cell_type": "markdown",
   "metadata": {},
   "source": [
    "### Using 12k Hz  Data from the DE\n",
    "\n",
    "The Same as usual there are 3 types of fault as follows\n",
    "\n",
    "♦ B,\n",
    "\n",
    "♦ IR,\n",
    "\n",
    "♦ OR\n"
   ]
  },
  {
   "cell_type": "code",
   "execution_count": 7,
   "metadata": {},
   "outputs": [],
   "source": [
    "file_path_2 = r'C:\\Users\\Lenovo\\Desktop\\CWRU_NEW\\CWRU-dataset-main\\12k_Drive_End_Bearing_Fault_Data' #12k Hz data path\n",
    "\n",
    "subfolder_path = fast_scandir(file_path_2)                                                        # Spits out all the subfolders of the directory whose path is mentioned above"
   ]
  },
  {
   "cell_type": "code",
   "execution_count": 8,
   "metadata": {},
   "outputs": [
    {
     "data": {
      "text/plain": [
       "['C:\\\\Users\\\\Lenovo\\\\Desktop\\\\CWRU_NEW\\\\CWRU-dataset-main\\\\12k_Drive_End_Bearing_Fault_Data\\\\B',\n",
       " 'C:\\\\Users\\\\Lenovo\\\\Desktop\\\\CWRU_NEW\\\\CWRU-dataset-main\\\\12k_Drive_End_Bearing_Fault_Data\\\\IR',\n",
       " 'C:\\\\Users\\\\Lenovo\\\\Desktop\\\\CWRU_NEW\\\\CWRU-dataset-main\\\\12k_Drive_End_Bearing_Fault_Data\\\\OR',\n",
       " 'C:\\\\Users\\\\Lenovo\\\\Desktop\\\\CWRU_NEW\\\\CWRU-dataset-main\\\\12k_Drive_End_Bearing_Fault_Data\\\\B\\\\007',\n",
       " 'C:\\\\Users\\\\Lenovo\\\\Desktop\\\\CWRU_NEW\\\\CWRU-dataset-main\\\\12k_Drive_End_Bearing_Fault_Data\\\\B\\\\014',\n",
       " 'C:\\\\Users\\\\Lenovo\\\\Desktop\\\\CWRU_NEW\\\\CWRU-dataset-main\\\\12k_Drive_End_Bearing_Fault_Data\\\\B\\\\021',\n",
       " 'C:\\\\Users\\\\Lenovo\\\\Desktop\\\\CWRU_NEW\\\\CWRU-dataset-main\\\\12k_Drive_End_Bearing_Fault_Data\\\\B\\\\028',\n",
       " 'C:\\\\Users\\\\Lenovo\\\\Desktop\\\\CWRU_NEW\\\\CWRU-dataset-main\\\\12k_Drive_End_Bearing_Fault_Data\\\\IR\\\\007',\n",
       " 'C:\\\\Users\\\\Lenovo\\\\Desktop\\\\CWRU_NEW\\\\CWRU-dataset-main\\\\12k_Drive_End_Bearing_Fault_Data\\\\IR\\\\014',\n",
       " 'C:\\\\Users\\\\Lenovo\\\\Desktop\\\\CWRU_NEW\\\\CWRU-dataset-main\\\\12k_Drive_End_Bearing_Fault_Data\\\\IR\\\\021',\n",
       " 'C:\\\\Users\\\\Lenovo\\\\Desktop\\\\CWRU_NEW\\\\CWRU-dataset-main\\\\12k_Drive_End_Bearing_Fault_Data\\\\IR\\\\028',\n",
       " 'C:\\\\Users\\\\Lenovo\\\\Desktop\\\\CWRU_NEW\\\\CWRU-dataset-main\\\\12k_Drive_End_Bearing_Fault_Data\\\\OR\\\\007',\n",
       " 'C:\\\\Users\\\\Lenovo\\\\Desktop\\\\CWRU_NEW\\\\CWRU-dataset-main\\\\12k_Drive_End_Bearing_Fault_Data\\\\OR\\\\014',\n",
       " 'C:\\\\Users\\\\Lenovo\\\\Desktop\\\\CWRU_NEW\\\\CWRU-dataset-main\\\\12k_Drive_End_Bearing_Fault_Data\\\\OR\\\\021',\n",
       " 'C:\\\\Users\\\\Lenovo\\\\Desktop\\\\CWRU_NEW\\\\CWRU-dataset-main\\\\12k_Drive_End_Bearing_Fault_Data\\\\OR\\\\007\\\\@12',\n",
       " 'C:\\\\Users\\\\Lenovo\\\\Desktop\\\\CWRU_NEW\\\\CWRU-dataset-main\\\\12k_Drive_End_Bearing_Fault_Data\\\\OR\\\\007\\\\@3',\n",
       " 'C:\\\\Users\\\\Lenovo\\\\Desktop\\\\CWRU_NEW\\\\CWRU-dataset-main\\\\12k_Drive_End_Bearing_Fault_Data\\\\OR\\\\007\\\\@6',\n",
       " 'C:\\\\Users\\\\Lenovo\\\\Desktop\\\\CWRU_NEW\\\\CWRU-dataset-main\\\\12k_Drive_End_Bearing_Fault_Data\\\\OR\\\\021\\\\@12',\n",
       " 'C:\\\\Users\\\\Lenovo\\\\Desktop\\\\CWRU_NEW\\\\CWRU-dataset-main\\\\12k_Drive_End_Bearing_Fault_Data\\\\OR\\\\021\\\\@3',\n",
       " 'C:\\\\Users\\\\Lenovo\\\\Desktop\\\\CWRU_NEW\\\\CWRU-dataset-main\\\\12k_Drive_End_Bearing_Fault_Data\\\\OR\\\\021\\\\@6']"
      ]
     },
     "execution_count": 8,
     "metadata": {},
     "output_type": "execute_result"
    }
   ],
   "source": [
    "subfolder_path"
   ]
  },
  {
   "cell_type": "code",
   "execution_count": 9,
   "metadata": {},
   "outputs": [
    {
     "name": "stdout",
     "output_type": "stream",
     "text": [
      "C:\\Users\\Lenovo\\Desktop\\CWRU_NEW\\CWRU-dataset-main\\12k_Drive_End_Bearing_Fault_Data\\B\\007 118_0.mat\n",
      "C:\\Users\\Lenovo\\Desktop\\CWRU_NEW\\CWRU-dataset-main\\12k_Drive_End_Bearing_Fault_Data\\B\\007 119_1.mat\n",
      "C:\\Users\\Lenovo\\Desktop\\CWRU_NEW\\CWRU-dataset-main\\12k_Drive_End_Bearing_Fault_Data\\B\\007 120_2.mat\n",
      "C:\\Users\\Lenovo\\Desktop\\CWRU_NEW\\CWRU-dataset-main\\12k_Drive_End_Bearing_Fault_Data\\B\\007 121_3.mat\n",
      "C:\\Users\\Lenovo\\Desktop\\CWRU_NEW\\CWRU-dataset-main\\12k_Drive_End_Bearing_Fault_Data\\B\\014 185_0.mat\n",
      "C:\\Users\\Lenovo\\Desktop\\CWRU_NEW\\CWRU-dataset-main\\12k_Drive_End_Bearing_Fault_Data\\B\\014 186_1.mat\n",
      "C:\\Users\\Lenovo\\Desktop\\CWRU_NEW\\CWRU-dataset-main\\12k_Drive_End_Bearing_Fault_Data\\B\\014 187_2.mat\n",
      "C:\\Users\\Lenovo\\Desktop\\CWRU_NEW\\CWRU-dataset-main\\12k_Drive_End_Bearing_Fault_Data\\B\\014 188_3.mat\n",
      "C:\\Users\\Lenovo\\Desktop\\CWRU_NEW\\CWRU-dataset-main\\12k_Drive_End_Bearing_Fault_Data\\B\\021 222_0.mat\n",
      "C:\\Users\\Lenovo\\Desktop\\CWRU_NEW\\CWRU-dataset-main\\12k_Drive_End_Bearing_Fault_Data\\B\\021 223_1.mat\n",
      "C:\\Users\\Lenovo\\Desktop\\CWRU_NEW\\CWRU-dataset-main\\12k_Drive_End_Bearing_Fault_Data\\B\\021 224_2.mat\n",
      "C:\\Users\\Lenovo\\Desktop\\CWRU_NEW\\CWRU-dataset-main\\12k_Drive_End_Bearing_Fault_Data\\B\\021 225_3.mat\n",
      "C:\\Users\\Lenovo\\Desktop\\CWRU_NEW\\CWRU-dataset-main\\12k_Drive_End_Bearing_Fault_Data\\B\\028 3005_0.mat\n",
      "C:\\Users\\Lenovo\\Desktop\\CWRU_NEW\\CWRU-dataset-main\\12k_Drive_End_Bearing_Fault_Data\\B\\028 3006_1.mat\n",
      "C:\\Users\\Lenovo\\Desktop\\CWRU_NEW\\CWRU-dataset-main\\12k_Drive_End_Bearing_Fault_Data\\B\\028 3007_2.mat\n",
      "C:\\Users\\Lenovo\\Desktop\\CWRU_NEW\\CWRU-dataset-main\\12k_Drive_End_Bearing_Fault_Data\\B\\028 3008_3.mat\n",
      "C:\\Users\\Lenovo\\Desktop\\CWRU_NEW\\CWRU-dataset-main\\12k_Drive_End_Bearing_Fault_Data\\IR\\007 105_0.mat\n",
      "C:\\Users\\Lenovo\\Desktop\\CWRU_NEW\\CWRU-dataset-main\\12k_Drive_End_Bearing_Fault_Data\\IR\\007 106_1.mat\n",
      "C:\\Users\\Lenovo\\Desktop\\CWRU_NEW\\CWRU-dataset-main\\12k_Drive_End_Bearing_Fault_Data\\IR\\007 107_2.mat\n",
      "C:\\Users\\Lenovo\\Desktop\\CWRU_NEW\\CWRU-dataset-main\\12k_Drive_End_Bearing_Fault_Data\\IR\\007 108_3.mat\n",
      "C:\\Users\\Lenovo\\Desktop\\CWRU_NEW\\CWRU-dataset-main\\12k_Drive_End_Bearing_Fault_Data\\IR\\014 169_0.mat\n",
      "C:\\Users\\Lenovo\\Desktop\\CWRU_NEW\\CWRU-dataset-main\\12k_Drive_End_Bearing_Fault_Data\\IR\\014 170_1.mat\n",
      "C:\\Users\\Lenovo\\Desktop\\CWRU_NEW\\CWRU-dataset-main\\12k_Drive_End_Bearing_Fault_Data\\IR\\014 171_2.mat\n",
      "C:\\Users\\Lenovo\\Desktop\\CWRU_NEW\\CWRU-dataset-main\\12k_Drive_End_Bearing_Fault_Data\\IR\\014 172_3.mat\n",
      "C:\\Users\\Lenovo\\Desktop\\CWRU_NEW\\CWRU-dataset-main\\12k_Drive_End_Bearing_Fault_Data\\IR\\021 209_0.mat\n",
      "C:\\Users\\Lenovo\\Desktop\\CWRU_NEW\\CWRU-dataset-main\\12k_Drive_End_Bearing_Fault_Data\\IR\\021 210_1.mat\n",
      "C:\\Users\\Lenovo\\Desktop\\CWRU_NEW\\CWRU-dataset-main\\12k_Drive_End_Bearing_Fault_Data\\IR\\021 211_2.mat\n",
      "C:\\Users\\Lenovo\\Desktop\\CWRU_NEW\\CWRU-dataset-main\\12k_Drive_End_Bearing_Fault_Data\\IR\\021 212_3.mat\n",
      "C:\\Users\\Lenovo\\Desktop\\CWRU_NEW\\CWRU-dataset-main\\12k_Drive_End_Bearing_Fault_Data\\IR\\028 3001_0.mat\n",
      "C:\\Users\\Lenovo\\Desktop\\CWRU_NEW\\CWRU-dataset-main\\12k_Drive_End_Bearing_Fault_Data\\IR\\028 3002_1.mat\n",
      "C:\\Users\\Lenovo\\Desktop\\CWRU_NEW\\CWRU-dataset-main\\12k_Drive_End_Bearing_Fault_Data\\IR\\028 3003_2.mat\n",
      "C:\\Users\\Lenovo\\Desktop\\CWRU_NEW\\CWRU-dataset-main\\12k_Drive_End_Bearing_Fault_Data\\IR\\028 3004_3.mat\n",
      "C:\\Users\\Lenovo\\Desktop\\CWRU_NEW\\CWRU-dataset-main\\12k_Drive_End_Bearing_Fault_Data\\OR\\014 197@6_0.mat\n",
      "C:\\Users\\Lenovo\\Desktop\\CWRU_NEW\\CWRU-dataset-main\\12k_Drive_End_Bearing_Fault_Data\\OR\\014 198@6_1.mat\n",
      "C:\\Users\\Lenovo\\Desktop\\CWRU_NEW\\CWRU-dataset-main\\12k_Drive_End_Bearing_Fault_Data\\OR\\014 199@6_2.mat\n",
      "C:\\Users\\Lenovo\\Desktop\\CWRU_NEW\\CWRU-dataset-main\\12k_Drive_End_Bearing_Fault_Data\\OR\\014 200@6_3.mat\n",
      "G_data_B_007_DE (487093,)\n",
      "G_data_B_014_DE (488109,)\n",
      "G_data_B_021_DE (487964,)\n",
      "G_data_B_028_DE (484120,)\n",
      "G_data_IR_007_DE (488309,)\n",
      "G_data_IR_014_DE (487239,)\n",
      "G_data_IR_021_DE (487529,)\n",
      "G_data_IR_028_DE (485038,)\n",
      "G_data_OR_007_DE (1465051,)\n",
      "G_data_OR_014_DE (487819,)\n",
      "G_data_OR_021_DE (1465487,)\n"
     ]
    }
   ],
   "source": [
    "\n",
    "file_path_2 = r'C:\\Users\\Lenovo\\Desktop\\CWRU_NEW\\CWRU-dataset-main\\12k_Drive_End_Bearing_Fault_Data'               #12k Hz data path\n",
    "subfolder_path = fast_scandir(file_path_2)                                                    # Spits out all the subfolders of the directory whose path is mentioned above\n",
    "\n",
    "G_data_OR_007_DE = []\n",
    "G_data_OR_021_DE = []\n",
    "\n",
    "for i in range(3, len(subfolder_path), 1):                                                    # Range starts from 3 as first three files are the outer directory i.e. B,I.R and O.R.\n",
    "    dir_1 = subfolder_path[i]                                                                   # We slice out each subfolder individually\n",
    "  \n",
    "    \n",
    "\n",
    "#Ball-Faults Start    \n",
    "\n",
    "#Ball faults(All the ball faults thats 4 different inches faults and in those 4 different inches each folder has 4 different folders corresponding to the load applies)  \n",
    "  \n",
    "    if '\\B' in dir_1:\n",
    "    \n",
    "        onlyfiles_2_1 = [f for f in listdir(dir_1) if isfile(join(dir_1, f))]                    #All the files in the B directory is listed out\n",
    "    \n",
    "\n",
    "        if '007' in dir_1:                                                                       #007 fault\n",
    "    \n",
    "            G_data_B_007_DE = Read_MAT_files_from_folders(dir_1, onlyfiles_2_1, \"DE\")\n",
    "        \n",
    "        elif '014' in dir_1:                                                                     #014 fault                                                                   \n",
    "    \n",
    "            G_data_B_014_DE = Read_MAT_files_from_folders(dir_1, onlyfiles_2_1, \"DE\")\n",
    "        \n",
    "        elif '021' in dir_1:                                                                    #021 fault\n",
    "    \n",
    "            G_data_B_021_DE = Read_MAT_files_from_folders(dir_1, onlyfiles_2_1, \"DE\")\n",
    "        \n",
    "        else:\n",
    "    \n",
    "            G_data_B_028_DE = Read_MAT_files_from_folders(dir_1, onlyfiles_2_1, \"DE\")             #028 fault\n",
    "  \n",
    "\n",
    "#Ball-Faults End\n",
    "  \n",
    "#Inner Race fault Start\n",
    "\n",
    "    elif '\\IR' in dir_1:\n",
    "        \n",
    "        onlyfiles_2_2 = [f for f in listdir(dir_1) if isfile(join(dir_1, f))]              #All the files in IR directory is listed\n",
    "    \n",
    "\n",
    "        if '007' in dir_1:                                                                 #007 fault\n",
    "    \n",
    "            G_data_IR_007_DE = Read_MAT_files_from_folders(dir_1, onlyfiles_2_2, \"DE\")\n",
    "        \n",
    "        elif '014' in dir_1:                                                               #014 fault\n",
    "    \n",
    "            G_data_IR_014_DE = Read_MAT_files_from_folders(dir_1, onlyfiles_2_2, \"DE\")\n",
    "        \n",
    "        elif '021' in dir_1:                                                               #021 fault\n",
    "    \n",
    "            G_data_IR_021_DE = Read_MAT_files_from_folders(dir_1, onlyfiles_2_2, \"DE\")\n",
    "        \n",
    "        else:\n",
    "    \n",
    "            G_data_IR_028_DE = Read_MAT_files_from_folders(dir_1, onlyfiles_2_2, \"DE\")       #028 fault\n",
    "\n",
    "#Inner Race fault End\n",
    "\n",
    "#Outer Race fault start\n",
    "    \n",
    "    elif '\\OR' in dir_1:\n",
    "        \n",
    "        onlyfiles_2_3 = [f for f in listdir(dir_1) if isfile(join(dir_1, f))]            #All the files in OR directory is listed\n",
    "    \n",
    "        if '007' in dir_1:                                           \n",
    "      \n",
    "            for i in range(len(onlyfiles_2_3)):\n",
    "                data_OR_007 = sio.loadmat(os.path.join(dir_1, onlyfiles_2_3[i]))\n",
    "        #print(dir_1, onlyfiles_2_3[i])\n",
    "                or_sig_007 = acceleration_time_signal(data_OR_007, code='DE')\n",
    "                G_data_OR_007_DE.append(or_sig_007)\n",
    "        elif '014' in dir_1:\n",
    "      #014\n",
    "      #print(dir_1)\n",
    "            G_data_OR_014_DE = Read_MAT_files_from_folders(dir_1, onlyfiles_2_3, \"DE\")\n",
    "        else:\n",
    "      #021\n",
    "            for i in range(len(onlyfiles_2_3)):\n",
    "        #print(dir_1, onlyfiles_2_3[i])\n",
    "                data_OR_021 = sio.loadmat(os.path.join(dir_1, onlyfiles_2_3[i]))\n",
    "                or_sig_021 = acceleration_time_signal(data_OR_021, code='DE')\n",
    "                G_data_OR_021_DE.append(or_sig_021)\n",
    "  #OR \n",
    "\n",
    "print(\"G_data_B_007_DE\", G_data_B_007_DE.shape)\n",
    "print(\"G_data_B_014_DE\", np.shape(G_data_B_014_DE))\n",
    "print(\"G_data_B_021_DE\", G_data_B_021_DE.shape)\n",
    "print(\"G_data_B_028_DE\", G_data_B_028_DE.shape)\n",
    "\n",
    "print(\"G_data_IR_007_DE\", G_data_IR_007_DE.shape)\n",
    "print(\"G_data_IR_014_DE\", np.shape(G_data_IR_014_DE))\n",
    "print(\"G_data_IR_021_DE\", G_data_IR_021_DE.shape)\n",
    "print(\"G_data_IR_028_DE\", G_data_IR_028_DE.shape)\n",
    "\n",
    "G_data_OR_007_DE = np.vstack(G_data_OR_007_DE).flatten()\n",
    "print(\"G_data_OR_007_DE\", G_data_OR_007_DE.shape)\n",
    "G_data_OR_014_DE = np.vstack(G_data_OR_014_DE).flatten()\n",
    "print(\"G_data_OR_014_DE\", np.shape(G_data_OR_014_DE))\n",
    "G_data_OR_021_DE = np.vstack(G_data_OR_021_DE).flatten()\n",
    "print(\"G_data_OR_021_DE\", G_data_OR_021_DE.shape)     "
   ]
  },
  {
   "cell_type": "code",
   "execution_count": null,
   "metadata": {},
   "outputs": [],
   "source": []
  },
  {
   "cell_type": "markdown",
   "metadata": {},
   "source": [
    "### Separate 10% from DE\n",
    "\n",
    "B,\n",
    "IR,\n",
    "OR\n",
    "10% split Train and Test. 10% - 90% split. 10% from each class for all 10 classes"
   ]
  },
  {
   "cell_type": "code",
   "execution_count": 10,
   "metadata": {},
   "outputs": [
    {
     "name": "stdout",
     "output_type": "stream",
     "text": [
      "G_data_N_DE_train (1528692,)\n",
      "G_data_N_DE_test (169855,)\n",
      "G_data_B_007_DE_train (438383,)\n",
      "G_data_B_007_DE_test (48710,)\n",
      "G_data_B_014_DE_train (439298,)\n",
      "G_data_B_014_DE_test (48811,)\n",
      "G_data_B_021_DE_train (439167,)\n",
      "G_data_B_021_DE_test (48797,)\n",
      "G_data_IR_007_DE_train (439478,)\n",
      "G_data_IR_007_DE_test (48831,)\n",
      "G_data_IR_014_DE_train (438515,)\n",
      "G_data_IR_014_DE_test (48724,)\n",
      "G_data_IR_021_DE_train (438776,)\n",
      "G_data_IR_021_DE_test (48753,)\n",
      "G_data_OR_007_DE_train (1318545,)\n",
      "G_data_OR_007_DE_test (146506,)\n",
      "G_data_OR_014_DE_train (439037,)\n",
      "G_data_OR_014_DE_test (48782,)\n",
      "G_data_OR_021_DE_train (1318938,)\n",
      "G_data_OR_021_DE_test (146549,)\n"
     ]
    }
   ],
   "source": [
    "                                                #Normal\n",
    "\n",
    "G_data_N_DE_train, G_data_N_DE_test = Percent_train_test_split(G_data_N_DE, percent = 10) \n",
    "print(\"G_data_N_DE_train\", G_data_N_DE_train.shape)\n",
    "print(\"G_data_N_DE_test\", G_data_N_DE_test.shape)\n",
    "\n",
    "                                               #Ball Fault\n",
    "    \n",
    "G_data_B_007_DE_train, G_data_B_007_DE_test = Percent_train_test_split(G_data_B_007_DE, percent = 10) \n",
    "print(\"G_data_B_007_DE_train\", G_data_B_007_DE_train.shape)\n",
    "print(\"G_data_B_007_DE_test\", G_data_B_007_DE_test.shape)\n",
    "\n",
    "G_data_B_014_DE_train, G_data_B_014_DE_test = Percent_train_test_split(G_data_B_014_DE, percent = 10) \n",
    "print(\"G_data_B_014_DE_train\", G_data_B_014_DE_train.shape)\n",
    "print(\"G_data_B_014_DE_test\", G_data_B_014_DE_test.shape)\n",
    "\n",
    "G_data_B_021_DE_train, G_data_B_021_DE_test = Percent_train_test_split(G_data_B_021_DE, percent = 10) \n",
    "print(\"G_data_B_021_DE_train\", G_data_B_021_DE_train.shape)\n",
    "print(\"G_data_B_021_DE_test\", G_data_B_021_DE_test.shape)\n",
    "\n",
    "                                                #Inner Race Fault\n",
    "\n",
    "G_data_IR_007_DE_train, G_data_IR_007_DE_test = Percent_train_test_split(G_data_IR_007_DE, percent = 10) \n",
    "print(\"G_data_IR_007_DE_train\", G_data_IR_007_DE_train.shape)\n",
    "print(\"G_data_IR_007_DE_test\", G_data_IR_007_DE_test.shape)\n",
    "\n",
    "G_data_IR_014_DE_train, G_data_IR_014_DE_test = Percent_train_test_split(G_data_IR_014_DE, percent = 10) \n",
    "print(\"G_data_IR_014_DE_train\", G_data_IR_014_DE_train.shape)\n",
    "print(\"G_data_IR_014_DE_test\", G_data_IR_014_DE_test.shape)\n",
    "\n",
    "G_data_IR_021_DE_train, G_data_IR_021_DE_test = Percent_train_test_split(G_data_IR_021_DE, percent = 10) \n",
    "print(\"G_data_IR_021_DE_train\", G_data_IR_021_DE_train.shape)\n",
    "print(\"G_data_IR_021_DE_test\", G_data_IR_021_DE_test.shape)\n",
    "\n",
    "                                               #Outer Race Fault\n",
    "    \n",
    "G_data_OR_007_DE_train, G_data_OR_007_DE_test = Percent_train_test_split(G_data_OR_007_DE, percent = 10) \n",
    "print(\"G_data_OR_007_DE_train\", G_data_OR_007_DE_train.shape)\n",
    "print(\"G_data_OR_007_DE_test\", G_data_OR_007_DE_test.shape)\n",
    "\n",
    "G_data_OR_014_DE_train, G_data_OR_014_DE_test = Percent_train_test_split(G_data_OR_014_DE, percent = 10) \n",
    "print(\"G_data_OR_014_DE_train\", G_data_OR_014_DE_train.shape)\n",
    "print(\"G_data_OR_014_DE_test\", G_data_OR_014_DE_test.shape)\n",
    "\n",
    "G_data_OR_021_DE_train, G_data_OR_021_DE_test = Percent_train_test_split(G_data_OR_021_DE, percent = 10) \n",
    "print(\"G_data_OR_021_DE_train\", G_data_OR_021_DE_train.shape)\n",
    "print(\"G_data_OR_021_DE_test\", G_data_OR_021_DE_test.shape)"
   ]
  },
  {
   "cell_type": "markdown",
   "metadata": {},
   "source": [
    "###  G data for a single file IR DE data(Checking IR 007 only)\n",
    "♦ It is a python dictionary with keys where code is the sensor position and can be:\n",
    "\n",
    "1. DE if the data comes from the sensor at the Drive End of the motor\n",
    "2. FE if the data comes from the sensor at the Fan End of the engine\n",
    "\n",
    "\n",
    "♦ We are considering ''IR 007 ''Fault to just inspect how our data is represented in the form of dictionary"
   ]
  },
  {
   "cell_type": "code",
   "execution_count": 11,
   "metadata": {},
   "outputs": [
    {
     "name": "stdout",
     "output_type": "stream",
     "text": [
      "C:\\Users\\Lenovo\\Desktop\\CWRU_NEW\\CWRU-dataset-main\\12k_Drive_End_Bearing_Fault_Data\\IR\\007 105_0.mat\n",
      "MAT File content:  {'__header__': b'MATLAB 5.0 MAT-file, Platform: PCWIN, Created on: Mon Jan 31 13:49:59 2000', '__version__': '1.0', '__globals__': [], 'X105_DE_time': array([[-0.08300435],\n",
      "       [-0.19573433],\n",
      "       [ 0.23341928],\n",
      "       ...,\n",
      "       [-0.31642363],\n",
      "       [-0.06367457],\n",
      "       [ 0.26736822]]), 'X105_FE_time': array([[-0.40207455],\n",
      "       [-0.00472545],\n",
      "       [-0.10663091],\n",
      "       ...,\n",
      "       [ 0.31598909],\n",
      "       [ 0.35091636],\n",
      "       [ 0.03307818]]), 'X105_BA_time': array([[ 0.06466148],\n",
      "       [-0.02309626],\n",
      "       [-0.08852226],\n",
      "       ...,\n",
      "       [ 0.09648926],\n",
      "       [ 0.08405591],\n",
      "       [-0.02015893]]), 'X105RPM': array([[1797]], dtype=uint16)}\n",
      "Just the G data:  [[-0.00210831]\n",
      " [-0.00497165]\n",
      " [ 0.00592885]\n",
      " ...\n",
      " [-0.00803716]\n",
      " [-0.00161733]\n",
      " [ 0.00679115]]\n"
     ]
    }
   ],
   "source": [
    "for i in range(3, len(subfolder_path), 1):\n",
    "  dir_1 = subfolder_path[i]                                                         #path of 12k drive end data is subfolder path which has all the subfloders in it\n",
    "\n",
    "  if '\\IR' in dir_1:\n",
    "    onlyfiles = [f for f in listdir(dir_1) if isfile(join(dir_1, f))]               #Giving out all the folder names of matlab files\n",
    "    \n",
    "    if '007' in dir_1:                                                               #007  fault\n",
    "    \n",
    "      \n",
    "    \n",
    "      data = sio.loadmat(os.path.join(dir_1, onlyfiles[0]))\n",
    "      print(dir_1, onlyfiles[0])\n",
    "      print(\"MAT File content: \", data)\n",
    "        \n",
    "      G_data = acceleration_time_signal(data, code='DE')\n",
    "      print(\"Just the G data: \", G_data)\n",
    "      "
   ]
  },
  {
   "cell_type": "markdown",
   "metadata": {},
   "source": [
    "### Plot\n",
    "\n",
    "♦ Some signals are plotted for the position code = DE.\n",
    "\n",
    "♦ This is the train data. The data is sampled at 12kHz, that is 12000 data points per second. \n",
    "\n",
    "♦ Plot is done for 1/10 or 10% of 1 second:"
   ]
  },
  {
   "cell_type": "markdown",
   "metadata": {},
   "source": [
    "#### ♦ We have took the train data set of Normal bearing without any fault,B007 fault,IR007 fault and OR007 fault and visuaise how acceleration data is is recorded at the drive end\n",
    "\n",
    "♦ We have also took only 1200 samples for visualisation from each group"
   ]
  },
  {
   "cell_type": "code",
   "execution_count": 12,
   "metadata": {},
   "outputs": [
    {
     "data": {
      "image/png": "[encoded data removed]",
      "text/plain": [
       "<Figure size 720x432 with 4 Axes>"
      ]
     },
     "metadata": {
      "needs_background": "light"
     },
     "output_type": "display_data"
    }
   ],
   "source": [
    "%matplotlib inline\n",
    "import matplotlib.pyplot as plt\n",
    "\n",
    "range_of_samples = range(0,1200)                    #As stated above taking 1/10 of the second therfore range is 1200\n",
    "\n",
    "# plotting\n",
    "fig, axs = plt.subplots(2, 2, sharey=True, figsize=(10, 6), constrained_layout=True)\n",
    "fig.suptitle('Acceleration data recorded at the Drive End')\n",
    "\n",
    "axs[0, 0].plot(G_data_N_DE_train[range_of_samples])\n",
    "axs[0, 0].set_title('Normal state')\n",
    "\n",
    "axs[0, 1].plot(G_data_B_007_DE_train[range_of_samples])\n",
    "axs[0, 1].set_title('Ball fault (diameter 0.007 inch)')\n",
    "\n",
    "axs[1, 0].plot(G_data_IR_007_DE_train[range_of_samples])\n",
    "axs[1, 0].set_title('Inner Race fault (diameter 0.007 inch)')\n",
    "\n",
    "axs[1, 1].plot(G_data_OR_007_DE_train[range_of_samples])\n",
    "axs[1, 1].set_title('Outer Race fault (diameter 0.007 inch)')\n",
    "\n",
    "for ax in axs.flat:\n",
    "    ax.set(xlabel='time $(s)$', ylabel='acceleration $(m/s^2)$')"
   ]
  },
  {
   "cell_type": "markdown",
   "metadata": {},
   "source": [
    "## Preprocessing and the architecture of the CNN\n",
    "\n",
    "\n",
    "\n",
    "The different preprocessing phases that we have did are\n",
    "\n",
    "♦ Breaking the Data in chunks\n",
    "\n",
    "♦ Feature engineering\n",
    "\n",
    "♦ Image creating\n",
    "\n",
    "♦ Image loading\n",
    "\n",
    "♦ Data shuffling\n",
    "\n",
    "♦ Convolutional Neural Network (CNN)[Model Building]"
   ]
  },
  {
   "cell_type": "markdown",
   "metadata": {},
   "source": [
    "#### 1. Breaking the Data in chunks\n",
    "\n",
    "♦ Acceleration data or signal is divided in chunks of size chunk_size and a subset number_of_chunks from all the available for  training and testing the CNN.\n",
    "\n",
    "♦ A chunk is simply a sequential subset of the time series data with a fixed length i.e.the chunk_size.\n",
    "\n",
    "♦ Every chunk is distinct - no overlapping samples in different chunks.\n",
    "\n",
    "♦ This method is said tumbling time windowing.\n",
    "\n",
    "♦ Each time series is an array, they have slight differences in length. \n",
    "\n",
    "♦ For a fixed chunk size to divide the file, a function needs to split the data exaclty in number_of_chunks of chunk_size and ignore the remaining part.\n",
    "\n"
   ]
  },
  {
   "cell_type": "code",
   "execution_count": 13,
   "metadata": {},
   "outputs": [],
   "source": [
    "# ♦ A function for that split_exact, takes the array for splitting, the number of chunks and the array axis to be split into.\n",
    "\n",
    "# ♦ Whole dataset remains but the vector has been divided into column chunks to build a matrix. It makes passing the whole dataset through easier and takes less time for the data to load in general.\n",
    "\n",
    "def split_exact(x, n_chunks=2, axis=1):\n",
    "    import numpy as np\n",
    "    l = np.shape(x)[axis]                                                 #Getting the first element of the tuple \n",
    "    x_split = x\n",
    "    if l > n_chunks > 1:\n",
    "        n = n_chunks\n",
    "        if axis == 0:\n",
    "            x_split = np.split(x[:-(l % n)], n, axis=axis)\n",
    "        elif axis == 1:\n",
    "            x_split = np.split(x[:, :-(l % n)], n, axis=axis)\n",
    "    return x_split"
   ]
  },
  {
   "cell_type": "markdown",
   "metadata": {},
   "source": [
    " Some operation was performed on the data. Ignoring 0.028 inch fault diameter from IR and B, only considering the rest:\n",
    "\n",
    "♦ The normal data labelled as N\n",
    "\n",
    "♦ The inner raceway data labelled as IR\n",
    "\n",
    "\n",
    "1. for 0.007 inch fault diameter\n",
    "\n",
    "2. for 0.014 inch fault diameter\n",
    "\n",
    "3. for 0.021 inch fault diameter\n",
    "\n",
    "♦ The ball damage data labelled as B\n",
    "\n",
    "1. for 0.007 inch fault diameter\n",
    "\n",
    "2. for 0.014 inch fault diameter\n",
    "\n",
    "3. for 0.021 inch fault diameter\n",
    "\n",
    "♦ The outer raceway data labelled as OR\n",
    "\n",
    "1. for 0.007 inch fault diameter\n",
    "\n",
    "2. for 0.014 inch fault diameter\n",
    "\n",
    "3. for 0.021 inch fault diameter\n",
    "\n",
    "♦ For every load, data is joined from 0...3 HP, normalizing it with respect to the standard deviation. This is because the load is not considered in Classification.\n",
    "\n",
    "♦ Several functions needed, such as; load_raw_matlab_data which returns several multidimensional arrays for N, IR, B, OR data with dimension of the maximum number_of_chunks obtainable from the data, by chunk_size."
   ]
  },
  {
   "cell_type": "code",
   "execution_count": 14,
   "metadata": {},
   "outputs": [],
   "source": [
    "import numpy as np\n",
    "\n",
    "def g_data_chunkSplit(gdata, chunk_size=128):\n",
    "    \"\"\"\n",
    "    Change loaded mat files and splits it in chunks of size chunk_size\n",
    "    \"\"\"\n",
    "    y_n = np.array([])                                                    #Empty Numpy Array\n",
    "    # signal\n",
    "    x = gdata\n",
    "    x = x / np.std(x)                                                     #Normalising the data with standard deviation for better accuracy\n",
    "    y_n = np.append(y_n, x)\n",
    "    n_splits = len(y_n) // chunk_size\n",
    "    y_n = split_exact(y_n, n_chunks=n_splits, axis=0)\n",
    "\n",
    "    return y_n"
   ]
  },
  {
   "cell_type": "code",
   "execution_count": 15,
   "metadata": {},
   "outputs": [
    {
     "name": "stdout",
     "output_type": "stream",
     "text": [
      "normal_data_chunk_DE_train (1273, 1200)\n",
      "normal_data_chunk_DE_test (141, 1204)\n",
      "b_data_chunk_007_DE_train (365, 1201)\n",
      "b_data_chunk_007_DE_test (40, 1217)\n",
      "b_data_chunk_014_DE_train (366, 1200)\n",
      "b_data_chunk_014_DE_test (40, 1220)\n",
      "b_data_chunk_021_DE_train (365, 1203)\n",
      "b_data_chunk_021_DE_test (40, 1219)\n",
      "ir_data_chunk_007_DE_train (366, 1200)\n",
      "ir_data_chunk_007_DE_test (40, 1220)\n",
      "ir_data_chunk_014_DE_train (365, 1201)\n",
      "ir_data_chunk_014_DE_test (40, 1218)\n",
      "ir_data_chunk_021_DE_train (365, 1202)\n",
      "ir_data_chunk_021_DE_test (40, 1218)\n",
      "or_data_chunk_007_DE_train (1098, 1200)\n",
      "or_data_chunk_007_DE_test (122, 1200)\n",
      "or_data_chunk_014_DE_train (365, 1202)\n",
      "or_data_chunk_014_DE_test (40, 1219)\n",
      "or_data_chunk_021_DE_train (1099, 1200)\n",
      "or_data_chunk_021_DE_test (122, 1201)\n"
     ]
    }
   ],
   "source": [
    "chunk_size = 1200\n",
    "\n",
    "\n",
    "number_of_chunks = 1400\n",
    "# Normal Bearing\n",
    "\n",
    "normal_data_chunk_DE_train = g_data_chunkSplit(G_data_N_DE_train, chunk_size=chunk_size)\n",
    "print(\"normal_data_chunk_DE_train\", np.shape(normal_data_chunk_DE_train))\n",
    "\n",
    "normal_data_chunk_DE_test = g_data_chunkSplit(G_data_N_DE_test, chunk_size=chunk_size)\n",
    "print(\"normal_data_chunk_DE_test\", np.shape(normal_data_chunk_DE_test))\n",
    "\n",
    "# Ball Fault\n",
    "\n",
    "#007 fault\n",
    "\n",
    "b_data_chunk_007_DE_train = g_data_chunkSplit(G_data_B_007_DE_train, chunk_size=chunk_size)\n",
    "print(\"b_data_chunk_007_DE_train\", np.shape(b_data_chunk_007_DE_train))\n",
    "\n",
    "b_data_chunk_007_DE_test = g_data_chunkSplit(G_data_B_007_DE_test, chunk_size=chunk_size)\n",
    "print(\"b_data_chunk_007_DE_test\", np.shape(b_data_chunk_007_DE_test))\n",
    "\n",
    "#014 fault\n",
    "\n",
    "b_data_chunk_014_DE_train = g_data_chunkSplit(G_data_B_014_DE_train, chunk_size=chunk_size)\n",
    "print(\"b_data_chunk_014_DE_train\", np.shape(b_data_chunk_014_DE_train))\n",
    "\n",
    "b_data_chunk_014_DE_test = g_data_chunkSplit(G_data_B_014_DE_test, chunk_size=chunk_size)\n",
    "print(\"b_data_chunk_014_DE_test\", np.shape(b_data_chunk_014_DE_test))\n",
    "\n",
    "#021 fault\n",
    "\n",
    "b_data_chunk_021_DE_train = g_data_chunkSplit(G_data_B_021_DE_train, chunk_size=chunk_size)\n",
    "print(\"b_data_chunk_021_DE_train\", np.shape(b_data_chunk_021_DE_train))\n",
    "\n",
    "b_data_chunk_021_DE_test = g_data_chunkSplit(G_data_B_021_DE_test, chunk_size=chunk_size)\n",
    "print(\"b_data_chunk_021_DE_test\", np.shape(b_data_chunk_021_DE_test))  \n",
    "\n",
    "\n",
    "#Inner Race fault\n",
    "\n",
    "#007 fault\n",
    "\n",
    "ir_data_chunk_007_DE_train = g_data_chunkSplit(G_data_IR_007_DE_train, chunk_size=chunk_size)\n",
    "print(\"ir_data_chunk_007_DE_train\", np.shape(ir_data_chunk_007_DE_train))\n",
    "\n",
    "ir_data_chunk_007_DE_test = g_data_chunkSplit(G_data_IR_007_DE_test, chunk_size=chunk_size)\n",
    "print(\"ir_data_chunk_007_DE_test\", np.shape(ir_data_chunk_007_DE_test))\n",
    "\n",
    "#014 fault\n",
    "\n",
    "ir_data_chunk_014_DE_train = g_data_chunkSplit(G_data_IR_014_DE_train, chunk_size=chunk_size)\n",
    "print(\"ir_data_chunk_014_DE_train\", np.shape(ir_data_chunk_014_DE_train))\n",
    "\n",
    "ir_data_chunk_014_DE_test = g_data_chunkSplit(G_data_IR_014_DE_test, chunk_size=chunk_size)\n",
    "print(\"ir_data_chunk_014_DE_test\", np.shape(ir_data_chunk_014_DE_test))\n",
    "\n",
    "#021 fault\n",
    "\n",
    "ir_data_chunk_021_DE_train = g_data_chunkSplit(G_data_IR_021_DE_train, chunk_size=chunk_size)\n",
    "print(\"ir_data_chunk_021_DE_train\", np.shape(ir_data_chunk_021_DE_train))\n",
    "\n",
    "ir_data_chunk_021_DE_test = g_data_chunkSplit(G_data_IR_021_DE_test, chunk_size=chunk_size)\n",
    "print(\"ir_data_chunk_021_DE_test\", np.shape(ir_data_chunk_021_DE_test))\n",
    "\n",
    "#Outer Race Fault\n",
    "\n",
    "#007 fault\n",
    "\n",
    "or_data_chunk_007_DE_train = g_data_chunkSplit(G_data_OR_007_DE_train, chunk_size=chunk_size)\n",
    "print(\"or_data_chunk_007_DE_train\", np.shape(or_data_chunk_007_DE_train))\n",
    "\n",
    "or_data_chunk_007_DE_test = g_data_chunkSplit(G_data_OR_007_DE_test, chunk_size=chunk_size)\n",
    "print(\"or_data_chunk_007_DE_test\", np.shape(or_data_chunk_007_DE_test))  \n",
    "\n",
    "#014 fault\n",
    "\n",
    "or_data_chunk_014_DE_train = g_data_chunkSplit(G_data_OR_014_DE_train, chunk_size=chunk_size)\n",
    "print(\"or_data_chunk_014_DE_train\", np.shape(or_data_chunk_014_DE_train))\n",
    "\n",
    "or_data_chunk_014_DE_test = g_data_chunkSplit(G_data_OR_014_DE_test, chunk_size=chunk_size)\n",
    "print(\"or_data_chunk_014_DE_test\", np.shape(or_data_chunk_014_DE_test)) \n",
    "\n",
    "#021 fault\n",
    "\n",
    "or_data_chunk_021_DE_train = g_data_chunkSplit(G_data_OR_021_DE_train, chunk_size=chunk_size)\n",
    "print(\"or_data_chunk_021_DE_train\", np.shape(or_data_chunk_021_DE_train))\n",
    "\n",
    "or_data_chunk_021_DE_test = g_data_chunkSplit(G_data_OR_021_DE_test, chunk_size=chunk_size)\n",
    "print(\"or_data_chunk_021_DE_test\", np.shape(or_data_chunk_021_DE_test))"
   ]
  },
  {
   "cell_type": "markdown",
   "metadata": {},
   "source": [
    "#### 2. Feature engineering\n",
    "\n",
    "♦ Each chunk of data is preprocessed. A time/fequency image is extracted from each chunk with preprocessing techniques. \n",
    "\n",
    "♦ For all the images, a min max normalization was used, to have mapping only in the range [0,1].\n",
    "\n"
   ]
  },
  {
   "cell_type": "code",
   "execution_count": 16,
   "metadata": {},
   "outputs": [],
   "source": [
    "def min_max_norm(ary):\n",
    "    ary = (ary - ary.min()) / np.abs(ary.max() - ary.min())\n",
    "    return ary"
   ]
  },
  {
   "cell_type": "markdown",
   "metadata": {},
   "source": [
    "#### 2.1 Short Time Fourier Transform\n",
    "\n",
    "♦\n",
    "The function generate_spectrogram_image(data_y_vector, image_shape) takes a time series as input and the resolution of the image that it will generate and returns the Short time Fourier Transform Spectrogram which is then normalized in the range [0,1]"
   ]
  },
  {
   "cell_type": "code",
   "execution_count": 17,
   "metadata": {},
   "outputs": [],
   "source": [
    "\n",
    "from scipy import signal\n",
    "from skimage.transform import resize\n",
    "\n",
    "def generate_spectrogram_image(data_y_vector, image_shape):\n",
    "    \"\"\"\n",
    "    Calculate the spectrogram of an array data_y_vector and resize it in \n",
    "    the image_shape resolution\n",
    "    \"\"\"\n",
    "    fs = 12000                                                                                #frequency\n",
    "    data_y_vector_len = np.shape(data_y_vector)[0]                                            #taking the first element of tuple when shape of the array is spit out\n",
    "\n",
    "    f, t, sxx = signal.spectrogram(\n",
    "        data_y_vector,\n",
    "        fs)\n",
    "\n",
    "    sxx = min_max_norm(sxx)                                                                  # f is array of sample frequencies,t is array of sample times and sxx is spectrogram output of the given array\n",
    "    sxx = resize(sxx, image_shape, mode='constant', anti_aliasing=True)\n",
    "\n",
    "    return sxx"
   ]
  },
  {
   "cell_type": "markdown",
   "metadata": {},
   "source": [
    "#### A look at the Short Time Fourier Transform of one chunk of the data N, IR, B and OR:"
   ]
  },
  {
   "cell_type": "code",
   "execution_count": 18,
   "metadata": {},
   "outputs": [
    {
     "name": "stderr",
     "output_type": "stream",
     "text": [
      "<ipython-input-18-a4daf9675aee>:25: UserWarning: Matplotlib is currently using module://ipykernel.pylab.backend_inline, which is a non-GUI backend, so cannot show the figure.\n",
      "  fig.show()\n"
     ]
    },
    {
     "data": {
      "image/png": "[encoded data removed]",
      "text/plain": [
       "<Figure size 864x216 with 4 Axes>"
      ]
     },
     "metadata": {
      "needs_background": "light"
     },
     "output_type": "display_data"
    }
   ],
   "source": [
    "\n",
    "import matplotlib.pyplot as plt\n",
    "fig, (plt1, plt2, plt3, plt4) = plt.subplots(1, 4, sharey = True, figsize=(12,3), constrained_layout=True)\n",
    "\n",
    "plt1.set_xlabel(\"time\")\n",
    "plt1.set_ylabel(\"frequency\")\n",
    "plt1.set_title('Normal state')\n",
    "plt1.imshow(generate_spectrogram_image(normal_data_chunk_DE_train[3], (96,96)))              # One chunk out of n number of chunks created used for generating the image(3rd chunk actually here)\n",
    "\n",
    "plt2.set_xlabel(\"time\")\n",
    "plt2.set_ylabel(\"frequency\")\n",
    "plt2.set_title('Inner Race fault')\n",
    "plt2.imshow(generate_spectrogram_image(ir_data_chunk_007_DE_train[3], (96,96)))\n",
    "\n",
    "plt3.set_xlabel(\"time\")\n",
    "plt3.set_ylabel(\"frequency\")\n",
    "plt3.set_title('Ball fault')\n",
    "plt3.imshow(generate_spectrogram_image(b_data_chunk_007_DE_train[3], (96,96)))\n",
    "\n",
    "plt4.set_xlabel(\"time\")\n",
    "plt4.set_ylabel(\"frequency\")\n",
    "plt4.set_title('Outer Race fault')\n",
    "plt4.imshow(generate_spectrogram_image(or_data_chunk_007_DE_train[3], (96,96)))\n",
    "\n",
    "fig.suptitle('STFT - 0.007 inches fault diameter, Drive End')\n",
    "fig.show()"
   ]
  },
  {
   "cell_type": "markdown",
   "metadata": {},
   "source": [
    "### 3. Image creating and Data shuffling\n",
    "\n",
    "♦ Several images are created that are going to be used to train the CNN. \n",
    "\n",
    "♦ Some functions are needed to help in creating the folders in which the images will be stored and to label correctly the files generated, depending on the parameters chosen, such as position, image_type, image_shape, etc.\n",
    "\n",
    "♦ A random shuffling is done between the chunks at this stage, to avoid that the CNN gets trained on images that are of adjacent time windows.\n",
    "\n",
    "♦ Also a Directory is created for putting the created and loaded images\n",
    "\n"
   ]
  },
  {
   "cell_type": "code",
   "execution_count": 19,
   "metadata": {},
   "outputs": [],
   "source": [
    "def try_make_directories():                                                  # Creating two new folder named in the data_directories\n",
    "    data_directories = [\"dataset\", \"npy_dataset\"]\n",
    "    for directory in data_directories:\n",
    "        try:\n",
    "            os.makedirs(f'./{directory}')\n",
    "        except OSError as e:\n",
    "            if e.errno != errno.EEXIST:\n",
    "                raise"
   ]
  },
  {
   "cell_type": "code",
   "execution_count": 20,
   "metadata": {},
   "outputs": [],
   "source": [
    "from tqdm.notebook import tqdm                                                                         #For Progress bar\n",
    "from enum import Enum\n",
    "#\n",
    "def create_image_by_label_database(\n",
    "        position,\n",
    "        data_for,\n",
    "        image_types,\n",
    "        image_shape,\n",
    "        shuffle_across_time=True,\n",
    "        overwrite_existing_file=False):\n",
    "\n",
    "    try_make_directories()                                                 #creating the directories\n",
    "\n",
    "    filename_for_images_by_labels = npy_dataset_filename(\n",
    "        position,\n",
    "        data_for,\n",
    "        image_types,\n",
    "        image_shape,\n",
    "        shuffle_across_time\n",
    "    )\n",
    "\n",
    "    if overwrite_existing_file is False:\n",
    "        import os\n",
    "        if os.path.isfile(filename_for_images_by_labels):\n",
    "            print(\n",
    "                \"File already exists. Use 'overwrite_existing_file' if you wish to regenerate and overwrite it. Bye.\")\n",
    "            return\n",
    "#   \n",
    "    if position == \"DE\":\n",
    "      if data_for == \"train\":\n",
    "        len_n = np.shape(normal_data_chunk_DE_train)[0]\n",
    "        len_b_007 = np.shape(b_data_chunk_007_DE_train)[0]\n",
    "        len_b_014 = np.shape(b_data_chunk_014_DE_train)[0]\n",
    "        len_b_021 = np.shape(b_data_chunk_021_DE_train)[0]\n",
    "        len_ir_007 = np.shape(ir_data_chunk_007_DE_train)[0]\n",
    "        len_ir_014 = np.shape(ir_data_chunk_014_DE_train)[0]\n",
    "        len_ir_021 = np.shape(ir_data_chunk_021_DE_train)[0]\n",
    "        len_or_007 = np.shape(or_data_chunk_007_DE_train)[0]\n",
    "        len_or_014 = np.shape(or_data_chunk_014_DE_train)[0]\n",
    "        len_or_021 = np.shape(or_data_chunk_021_DE_train)[0]\n",
    "        len_data = min(len_n, len_b_007, len_b_014, len_b_021, len_ir_007, len_ir_014, len_ir_021, len_or_007, len_or_014, len_or_021, number_of_chunks)\n",
    "      \n",
    "        normal_data = normal_data_chunk_DE_train\n",
    "        b_data_007 = b_data_chunk_007_DE_train\n",
    "        b_data_014 = b_data_chunk_014_DE_train \n",
    "        b_data_021 = b_data_chunk_021_DE_train\n",
    "        ir_data_007 = ir_data_chunk_007_DE_train\n",
    "        ir_data_014 = ir_data_chunk_014_DE_train\n",
    "        ir_data_021 = ir_data_chunk_021_DE_train\n",
    "        or_data_007 = or_data_chunk_007_DE_train\n",
    "        or_data_014 = or_data_chunk_014_DE_train\n",
    "        or_data_021 = or_data_chunk_021_DE_train\n",
    "      \n",
    "      elif data_for == \"test\":\n",
    "        len_n = np.shape(normal_data_chunk_DE_test)[0]\n",
    "        len_b_007 = np.shape(b_data_chunk_007_DE_test)[0]\n",
    "        len_b_014 = np.shape(b_data_chunk_014_DE_test)[0]\n",
    "        len_b_021 = np.shape(b_data_chunk_021_DE_test)[0]\n",
    "        len_ir_007 = np.shape(ir_data_chunk_007_DE_test)[0]\n",
    "        len_ir_014 = np.shape(ir_data_chunk_014_DE_test)[0]\n",
    "        len_ir_021 = np.shape(ir_data_chunk_021_DE_test)[0]\n",
    "        len_or_007 = np.shape(or_data_chunk_007_DE_test)[0]\n",
    "        len_or_014 = np.shape(or_data_chunk_014_DE_test)[0]\n",
    "        len_or_021 = np.shape(or_data_chunk_021_DE_test)[0]\n",
    "        len_data = min(len_n, len_b_007, len_b_014, len_b_021, len_ir_007, len_ir_014, len_ir_021, len_or_007, len_or_014, len_or_021, number_of_chunks)\n",
    "      \n",
    "        normal_data = normal_data_chunk_DE_test\n",
    "        b_data_007 = b_data_chunk_007_DE_test\n",
    "        b_data_014 = b_data_chunk_014_DE_test \n",
    "        b_data_021 = b_data_chunk_021_DE_test\n",
    "        ir_data_007 = ir_data_chunk_007_DE_test\n",
    "        ir_data_014 = ir_data_chunk_014_DE_test\n",
    "        ir_data_021 = ir_data_chunk_021_DE_test\n",
    "        or_data_007 = or_data_chunk_007_DE_test\n",
    "        or_data_014 = or_data_chunk_014_DE_test\n",
    "        or_data_021 = or_data_chunk_021_DE_test\n",
    "\n",
    "      if shuffle_across_time:\n",
    "          # so the first N chunks will be taken at random time from the whole time window\n",
    "          np.random.shuffle(normal_data)\n",
    "          np.random.shuffle(b_data_007)\n",
    "          np.random.shuffle(b_data_014)\n",
    "          np.random.shuffle(b_data_021)\n",
    "          np.random.shuffle(ir_data_007)\n",
    "          np.random.shuffle(ir_data_014)\n",
    "          np.random.shuffle(ir_data_021)\n",
    "          np.random.shuffle(or_data_007)\n",
    "          np.random.shuffle(or_data_014)\n",
    "          np.random.shuffle(or_data_021) \n",
    "        \n",
    "      images_by_labels = {'n': [], 'b_0.007inch': [], 'b_0.014inch': [], 'b_0.021inch': [],'ir_0.007inch': [], 'ir_0.014inch': [], 'ir_0.021inch': [], 'or_0.007inch': [], 'or_0.014inch': [], 'or_0.021inch': []}\n",
    "      #display(int(len_data))\n",
    "      #1\n",
    "      for i in tqdm(range(int(len_n))):\n",
    "          #display(len(normal_data), normal_data[i].shape)\n",
    "          n_images = generate_rgba_images_from_data(normal_data[i], image_shape, image_types)\n",
    "\n",
    "          images_by_labels['n'].extend(n_images)\n",
    "      #2\n",
    "      for i in tqdm(np.arange(len_b_007)):    \n",
    "          b_images_007 = generate_rgba_images_from_data(b_data_007[i], image_shape, image_types)\n",
    "        \n",
    "          images_by_labels['b_0.007inch'].extend(b_images_007)\n",
    "      #3\n",
    "      for i in tqdm(np.arange(len_b_014)):    \n",
    "          b_images_014 = generate_rgba_images_from_data(b_data_014[i], image_shape, image_types)\n",
    "        \n",
    "          images_by_labels['b_0.014inch'].extend(b_images_014)\n",
    "      #4\n",
    "      for i in tqdm(np.arange(len_b_021)):    \n",
    "          b_images_021 = generate_rgba_images_from_data(b_data_021[i], image_shape, image_types)\n",
    "        \n",
    "          images_by_labels['b_0.021inch'].extend(b_images_021)\n",
    "      #5\n",
    "      for i in tqdm(np.arange(len_ir_007)):\n",
    "          ir_images_007 = generate_rgba_images_from_data(ir_data_007[i], image_shape, image_types)\n",
    "        \n",
    "          images_by_labels['ir_0.007inch'].extend(ir_images_007)\n",
    "      #6\n",
    "      for i in tqdm(np.arange(len_ir_014)):\n",
    "          ir_images_014 = generate_rgba_images_from_data(ir_data_014[i], image_shape, image_types)\n",
    "        \n",
    "          images_by_labels['ir_0.014inch'].extend(ir_images_014)\n",
    "      #7\n",
    "      for i in tqdm(np.arange(len_ir_021)):    \n",
    "          ir_images_021 = generate_rgba_images_from_data(ir_data_021[i], image_shape, image_types)\n",
    "          \n",
    "          images_by_labels['ir_0.021inch'].extend(ir_images_021)\n",
    "      #8\n",
    "      for i in tqdm(np.arange(len_or_007)):    \n",
    "          or_images_007 = generate_rgba_images_from_data(or_data_007[i], image_shape, image_types)\n",
    "        \n",
    "          images_by_labels['or_0.007inch'].extend(or_images_007)\n",
    "      #9\n",
    "      for i in tqdm(np.arange(len_or_014)):    \n",
    "          or_images_014 = generate_rgba_images_from_data(or_data_014[i], image_shape, image_types)\n",
    "        \n",
    "          images_by_labels['or_0.014inch'].extend(or_images_014)\n",
    "      #10\n",
    "      for i in tqdm(np.arange(len_or_021)):    \n",
    "          or_images_021 = generate_rgba_images_from_data(or_data_021[i], image_shape, image_types)\n",
    "        \n",
    "          images_by_labels['or_0.021inch'].extend(or_images_021)\n",
    "\n",
    "\n",
    "    print(f'Saving {filename_for_images_by_labels}')\n",
    "    np.save(f'{filename_for_images_by_labels}', images_by_labels)\n",
    "    \n",
    "    \n",
    "        \n",
    "#Giving appropraite names to the files created according to their respective attributes\n",
    "\n",
    "def npy_dataset_filename(\n",
    "        position,\n",
    "        data_for,\n",
    "        image_types,\n",
    "        image_shape,\n",
    "        shuffle_across_time):\n",
    "    filename_suffix = \\\n",
    "        (f'_Position_{position}') + \\\n",
    "        (f'_DataFor_{data_for}') + \\\n",
    "        f'_types{\"-\".join([str(t)[10:12] for t in image_types])}' + \\\n",
    "        (f'_timeshuffled' if shuffle_across_time else '') + \\\n",
    "        f'_shape{image_shape[0]}-{image_shape[1]}'\n",
    "    filename = f'./npy_dataset/images_by_labels_for_cnn{filename_suffix}.npy'\n",
    "    return filename\n",
    "\n",
    "\n",
    "#Generating RGBA images using the function created earlier\n",
    "\n",
    "def generate_rgba_images_from_data(\n",
    "        vector_y_data,\n",
    "        image_shape,\n",
    "        image_types):\n",
    "    images = []\n",
    "    if ImageType.SPECTROGRAM in image_types:\n",
    "        images.append(generate_spectrogram_image(vector_y_data, image_shape))\n",
    "\n",
    "    images_rgba = ary_to_rgba(images)\n",
    "\n",
    "    return images_rgba\n",
    "\n",
    "def ary_to_rgba(ary, nchannels=1):\n",
    "    from matplotlib import cm                        #A mixin class to map scalar data to RGBA.The ScalarMappable applies data normalization before returning RGBA colors from the given colormap.\n",
    "\n",
    "    ary_dim = (np.shape(ary))\n",
    "\n",
    "    im = np.empty(shape=(ary_dim[0], ary_dim[1], ary_dim[2], nchannels)).astype('uint8')\n",
    "    for i in np.arange(0, len(ary)):\n",
    "        im[i, :] = np.log(ary[i] + 1e-6).reshape(ary_dim[0], ary_dim[1], ary_dim[2], nchannels)\n",
    "    return im\n",
    "#\n",
    "\n",
    "class ImageType(Enum):\n",
    "    SCALOGRAM = 1\n",
    "    SPECTROGRAM = 2\n",
    "    QTRANSFORM = 3"
   ]
  },
  {
   "cell_type": "markdown",
   "metadata": {},
   "source": [
    "### 3 .1 Creating the Images using the above function\n",
    "\n"
   ]
  },
  {
   "cell_type": "markdown",
   "metadata": {},
   "source": [
    "#### ♦ Image Creation for train data set"
   ]
  },
  {
   "cell_type": "code",
   "execution_count": 21,
   "metadata": {},
   "outputs": [
    {
     "data": {
      "application/vnd.jupyter.widget-view+json": {
       "model_id": "5e5843ca6e164b61a008699a4b2ba906",
       "version_major": 2,
       "version_minor": 0
      },
      "text/plain": [
       "HBox(children=(HTML(value=''), FloatProgress(value=0.0, max=1273.0), HTML(value='')))"
      ]
     },
     "metadata": {},
     "output_type": "display_data"
    },
    {
     "name": "stdout",
     "output_type": "stream",
     "text": [
      "\n"
     ]
    },
    {
     "data": {
      "application/vnd.jupyter.widget-view+json": {
       "model_id": "f6131d59f2d245229f6dfe2245b6eea0",
       "version_major": 2,
       "version_minor": 0
      },
      "text/plain": [
       "HBox(children=(HTML(value=''), FloatProgress(value=0.0, max=365.0), HTML(value='')))"
      ]
     },
     "metadata": {},
     "output_type": "display_data"
    },
    {
     "name": "stdout",
     "output_type": "stream",
     "text": [
      "\n"
     ]
    },
    {
     "data": {
      "application/vnd.jupyter.widget-view+json": {
       "model_id": "f9b071e185db4d0985b7a15d5b73f464",
       "version_major": 2,
       "version_minor": 0
      },
      "text/plain": [
       "HBox(children=(HTML(value=''), FloatProgress(value=0.0, max=366.0), HTML(value='')))"
      ]
     },
     "metadata": {},
     "output_type": "display_data"
    },
    {
     "name": "stdout",
     "output_type": "stream",
     "text": [
      "\n"
     ]
    },
    {
     "data": {
      "application/vnd.jupyter.widget-view+json": {
       "model_id": "e16e53208f0e4ce5bfd70709077c08f6",
       "version_major": 2,
       "version_minor": 0
      },
      "text/plain": [
       "HBox(children=(HTML(value=''), FloatProgress(value=0.0, max=365.0), HTML(value='')))"
      ]
     },
     "metadata": {},
     "output_type": "display_data"
    },
    {
     "name": "stdout",
     "output_type": "stream",
     "text": [
      "\n"
     ]
    },
    {
     "data": {
      "application/vnd.jupyter.widget-view+json": {
       "model_id": "17545a13b497458d890bf5b6ac2f38c9",
       "version_major": 2,
       "version_minor": 0
      },
      "text/plain": [
       "HBox(children=(HTML(value=''), FloatProgress(value=0.0, max=366.0), HTML(value='')))"
      ]
     },
     "metadata": {},
     "output_type": "display_data"
    },
    {
     "name": "stdout",
     "output_type": "stream",
     "text": [
      "\n"
     ]
    },
    {
     "data": {
      "application/vnd.jupyter.widget-view+json": {
       "model_id": "f38e57c0d49a4bc49eb5bf30c2e819ba",
       "version_major": 2,
       "version_minor": 0
      },
      "text/plain": [
       "HBox(children=(HTML(value=''), FloatProgress(value=0.0, max=365.0), HTML(value='')))"
      ]
     },
     "metadata": {},
     "output_type": "display_data"
    },
    {
     "name": "stdout",
     "output_type": "stream",
     "text": [
      "\n"
     ]
    },
    {
     "data": {
      "application/vnd.jupyter.widget-view+json": {
       "model_id": "059a45613e884beda737eb0a3a4e92c7",
       "version_major": 2,
       "version_minor": 0
      },
      "text/plain": [
       "HBox(children=(HTML(value=''), FloatProgress(value=0.0, max=365.0), HTML(value='')))"
      ]
     },
     "metadata": {},
     "output_type": "display_data"
    },
    {
     "name": "stdout",
     "output_type": "stream",
     "text": [
      "\n"
     ]
    },
    {
     "data": {
      "application/vnd.jupyter.widget-view+json": {
       "model_id": "c7bd00f674244d2fba16bd7af7bc3199",
       "version_major": 2,
       "version_minor": 0
      },
      "text/plain": [
       "HBox(children=(HTML(value=''), FloatProgress(value=0.0, max=1098.0), HTML(value='')))"
      ]
     },
     "metadata": {},
     "output_type": "display_data"
    },
    {
     "name": "stdout",
     "output_type": "stream",
     "text": [
      "\n"
     ]
    },
    {
     "data": {
      "application/vnd.jupyter.widget-view+json": {
       "model_id": "520b96697dff4b9ba01caab8d70669b6",
       "version_major": 2,
       "version_minor": 0
      },
      "text/plain": [
       "HBox(children=(HTML(value=''), FloatProgress(value=0.0, max=365.0), HTML(value='')))"
      ]
     },
     "metadata": {},
     "output_type": "display_data"
    },
    {
     "name": "stdout",
     "output_type": "stream",
     "text": [
      "\n"
     ]
    },
    {
     "data": {
      "application/vnd.jupyter.widget-view+json": {
       "model_id": "d440f44a257c43459013f7c1e06aca48",
       "version_major": 2,
       "version_minor": 0
      },
      "text/plain": [
       "HBox(children=(HTML(value=''), FloatProgress(value=0.0, max=1099.0), HTML(value='')))"
      ]
     },
     "metadata": {},
     "output_type": "display_data"
    },
    {
     "name": "stdout",
     "output_type": "stream",
     "text": [
      "\n",
      "Saving ./npy_dataset/images_by_labels_for_cnn_Position_DE_DataFor_train_typesSP_timeshuffled_shape96-96.npy\n"
     ]
    }
   ],
   "source": [
    "create_image_by_label_database(\n",
    "    position=\"DE\", \n",
    "    data_for = \"train\",\n",
    "    image_types=[ImageType.SPECTROGRAM], \n",
    "    image_shape=(96, 96), \n",
    "    shuffle_across_time=True,\n",
    "    overwrite_existing_file=True)"
   ]
  },
  {
   "cell_type": "markdown",
   "metadata": {},
   "source": [
    "#### Image Creation for test data set"
   ]
  },
  {
   "cell_type": "code",
   "execution_count": 22,
   "metadata": {},
   "outputs": [
    {
     "data": {
      "application/vnd.jupyter.widget-view+json": {
       "model_id": "fbae05ecc82f4b52ad7ce548526c47ab",
       "version_major": 2,
       "version_minor": 0
      },
      "text/plain": [
       "HBox(children=(HTML(value=''), FloatProgress(value=0.0, max=141.0), HTML(value='')))"
      ]
     },
     "metadata": {},
     "output_type": "display_data"
    },
    {
     "name": "stdout",
     "output_type": "stream",
     "text": [
      "\n"
     ]
    },
    {
     "data": {
      "application/vnd.jupyter.widget-view+json": {
       "model_id": "0cda54480c854a599dfd65974f2647a4",
       "version_major": 2,
       "version_minor": 0
      },
      "text/plain": [
       "HBox(children=(HTML(value=''), FloatProgress(value=0.0, max=40.0), HTML(value='')))"
      ]
     },
     "metadata": {},
     "output_type": "display_data"
    },
    {
     "name": "stdout",
     "output_type": "stream",
     "text": [
      "\n"
     ]
    },
    {
     "data": {
      "application/vnd.jupyter.widget-view+json": {
       "model_id": "36e5eb627e9d4621b29259d766f157c1",
       "version_major": 2,
       "version_minor": 0
      },
      "text/plain": [
       "HBox(children=(HTML(value=''), FloatProgress(value=0.0, max=40.0), HTML(value='')))"
      ]
     },
     "metadata": {},
     "output_type": "display_data"
    },
    {
     "name": "stdout",
     "output_type": "stream",
     "text": [
      "\n"
     ]
    },
    {
     "data": {
      "application/vnd.jupyter.widget-view+json": {
       "model_id": "bfe6a31352c34389aba638050fd7ea51",
       "version_major": 2,
       "version_minor": 0
      },
      "text/plain": [
       "HBox(children=(HTML(value=''), FloatProgress(value=0.0, max=40.0), HTML(value='')))"
      ]
     },
     "metadata": {},
     "output_type": "display_data"
    },
    {
     "name": "stdout",
     "output_type": "stream",
     "text": [
      "\n"
     ]
    },
    {
     "data": {
      "application/vnd.jupyter.widget-view+json": {
       "model_id": "1cdf0f9a34c64ad19c84ab195e4782d5",
       "version_major": 2,
       "version_minor": 0
      },
      "text/plain": [
       "HBox(children=(HTML(value=''), FloatProgress(value=0.0, max=40.0), HTML(value='')))"
      ]
     },
     "metadata": {},
     "output_type": "display_data"
    },
    {
     "name": "stdout",
     "output_type": "stream",
     "text": [
      "\n"
     ]
    },
    {
     "data": {
      "application/vnd.jupyter.widget-view+json": {
       "model_id": "d19f995f188e473cb55482fd512998c7",
       "version_major": 2,
       "version_minor": 0
      },
      "text/plain": [
       "HBox(children=(HTML(value=''), FloatProgress(value=0.0, max=40.0), HTML(value='')))"
      ]
     },
     "metadata": {},
     "output_type": "display_data"
    },
    {
     "name": "stdout",
     "output_type": "stream",
     "text": [
      "\n"
     ]
    },
    {
     "data": {
      "application/vnd.jupyter.widget-view+json": {
       "model_id": "a80669536e0e48bb9a2f2c35eb0ca9ea",
       "version_major": 2,
       "version_minor": 0
      },
      "text/plain": [
       "HBox(children=(HTML(value=''), FloatProgress(value=0.0, max=40.0), HTML(value='')))"
      ]
     },
     "metadata": {},
     "output_type": "display_data"
    },
    {
     "name": "stdout",
     "output_type": "stream",
     "text": [
      "\n"
     ]
    },
    {
     "data": {
      "application/vnd.jupyter.widget-view+json": {
       "model_id": "87e91ec550e641b1ae98dc66d48b949a",
       "version_major": 2,
       "version_minor": 0
      },
      "text/plain": [
       "HBox(children=(HTML(value=''), FloatProgress(value=0.0, max=122.0), HTML(value='')))"
      ]
     },
     "metadata": {},
     "output_type": "display_data"
    },
    {
     "name": "stdout",
     "output_type": "stream",
     "text": [
      "\n"
     ]
    },
    {
     "data": {
      "application/vnd.jupyter.widget-view+json": {
       "model_id": "d24072e106fb41c2a4264a4e2159cd2c",
       "version_major": 2,
       "version_minor": 0
      },
      "text/plain": [
       "HBox(children=(HTML(value=''), FloatProgress(value=0.0, max=40.0), HTML(value='')))"
      ]
     },
     "metadata": {},
     "output_type": "display_data"
    },
    {
     "name": "stdout",
     "output_type": "stream",
     "text": [
      "\n"
     ]
    },
    {
     "data": {
      "application/vnd.jupyter.widget-view+json": {
       "model_id": "4c094226aefc4a95ad5331244cdcef91",
       "version_major": 2,
       "version_minor": 0
      },
      "text/plain": [
       "HBox(children=(HTML(value=''), FloatProgress(value=0.0, max=122.0), HTML(value='')))"
      ]
     },
     "metadata": {},
     "output_type": "display_data"
    },
    {
     "name": "stdout",
     "output_type": "stream",
     "text": [
      "\n",
      "Saving ./npy_dataset/images_by_labels_for_cnn_Position_DE_DataFor_test_typesSP_timeshuffled_shape96-96.npy\n"
     ]
    }
   ],
   "source": [
    "create_image_by_label_database(\n",
    "    position=\"DE\", \n",
    "    data_for = \"test\",\n",
    "    image_types=[ImageType.SPECTROGRAM], \n",
    "    image_shape=(96, 96), \n",
    "    shuffle_across_time=True,\n",
    "    overwrite_existing_file=True)"
   ]
  },
  {
   "cell_type": "markdown",
   "metadata": {},
   "source": [
    "### 4. Preparing Train-Test Data\n",
    "\n",
    "♦  Now to define a function that loads the images that were generated."
   ]
  },
  {
   "cell_type": "markdown",
   "metadata": {},
   "source": [
    "#### 4.4.1 Loading the images created above"
   ]
  },
  {
   "cell_type": "code",
   "execution_count": 23,
   "metadata": {},
   "outputs": [],
   "source": [
    "def load_images_by_labels_by_params(\n",
    "        position,\n",
    "        data_for,\n",
    "        image_types ,\n",
    "        image_shape,\n",
    "        chunks_are_shuffled_across_time=True):\n",
    "    filename = npy_dataset_filename(\n",
    "        position,\n",
    "        data_for,\n",
    "        image_types,\n",
    "        image_shape,\n",
    "        chunks_are_shuffled_across_time)\n",
    "\n",
    "    loaded = np.load(filename, allow_pickle=True)\n",
    "    print(f\"Successfully loaded file {filename}\")\n",
    "    return loaded.item()                                     # item() gets the actual dictionary from the loaded object"
   ]
  },
  {
   "cell_type": "markdown",
   "metadata": {},
   "source": [
    "♦ With the aid of the previous function the images for DE Train data is loaded"
   ]
  },
  {
   "cell_type": "code",
   "execution_count": 24,
   "metadata": {},
   "outputs": [
    {
     "name": "stdout",
     "output_type": "stream",
     "text": [
      "Successfully loaded file ./npy_dataset/images_by_labels_for_cnn_Position_DE_DataFor_train_typesSP_timeshuffled_shape96-96.npy\n"
     ]
    }
   ],
   "source": [
    "position = \"DE\"\n",
    "data_for = \"train\"\n",
    "image_types=[ImageType.SPECTROGRAM]\n",
    "image_shape = (96, 96)\n",
    "shuffle_chunks_across_time=True\n",
    "\n",
    "images_by_labels_for_cnn_train = load_images_by_labels_by_params(\n",
    "    position=position,\n",
    "    data_for = data_for,    \n",
    "    image_types=image_types, \n",
    "    image_shape=image_shape,\n",
    "    chunks_are_shuffled_across_time=shuffle_chunks_across_time)"
   ]
  },
  {
   "cell_type": "markdown",
   "metadata": {},
   "source": [
    "♦ With the aid of the previous function the images for DE Test data is loaded"
   ]
  },
  {
   "cell_type": "code",
   "execution_count": 25,
   "metadata": {},
   "outputs": [
    {
     "name": "stdout",
     "output_type": "stream",
     "text": [
      "Successfully loaded file ./npy_dataset/images_by_labels_for_cnn_Position_DE_DataFor_test_typesSP_timeshuffled_shape96-96.npy\n"
     ]
    }
   ],
   "source": [
    "position = \"DE\"\n",
    "data_for = \"test\"\n",
    "image_types=[ImageType.SPECTROGRAM]\n",
    "image_shape = (96, 96)\n",
    "shuffle_chunks_across_time=True\n",
    "\n",
    "images_by_labels_for_cnn_test = load_images_by_labels_by_params(\n",
    "    position=position,\n",
    "    data_for = data_for,    \n",
    "    image_types=image_types, \n",
    "    image_shape=image_shape,\n",
    "    chunks_are_shuffled_across_time=shuffle_chunks_across_time)"
   ]
  },
  {
   "cell_type": "markdown",
   "metadata": {},
   "source": [
    "#### ♦ Now to see the Dimensions of the Images created by us, We use the below Code Block"
   ]
  },
  {
   "cell_type": "code",
   "execution_count": 26,
   "metadata": {},
   "outputs": [
    {
     "data": {
      "text/plain": [
       "dict_keys(['n', 'b_0.007inch', 'b_0.014inch', 'b_0.021inch', 'ir_0.007inch', 'ir_0.014inch', 'ir_0.021inch', 'or_0.007inch', 'or_0.014inch', 'or_0.021inch'])"
      ]
     },
     "metadata": {},
     "output_type": "display_data"
    },
    {
     "data": {
      "text/plain": [
       "dict_keys(['n', 'b_0.007inch', 'b_0.014inch', 'b_0.021inch', 'ir_0.007inch', 'ir_0.014inch', 'ir_0.021inch', 'or_0.007inch', 'or_0.014inch', 'or_0.021inch'])"
      ]
     },
     "metadata": {},
     "output_type": "display_data"
    },
    {
     "data": {
      "text/plain": [
       "dict"
      ]
     },
     "metadata": {},
     "output_type": "display_data"
    },
    {
     "data": {
      "text/plain": [
       "dict"
      ]
     },
     "metadata": {},
     "output_type": "display_data"
    },
    {
     "data": {
      "text/plain": [
       "(1273, 96, 96, 1)"
      ]
     },
     "metadata": {},
     "output_type": "display_data"
    },
    {
     "data": {
      "text/plain": [
       "(365, 96, 96, 1)"
      ]
     },
     "metadata": {},
     "output_type": "display_data"
    },
    {
     "data": {
      "text/plain": [
       "(366, 96, 96, 1)"
      ]
     },
     "metadata": {},
     "output_type": "display_data"
    },
    {
     "data": {
      "text/plain": [
       "(1098, 96, 96, 1)"
      ]
     },
     "metadata": {},
     "output_type": "display_data"
    },
    {
     "data": {
      "text/plain": [
       "(141, 96, 96, 1)"
      ]
     },
     "metadata": {},
     "output_type": "display_data"
    },
    {
     "data": {
      "text/plain": [
       "(40, 96, 96, 1)"
      ]
     },
     "metadata": {},
     "output_type": "display_data"
    },
    {
     "data": {
      "text/plain": [
       "(40, 96, 96, 1)"
      ]
     },
     "metadata": {},
     "output_type": "display_data"
    },
    {
     "data": {
      "text/plain": [
       "(122, 96, 96, 1)"
      ]
     },
     "metadata": {},
     "output_type": "display_data"
    }
   ],
   "source": [
    "\n",
    "\n",
    "#To get the key's present in of both the dicts(loaded images actually)\n",
    "\n",
    "display(images_by_labels_for_cnn_train.keys())\n",
    "display(images_by_labels_for_cnn_test.keys())\n",
    "\n",
    "# Just to cross check if they are indeed dictionaries\n",
    "\n",
    "display(type(images_by_labels_for_cnn_train))\n",
    "display(type(images_by_labels_for_cnn_test))\n",
    "\n",
    "# Checking the shape of DE Train data for 007 inch fault\n",
    "\n",
    "display(np.shape(images_by_labels_for_cnn_train['n']))\n",
    "display(np.shape(images_by_labels_for_cnn_train['b_0.007inch']))\n",
    "display(np.shape(images_by_labels_for_cnn_train['ir_0.007inch']))\n",
    "display(np.shape(images_by_labels_for_cnn_train['or_0.007inch']))\n",
    "\n",
    "# Checking the shape of DE Test data for 007 inch fault\n",
    "\n",
    "display(np.shape(images_by_labels_for_cnn_test['n']))\n",
    "display(np.shape(images_by_labels_for_cnn_test['b_0.007inch']))\n",
    "display(np.shape(images_by_labels_for_cnn_test['ir_0.007inch']))\n",
    "display(np.shape(images_by_labels_for_cnn_test['or_0.007inch']))"
   ]
  },
  {
   "cell_type": "markdown",
   "metadata": {},
   "source": [
    "### 4.4.2 Image separation i.e. Data Preparation\n",
    "\n",
    "♦ Now, We  transform the data to be suitable for the CNN input:\n",
    "\n",
    "1. The images and their labels need to be separated into two arrays, correlated by their indices\n",
    "\n",
    "\n",
    "2. The labels are to be one-hot encoded (i.e. label \"N\" becomes (0,0,0,0,0,0,0,0,0,1))(To convert the cateogrical attributes into number for our model to understand)\n"
   ]
  },
  {
   "cell_type": "code",
   "execution_count": 27,
   "metadata": {},
   "outputs": [],
   "source": [
    "#from Zipfile import zip\n",
    "#import zip\n",
    "from itertools import zip_longest\n",
    "\n",
    "def separate_images_from_labels(images_by_labels, interleave: bool):\n",
    "    all_labels = list(images_by_labels.keys())\n",
    "    \n",
    "    NB_CLASSES = len(all_labels)\n",
    "    all_labels_onehot = np.identity(NB_CLASSES).astype('uint8')                                     #identity matrix representing categories in binary value\n",
    "    label_to_onehot_mapper = {all_labels[i]: all_labels_onehot[i] for i in np.arange(NB_CLASSES)}   #mapping label name to its encoded value and storing in dict\n",
    "\n",
    "    all_images_for_cnn = []\n",
    "    all_labels_for_cnn_onehot = []\n",
    "\n",
    "    for key in all_labels:\n",
    "        images = images_by_labels[key]\n",
    "        labels_onehot = np.full(shape=(len(images), NB_CLASSES), fill_value=label_to_onehot_mapper[key]) # just getting labels for the same key of images\n",
    "\n",
    "        all_images_for_cnn.append(images)\n",
    "        all_labels_for_cnn_onehot.append(labels_onehot)\n",
    "\n",
    "    if interleave:\n",
    "        all_images_for_cnn = lists_interleave(all_images_for_cnn)\n",
    "        all_labels_for_cnn_onehot = lists_interleave(all_labels_for_cnn_onehot)\n",
    "    else:  # flatten the lists\n",
    "        all_images_for_cnn = [image for sublist in all_images_for_cnn for image in sublist]\n",
    "        all_labels_for_cnn_onehot = [label for sublist in all_labels_for_cnn_onehot for label in sublist]\n",
    "\n",
    "    return np.array(all_images_for_cnn), np.array(all_labels_for_cnn_onehot)\n",
    "                               \n",
    "def lists_interleave(lists):\n",
    "    return [val for tup in zip(*lists) for val in tup]"
   ]
  },
  {
   "cell_type": "code",
   "execution_count": null,
   "metadata": {},
   "outputs": [],
   "source": []
  },
  {
   "cell_type": "code",
   "execution_count": null,
   "metadata": {},
   "outputs": [],
   "source": []
  },
  {
   "cell_type": "markdown",
   "metadata": {},
   "source": [
    "#The last step before training is to separate the images and labels. Then to separate the images and their corresponding labels."
   ]
  },
  {
   "cell_type": "code",
   "execution_count": 28,
   "metadata": {},
   "outputs": [],
   "source": [
    "images_train, labels_train_onehot = separate_images_from_labels(images_by_labels_for_cnn_train, interleave=False)\n",
    "images_test, labels_test_onehot = separate_images_from_labels(images_by_labels_for_cnn_test, interleave=False)"
   ]
  },
  {
   "cell_type": "code",
   "execution_count": 29,
   "metadata": {},
   "outputs": [
    {
     "data": {
      "text/plain": [
       "array([[[[250],\n",
       "         [251],\n",
       "         [251],\n",
       "         ...,\n",
       "         [249],\n",
       "         [249],\n",
       "         [249]],\n",
       "\n",
       "        [[252],\n",
       "         [252],\n",
       "         [252],\n",
       "         ...,\n",
       "         [254],\n",
       "         [254],\n",
       "         [254]],\n",
       "\n",
       "        [[254],\n",
       "         [254],\n",
       "         [254],\n",
       "         ...,\n",
       "         [253],\n",
       "         [253],\n",
       "         [253]],\n",
       "\n",
       "        ...,\n",
       "\n",
       "        [[243],\n",
       "         [243],\n",
       "         [243],\n",
       "         ...,\n",
       "         [243],\n",
       "         [243],\n",
       "         [243]],\n",
       "\n",
       "        [[243],\n",
       "         [243],\n",
       "         [243],\n",
       "         ...,\n",
       "         [243],\n",
       "         [243],\n",
       "         [243]],\n",
       "\n",
       "        [[243],\n",
       "         [243],\n",
       "         [243],\n",
       "         ...,\n",
       "         [243],\n",
       "         [243],\n",
       "         [243]]],\n",
       "\n",
       "\n",
       "       [[[252],\n",
       "         [252],\n",
       "         [252],\n",
       "         ...,\n",
       "         [253],\n",
       "         [253],\n",
       "         [253]],\n",
       "\n",
       "        [[253],\n",
       "         [253],\n",
       "         [253],\n",
       "         ...,\n",
       "         [255],\n",
       "         [255],\n",
       "         [255]],\n",
       "\n",
       "        [[255],\n",
       "         [255],\n",
       "         [255],\n",
       "         ...,\n",
       "         [255],\n",
       "         [254],\n",
       "         [254]],\n",
       "\n",
       "        ...,\n",
       "\n",
       "        [[243],\n",
       "         [243],\n",
       "         [243],\n",
       "         ...,\n",
       "         [243],\n",
       "         [243],\n",
       "         [243]],\n",
       "\n",
       "        [[243],\n",
       "         [243],\n",
       "         [243],\n",
       "         ...,\n",
       "         [243],\n",
       "         [243],\n",
       "         [243]],\n",
       "\n",
       "        [[243],\n",
       "         [243],\n",
       "         [243],\n",
       "         ...,\n",
       "         [243],\n",
       "         [243],\n",
       "         [243]]],\n",
       "\n",
       "\n",
       "       [[[253],\n",
       "         [253],\n",
       "         [253],\n",
       "         ...,\n",
       "         [253],\n",
       "         [253],\n",
       "         [253]],\n",
       "\n",
       "        [[255],\n",
       "         [255],\n",
       "         [255],\n",
       "         ...,\n",
       "         [255],\n",
       "         [255],\n",
       "         [255]],\n",
       "\n",
       "        [[254],\n",
       "         [254],\n",
       "         [254],\n",
       "         ...,\n",
       "         [254],\n",
       "         [254],\n",
       "         [254]],\n",
       "\n",
       "        ...,\n",
       "\n",
       "        [[243],\n",
       "         [243],\n",
       "         [243],\n",
       "         ...,\n",
       "         [243],\n",
       "         [243],\n",
       "         [243]],\n",
       "\n",
       "        [[243],\n",
       "         [243],\n",
       "         [243],\n",
       "         ...,\n",
       "         [243],\n",
       "         [243],\n",
       "         [243]],\n",
       "\n",
       "        [[243],\n",
       "         [243],\n",
       "         [243],\n",
       "         ...,\n",
       "         [243],\n",
       "         [243],\n",
       "         [243]]],\n",
       "\n",
       "\n",
       "       ...,\n",
       "\n",
       "\n",
       "       [[[246],\n",
       "         [246],\n",
       "         [246],\n",
       "         ...,\n",
       "         [250],\n",
       "         [250],\n",
       "         [250]],\n",
       "\n",
       "        [[246],\n",
       "         [247],\n",
       "         [247],\n",
       "         ...,\n",
       "         [246],\n",
       "         [246],\n",
       "         [246]],\n",
       "\n",
       "        [[250],\n",
       "         [250],\n",
       "         [250],\n",
       "         ...,\n",
       "         [250],\n",
       "         [250],\n",
       "         [250]],\n",
       "\n",
       "        ...,\n",
       "\n",
       "        [[244],\n",
       "         [244],\n",
       "         [244],\n",
       "         ...,\n",
       "         [245],\n",
       "         [245],\n",
       "         [245]],\n",
       "\n",
       "        [[243],\n",
       "         [243],\n",
       "         [243],\n",
       "         ...,\n",
       "         [244],\n",
       "         [244],\n",
       "         [244]],\n",
       "\n",
       "        [[243],\n",
       "         [243],\n",
       "         [243],\n",
       "         ...,\n",
       "         [243],\n",
       "         [243],\n",
       "         [243]]],\n",
       "\n",
       "\n",
       "       [[[247],\n",
       "         [248],\n",
       "         [248],\n",
       "         ...,\n",
       "         [245],\n",
       "         [245],\n",
       "         [245]],\n",
       "\n",
       "        [[247],\n",
       "         [247],\n",
       "         [247],\n",
       "         ...,\n",
       "         [246],\n",
       "         [246],\n",
       "         [245]],\n",
       "\n",
       "        [[249],\n",
       "         [249],\n",
       "         [249],\n",
       "         ...,\n",
       "         [248],\n",
       "         [248],\n",
       "         [248]],\n",
       "\n",
       "        ...,\n",
       "\n",
       "        [[243],\n",
       "         [243],\n",
       "         [243],\n",
       "         ...,\n",
       "         [243],\n",
       "         [243],\n",
       "         [243]],\n",
       "\n",
       "        [[243],\n",
       "         [243],\n",
       "         [243],\n",
       "         ...,\n",
       "         [243],\n",
       "         [243],\n",
       "         [243]],\n",
       "\n",
       "        [[243],\n",
       "         [243],\n",
       "         [243],\n",
       "         ...,\n",
       "         [243],\n",
       "         [243],\n",
       "         [243]]],\n",
       "\n",
       "\n",
       "       [[[244],\n",
       "         [244],\n",
       "         [244],\n",
       "         ...,\n",
       "         [245],\n",
       "         [245],\n",
       "         [245]],\n",
       "\n",
       "        [[245],\n",
       "         [245],\n",
       "         [245],\n",
       "         ...,\n",
       "         [247],\n",
       "         [247],\n",
       "         [247]],\n",
       "\n",
       "        [[250],\n",
       "         [250],\n",
       "         [250],\n",
       "         ...,\n",
       "         [250],\n",
       "         [250],\n",
       "         [250]],\n",
       "\n",
       "        ...,\n",
       "\n",
       "        [[243],\n",
       "         [243],\n",
       "         [243],\n",
       "         ...,\n",
       "         [243],\n",
       "         [243],\n",
       "         [243]],\n",
       "\n",
       "        [[243],\n",
       "         [243],\n",
       "         [243],\n",
       "         ...,\n",
       "         [243],\n",
       "         [243],\n",
       "         [243]],\n",
       "\n",
       "        [[243],\n",
       "         [243],\n",
       "         [243],\n",
       "         ...,\n",
       "         [243],\n",
       "         [243],\n",
       "         [243]]]], dtype=uint8)"
      ]
     },
     "execution_count": 29,
     "metadata": {},
     "output_type": "execute_result"
    }
   ],
   "source": [
    "images_train"
   ]
  },
  {
   "cell_type": "code",
   "execution_count": 30,
   "metadata": {},
   "outputs": [
    {
     "data": {
      "text/plain": [
       "array([[1, 0, 0, ..., 0, 0, 0],\n",
       "       [1, 0, 0, ..., 0, 0, 0],\n",
       "       [1, 0, 0, ..., 0, 0, 0],\n",
       "       ...,\n",
       "       [0, 0, 0, ..., 0, 0, 1],\n",
       "       [0, 0, 0, ..., 0, 0, 1],\n",
       "       [0, 0, 0, ..., 0, 0, 1]], dtype=uint8)"
      ]
     },
     "execution_count": 30,
     "metadata": {},
     "output_type": "execute_result"
    }
   ],
   "source": [
    "labels_train_onehot"
   ]
  },
  {
   "cell_type": "markdown",
   "metadata": {},
   "source": [
    "### 4.4.3 Image and label shuffling"
   ]
  },
  {
   "cell_type": "markdown",
   "metadata": {},
   "source": [
    "Additionally, for a good distribution of data types accross the training and test data, the data is interleaved. All of the 10 types of data and random shuffle while keeping the labels for values intact.\n",
    "\n",
    "A single array is taken, containing all the images, where sequential images are always having a different data type (N, IR1, IR2, IR3, B1, B2, B3, OR1, OR2, OR3) in the form [ ..., \"N\", \"IR1\", \"IR2\", \"IR3\", \"B1\", \"B2\", \"B3\", \"OR1\", \"OR2\", \"OR3\", \"N\", \"IR1\", \"IR2\", \"IR3\",  ...]."
   ]
  },
  {
   "cell_type": "code",
   "execution_count": 31,
   "metadata": {},
   "outputs": [],
   "source": [
    "random_idx = np.random.permutation(np.arange(0, images_train.shape[0]))\n",
    "random_idx_2 = np.random.permutation(np.arange(0, images_test.shape[0]))\n",
    "\n",
    "images_train = images_train[random_idx]\n",
    "labels_train_onehot = labels_train_onehot[random_idx]\n",
    "images_test = images_test[random_idx_2]\n",
    "labels_test_onehot = labels_test_onehot[random_idx_2]"
   ]
  },
  {
   "cell_type": "code",
   "execution_count": 32,
   "metadata": {},
   "outputs": [
    {
     "data": {
      "text/plain": [
       "(6027, 96, 96, 1)"
      ]
     },
     "execution_count": 32,
     "metadata": {},
     "output_type": "execute_result"
    }
   ],
   "source": [
    "images_train.shape"
   ]
  },
  {
   "cell_type": "code",
   "execution_count": 33,
   "metadata": {},
   "outputs": [
    {
     "data": {
      "text/plain": [
       "(6027, 10)"
      ]
     },
     "execution_count": 33,
     "metadata": {},
     "output_type": "execute_result"
    }
   ],
   "source": [
    "labels_train_onehot.shape"
   ]
  },
  {
   "cell_type": "code",
   "execution_count": 34,
   "metadata": {},
   "outputs": [
    {
     "data": {
      "text/plain": [
       "(665, 96, 96, 1)"
      ]
     },
     "execution_count": 34,
     "metadata": {},
     "output_type": "execute_result"
    }
   ],
   "source": [
    "images_test.shape"
   ]
  },
  {
   "cell_type": "code",
   "execution_count": 35,
   "metadata": {},
   "outputs": [
    {
     "data": {
      "text/plain": [
       "(665, 10)"
      ]
     },
     "execution_count": 35,
     "metadata": {},
     "output_type": "execute_result"
    }
   ],
   "source": [
    "labels_test_onehot.shape"
   ]
  },
  {
   "cell_type": "code",
   "execution_count": null,
   "metadata": {},
   "outputs": [],
   "source": []
  },
  {
   "cell_type": "markdown",
   "metadata": {},
   "source": [
    "### 4.5 Convolutional Neural Network\n",
    "\n",
    "♦ The CNN architecture used in this notebook is from the paper Deep Learning Enabled Fault Diagnosis Using Time-Frequency Image  Analysis of Rolling Element Bearings. \n",
    "\n",
    "\n",
    "\n",
    "\n",
    "\n",
    "♦ It is a supervised classification problem, with 10 classes. A Convolutional Neural Network (CNN) is implemented as a Sequential Keras model. \n",
    "\n",
    "♦ The images that were previously generated, form a tuple (number of images, x dpi, y dpi, number of channels). \n",
    "\n",
    "♦The loss function is categorical cross-entropy, the optimizer is ADAM and Leaky RELU activation function after each Convolution layer. "
   ]
  },
  {
   "cell_type": "code",
   "execution_count": 36,
   "metadata": {},
   "outputs": [],
   "source": [
    "from keras import optimizers\n",
    "\n",
    "## input data parameters\n",
    "IMAGES_SHAPE = (96, 96, 1)\n",
    "PADDING = 'same'\n",
    "KERNEL_SIZE = (3, 3)\n",
    "KERNEL_INITIALIZER = 'glorot_normal'\n",
    "# parameters for deep layers\n",
    "NUMBER_OF_CLASSES = 10  # N, B 0.007inch, B 0.014inch, B 0.021inch, IR 0.007inch, IR 0.014inch, IR 0.021inch, OR 0.007inch, OR 0.014inch and OR 0.021inch  \n",
    "DROPOUT = 0.2\n",
    "LEAK_ALPHA = 0.1\n",
    "MAX_POOLING_POOL_SIZE = (2, 2)\n",
    "ACTIVATION_LAYER_FUNCTION = 'softmax'\n",
    "# loss and optimizer\n",
    "LOSS_FUNCTION = 'categorical_crossentropy'\n",
    "LEARNING_RATE = 0.001\n",
    "OPTIMIZER = optimizers.Adam(LEARNING_RATE, epsilon=10e-6)"
   ]
  },
  {
   "cell_type": "code",
   "execution_count": null,
   "metadata": {},
   "outputs": [],
   "source": []
  },
  {
   "cell_type": "code",
   "execution_count": 37,
   "metadata": {},
   "outputs": [],
   "source": [
    "from keras import regularizers"
   ]
  },
  {
   "cell_type": "code",
   "execution_count": 38,
   "metadata": {},
   "outputs": [
    {
     "name": "stdout",
     "output_type": "stream",
     "text": [
      "Model: \"sequential\"\n",
      "_________________________________________________________________\n",
      "Layer (type)                 Output Shape              Param #   \n",
      "=================================================================\n",
      "conv2d (Conv2D)              (None, 96, 96, 32)        320       \n",
      "_________________________________________________________________\n",
      "leaky_re_lu (LeakyReLU)      (None, 96, 96, 32)        0         \n",
      "_________________________________________________________________\n",
      "conv2d_1 (Conv2D)            (None, 96, 96, 32)        9248      \n",
      "_________________________________________________________________\n",
      "leaky_re_lu_1 (LeakyReLU)    (None, 96, 96, 32)        0         \n",
      "_________________________________________________________________\n",
      "max_pooling2d (MaxPooling2D) (None, 48, 48, 32)        0         \n",
      "_________________________________________________________________\n",
      "dropout (Dropout)            (None, 48, 48, 32)        0         \n",
      "_________________________________________________________________\n",
      "conv2d_2 (Conv2D)            (None, 48, 48, 64)        18496     \n",
      "_________________________________________________________________\n",
      "leaky_re_lu_2 (LeakyReLU)    (None, 48, 48, 64)        0         \n",
      "_________________________________________________________________\n",
      "conv2d_3 (Conv2D)            (None, 48, 48, 64)        36928     \n",
      "_________________________________________________________________\n",
      "leaky_re_lu_3 (LeakyReLU)    (None, 48, 48, 64)        0         \n",
      "_________________________________________________________________\n",
      "max_pooling2d_1 (MaxPooling2 (None, 24, 24, 64)        0         \n",
      "_________________________________________________________________\n",
      "dropout_1 (Dropout)          (None, 24, 24, 64)        0         \n",
      "_________________________________________________________________\n",
      "conv2d_4 (Conv2D)            (None, 24, 24, 128)       73856     \n",
      "_________________________________________________________________\n",
      "leaky_re_lu_4 (LeakyReLU)    (None, 24, 24, 128)       0         \n",
      "_________________________________________________________________\n",
      "conv2d_5 (Conv2D)            (None, 24, 24, 128)       147584    \n",
      "_________________________________________________________________\n",
      "leaky_re_lu_5 (LeakyReLU)    (None, 24, 24, 128)       0         \n",
      "_________________________________________________________________\n",
      "max_pooling2d_2 (MaxPooling2 (None, 12, 12, 128)       0         \n",
      "_________________________________________________________________\n",
      "dropout_2 (Dropout)          (None, 12, 12, 128)       0         \n",
      "_________________________________________________________________\n",
      "flatten (Flatten)            (None, 18432)             0         \n",
      "_________________________________________________________________\n",
      "dense (Dense)                (None, 100)               1843300   \n",
      "_________________________________________________________________\n",
      "leaky_re_lu_6 (LeakyReLU)    (None, 100)               0         \n",
      "_________________________________________________________________\n",
      "dense_1 (Dense)              (None, 100)               10100     \n",
      "_________________________________________________________________\n",
      "leaky_re_lu_7 (LeakyReLU)    (None, 100)               0         \n",
      "_________________________________________________________________\n",
      "dropout_3 (Dropout)          (None, 100)               0         \n",
      "_________________________________________________________________\n",
      "dense_2 (Dense)              (None, 10)                1010      \n",
      "_________________________________________________________________\n",
      "activation (Activation)      (None, 10)                0         \n",
      "=================================================================\n",
      "Total params: 2,140,842\n",
      "Trainable params: 2,140,842\n",
      "Non-trainable params: 0\n",
      "_________________________________________________________________\n"
     ]
    }
   ],
   "source": [
    "import keras\n",
    "from keras.models import Sequential\n",
    "from keras.layers.core import Dense, Dropout, Activation, Flatten\n",
    "from keras.layers.convolutional import Conv2D, MaxPooling2D\n",
    "from keras.layers import LeakyReLU\n",
    "from keras import metrics\n",
    "\n",
    "\n",
    "# CNN architecture from Guo et al.\n",
    "model = Sequential()\n",
    "model.add(Conv2D(32, KERNEL_SIZE,                  \n",
    "                 input_shape=IMAGES_SHAPE,\n",
    "                 data_format='channels_last',\n",
    "                 kernel_initializer=KERNEL_INITIALIZER,                 \n",
    "                 padding=PADDING))\n",
    "\n",
    "model.add(LeakyReLU(LEAK_ALPHA))\n",
    "\n",
    "model.add(Conv2D(32, KERNEL_SIZE, \n",
    "                 kernel_initializer=KERNEL_INITIALIZER,\n",
    "                 padding=PADDING))\n",
    "\n",
    "model.add(LeakyReLU(LEAK_ALPHA))\n",
    "model.add(MaxPooling2D(pool_size=MAX_POOLING_POOL_SIZE))\n",
    "model.add(Dropout(0.4))\n",
    "\n",
    "model.add(Conv2D(64, KERNEL_SIZE, \n",
    "                 kernel_initializer=KERNEL_INITIALIZER,\n",
    "                 padding=PADDING))\n",
    "\n",
    "model.add(LeakyReLU(LEAK_ALPHA))\n",
    "\n",
    "model.add(Conv2D(64, KERNEL_SIZE, \n",
    "                 kernel_initializer=KERNEL_INITIALIZER,\n",
    "                 padding=PADDING))\n",
    "\n",
    "model.add(LeakyReLU(LEAK_ALPHA))\n",
    "model.add(MaxPooling2D(pool_size=MAX_POOLING_POOL_SIZE))\n",
    "model.add(Dropout(0.4))\n",
    "\n",
    "model.add(Conv2D(128, KERNEL_SIZE, \n",
    "                 kernel_initializer=KERNEL_INITIALIZER,\n",
    "                 padding=PADDING))\n",
    "\n",
    "model.add(LeakyReLU(LEAK_ALPHA))\n",
    "\n",
    "model.add(Conv2D(128, KERNEL_SIZE, \n",
    "                 kernel_initializer=KERNEL_INITIALIZER,\n",
    "                 padding=PADDING))\n",
    "\n",
    "model.add(LeakyReLU(LEAK_ALPHA))\n",
    "model.add(MaxPooling2D(pool_size=MAX_POOLING_POOL_SIZE))\n",
    "model.add(Dropout(0.4))\n",
    "\n",
    "model.add(Flatten())\n",
    "model.add(Dense(100))\n",
    "model.add(LeakyReLU(LEAK_ALPHA))\n",
    "model.add(Dense(100))\n",
    "model.add(LeakyReLU(LEAK_ALPHA))\n",
    "model.add(Dropout(DROPOUT))\n",
    "model.add(Dense(NUMBER_OF_CLASSES))\n",
    "model.add(Activation(ACTIVATION_LAYER_FUNCTION))\n",
    "  \n",
    "model.compile(loss=LOSS_FUNCTION, \n",
    "              optimizer=OPTIMIZER,\n",
    "              metrics=[metrics.categorical_accuracy])  \n",
    "model.summary()"
   ]
  },
  {
   "cell_type": "code",
   "execution_count": null,
   "metadata": {},
   "outputs": [],
   "source": []
  },
  {
   "cell_type": "markdown",
   "metadata": {},
   "source": [
    "### 4.5.2 Training the CNN\n",
    "\n",
    "The train for CNN is with a validation split of 10%-90% train and test respectively of the *image batch size* and over 100 epochs. The CNN will be then tested on the hold-out data. \n"
   ]
  },
  {
   "cell_type": "code",
   "execution_count": 39,
   "metadata": {
    "scrolled": true
   },
   "outputs": [
    {
     "name": "stdout",
     "output_type": "stream",
     "text": [
      "Epoch 1/12\n",
      "189/189 [==============================] - 233s 1s/step - loss: 6.9332 - categorical_accuracy: 0.2957 - val_loss: 0.8732 - val_categorical_accuracy: 0.6135\n",
      "Epoch 2/12\n",
      "189/189 [==============================] - 290s 2s/step - loss: 0.6912 - categorical_accuracy: 0.7556 - val_loss: 0.4257 - val_categorical_accuracy: 0.8241\n",
      "Epoch 3/12\n",
      "189/189 [==============================] - 251s 1s/step - loss: 0.4855 - categorical_accuracy: 0.8225 - val_loss: 0.5210 - val_categorical_accuracy: 0.8060\n",
      "Epoch 4/12\n",
      "189/189 [==============================] - 223s 1s/step - loss: 0.4179 - categorical_accuracy: 0.8394 - val_loss: 0.4238 - val_categorical_accuracy: 0.8316\n",
      "Epoch 5/12\n",
      "189/189 [==============================] - 220s 1s/step - loss: 0.3756 - categorical_accuracy: 0.8551 - val_loss: 0.4290 - val_categorical_accuracy: 0.8226\n",
      "Epoch 6/12\n",
      "189/189 [==============================] - 212s 1s/step - loss: 0.3665 - categorical_accuracy: 0.8561 - val_loss: 0.3927 - val_categorical_accuracy: 0.8406\n",
      "Epoch 7/12\n",
      "189/189 [==============================] - 200s 1s/step - loss: 0.3311 - categorical_accuracy: 0.8768 - val_loss: 0.3907 - val_categorical_accuracy: 0.8316\n",
      "Epoch 8/12\n",
      "189/189 [==============================] - 190s 1s/step - loss: 0.3385 - categorical_accuracy: 0.8693 - val_loss: 0.4067 - val_categorical_accuracy: 0.8331\n",
      "Epoch 9/12\n",
      "189/189 [==============================] - 188s 996ms/step - loss: 0.3199 - categorical_accuracy: 0.8826 - val_loss: 0.3468 - val_categorical_accuracy: 0.8632\n",
      "Epoch 10/12\n",
      "189/189 [==============================] - 190s 1s/step - loss: 0.3006 - categorical_accuracy: 0.8755 - val_loss: 0.4171 - val_categorical_accuracy: 0.8496\n",
      "Epoch 11/12\n",
      "189/189 [==============================] - 194s 1s/step - loss: 0.2752 - categorical_accuracy: 0.8915 - val_loss: 0.3549 - val_categorical_accuracy: 0.8421\n",
      "Epoch 12/12\n",
      "189/189 [==============================] - 199s 1s/step - loss: 0.2703 - categorical_accuracy: 0.8956 - val_loss: 0.4383 - val_categorical_accuracy: 0.8406\n"
     ]
    }
   ],
   "source": [
    "BATCH_SIZE = 32\n",
    "NUMBER_OF_EPOCHS = 12\n",
    "\n",
    "history = model.fit(\n",
    "    images_train, labels_train_onehot,\n",
    "    batch_size=BATCH_SIZE,\n",
    "    epochs=NUMBER_OF_EPOCHS, \n",
    "    validation_data=(images_test, labels_test_onehot), \n",
    "    verbose=1)"
   ]
  },
  {
   "cell_type": "markdown",
   "metadata": {},
   "source": [
    "### 5.Train-Test Accuracy and Loss curves"
   ]
  },
  {
   "cell_type": "code",
   "execution_count": 40,
   "metadata": {},
   "outputs": [
    {
     "name": "stdout",
     "output_type": "stream",
     "text": [
      "dict_keys(['loss', 'categorical_accuracy', 'val_loss', 'val_categorical_accuracy'])\n"
     ]
    },
    {
     "data": {
      "image/png": "[encoded data removed]",
      "text/plain": [
       "<Figure size 432x288 with 1 Axes>"
      ]
     },
     "metadata": {
      "needs_background": "light"
     },
     "output_type": "display_data"
    },
    {
     "data": {
      "image/png": "[encoded data removed]",
      "text/plain": [
       "<Figure size 432x288 with 1 Axes>"
      ]
     },
     "metadata": {
      "needs_background": "light"
     },
     "output_type": "display_data"
    }
   ],
   "source": [
    "import matplotlib.pyplot as plt\n",
    "\n",
    "# list all data in history\n",
    "print(history.history.keys())\n",
    "\n",
    "# summarize history for accuracy\n",
    "plt.plot(history.history['categorical_accuracy'])\n",
    "plt.plot(history.history['val_categorical_accuracy'])\n",
    "plt.title('model accuracy')\n",
    "plt.ylabel('accuracy')\n",
    "plt.xlabel('epoch')\n",
    "plt.legend(['train', 'test'], loc='upper left')\n",
    "plt.show()\n",
    "\n",
    "# summarize history for loss\n",
    "plt.plot(history.history['loss'])\n",
    "plt.plot(history.history['val_loss'])\n",
    "plt.title('model loss')\n",
    "plt.ylabel('loss')\n",
    "plt.xlabel('epoch')\n",
    "plt.legend(['train', 'test'], loc='upper left')\n",
    "plt.show()"
   ]
  },
  {
   "cell_type": "code",
   "execution_count": null,
   "metadata": {},
   "outputs": [],
   "source": []
  },
  {
   "cell_type": "markdown",
   "metadata": {},
   "source": [
    "### 6.Test the CNN\n",
    "Once the model has been fitted, we assess its precision through a classical one vs many confusion matrix"
   ]
  },
  {
   "cell_type": "code",
   "execution_count": 41,
   "metadata": {},
   "outputs": [],
   "source": [
    "#labels_predicted = history.model.predict_classes(images_test, verbose=1)\n",
    "labels_predicted = np.argmax(history.model.predict(images_test), axis=-1)"
   ]
  },
  {
   "cell_type": "code",
   "execution_count": 42,
   "metadata": {},
   "outputs": [
    {
     "name": "stdout",
     "output_type": "stream",
     "text": [
      "              precision    recall  f1-score   support\n",
      "\n",
      "           0       0.99      1.00      1.00       141\n",
      "           1       0.23      0.40      0.29        40\n",
      "           2       0.79      0.93      0.85        40\n",
      "           3       0.50      0.38      0.43        40\n",
      "           4       0.95      1.00      0.98        40\n",
      "           5       1.00      0.85      0.92        40\n",
      "           6       1.00      0.97      0.99        40\n",
      "           7       0.90      0.65      0.75       122\n",
      "           8       0.75      0.95      0.84        40\n",
      "           9       0.99      0.98      0.99       122\n",
      "\n",
      "    accuracy                           0.84       665\n",
      "   macro avg       0.81      0.81      0.80       665\n",
      "weighted avg       0.87      0.84      0.85       665\n",
      "\n"
     ]
    }
   ],
   "source": [
    "# for the confusion matrix we need a factorized labels \n",
    "# [1,0,0,0,0,0,0,0,0,0] -> 0 (\"N\")\n",
    "# [0,1,0,0,0,0,0,0,0,0] -> 1 (\"B 0.007inch\") \n",
    "# [0,0,1,0,0,0,0,0,0,0] -> 2 (\"B 0.014inch\")\n",
    "# [0,0,0,1,0,0,0,0,0,0] -> 3 (\"B 0.021inch\") \n",
    "# [0,0,0,0,1,0,0,0,0,0] -> 4 (\"IR 0.007inch\")\n",
    "# [0,0,0,0,0,1,0,0,0,0] -> 5 (\"IR 0.014inch\")\n",
    "# [0,0,0,0,0,0,1,0,0,0] -> 6 (\"IR 0.021inch\") \n",
    "# [0,0,0,0,0,0,0,1,0,0] -> 7 (\"OR 0.007inch\") \n",
    "# [0,0,0,0,0,0,0,0,1,0] -> 8 (\"OR 0.014inch\") \n",
    "# [0,0,0,0,0,0,0,0,0,1] -> 9 (\"OR 0.021inch\") \n",
    "\n",
    "labels_test_factorized = [(1*label[0]+2*label[1]+3*label[2]+4*label[3]+5*label[4]+6*label[5]+7*label[6]+8*label[7]+9*label[8]+10*label[9])-1 for label in labels_test_onehot]\n",
    "\n",
    "from sklearn.metrics import classification_report\n",
    "print(classification_report(labels_test_factorized, labels_predicted))"
   ]
  },
  {
   "cell_type": "code",
   "execution_count": null,
   "metadata": {},
   "outputs": [],
   "source": []
  }
 ],
 "metadata": {
  "kernelspec": {
   "display_name": "Python 3",
   "language": "python",
   "name": "python3"
  },
  "language_info": {
   "codemirror_mode": {
    "name": "ipython",
    "version": 3
   },
   "file_extension": ".py",
   "mimetype": "text/x-python",
   "name": "python",
   "nbconvert_exporter": "python",
   "pygments_lexer": "ipython3",
   "version": "3.8.5"
  }
 },
 "nbformat": 4,
 "nbformat_minor": 4
}
