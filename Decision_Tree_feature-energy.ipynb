{
 "cells": [
  {
   "cell_type": "code",
   "execution_count": 2,
   "metadata": {},
   "outputs": [],
   "source": [
    "import pandas as pd\n",
    "import numpy as np\n",
    "from sklearn.model_selection import train_test_split\n",
    "from sklearn.model_selection import GridSearchCV\n",
    "from sklearn.tree import DecisionTreeClassifier\n",
    "from sklearn.metrics import confusion_matrix,accuracy_score\n",
    "import seaborn as sns\n",
    "import matplotlib.pyplot as plt"
   ]
  },
  {
   "cell_type": "code",
   "execution_count": 3,
   "metadata": {},
   "outputs": [],
   "source": [
    "df = pd.read_csv('feature_energyy_48k_1024.csv')"
   ]
  },
  {
   "cell_type": "code",
   "execution_count": 4,
   "metadata": {},
   "outputs": [],
   "source": [
    "train_data, test_data = train_test_split(df, test_size = 750, stratify = df['fault'],\n",
    "                                         random_state = 1288)"
   ]
  },
  {
   "cell_type": "code",
   "execution_count": 5,
   "metadata": {},
   "outputs": [
    {
     "data": {
      "text/html": [
       "<div>\n",
       "<style scoped>\n",
       "    .dataframe tbody tr th:only-of-type {\n",
       "        vertical-align: middle;\n",
       "    }\n",
       "\n",
       "    .dataframe tbody tr th {\n",
       "        vertical-align: top;\n",
       "    }\n",
       "\n",
       "    .dataframe thead th {\n",
       "        text-align: right;\n",
       "    }\n",
       "</style>\n",
       "<table border=\"1\" class=\"dataframe\">\n",
       "  <thead>\n",
       "    <tr style=\"text-align: right;\">\n",
       "      <th></th>\n",
       "      <th>Unnamed: 0</th>\n",
       "      <th>Max</th>\n",
       "      <th>Min</th>\n",
       "      <th>Mean</th>\n",
       "      <th>Stddev</th>\n",
       "      <th>RMS</th>\n",
       "      <th>skew</th>\n",
       "      <th>kurtosis</th>\n",
       "      <th>crest factor</th>\n",
       "      <th>form factor</th>\n",
       "      <th>fault</th>\n",
       "    </tr>\n",
       "  </thead>\n",
       "  <tbody>\n",
       "    <tr>\n",
       "      <th>3657</th>\n",
       "      <td>3657</td>\n",
       "      <td>14.080692</td>\n",
       "      <td>0.000100</td>\n",
       "      <td>2.525807</td>\n",
       "      <td>5.117041</td>\n",
       "      <td>5.412097</td>\n",
       "      <td>1.390457</td>\n",
       "      <td>0.319956</td>\n",
       "      <td>2.601707</td>\n",
       "      <td>2.142720</td>\n",
       "      <td>OR014</td>\n",
       "    </tr>\n",
       "    <tr>\n",
       "      <th>410</th>\n",
       "      <td>410</td>\n",
       "      <td>10.910429</td>\n",
       "      <td>0.000043</td>\n",
       "      <td>2.670121</td>\n",
       "      <td>4.914991</td>\n",
       "      <td>5.316676</td>\n",
       "      <td>0.947659</td>\n",
       "      <td>-1.204088</td>\n",
       "      <td>2.052115</td>\n",
       "      <td>1.991174</td>\n",
       "      <td>B007</td>\n",
       "    </tr>\n",
       "    <tr>\n",
       "      <th>950</th>\n",
       "      <td>950</td>\n",
       "      <td>18.515451</td>\n",
       "      <td>0.000081</td>\n",
       "      <td>3.615942</td>\n",
       "      <td>7.010705</td>\n",
       "      <td>7.488744</td>\n",
       "      <td>1.206415</td>\n",
       "      <td>-0.295578</td>\n",
       "      <td>2.472438</td>\n",
       "      <td>2.071035</td>\n",
       "      <td>B021</td>\n",
       "    </tr>\n",
       "    <tr>\n",
       "      <th>1554</th>\n",
       "      <td>1554</td>\n",
       "      <td>36.257926</td>\n",
       "      <td>0.000226</td>\n",
       "      <td>8.212663</td>\n",
       "      <td>15.022530</td>\n",
       "      <td>16.276200</td>\n",
       "      <td>0.999099</td>\n",
       "      <td>-1.016150</td>\n",
       "      <td>2.227665</td>\n",
       "      <td>1.981842</td>\n",
       "      <td>IR007</td>\n",
       "    </tr>\n",
       "    <tr>\n",
       "      <th>1176</th>\n",
       "      <td>1176</td>\n",
       "      <td>25.919623</td>\n",
       "      <td>0.000064</td>\n",
       "      <td>4.361321</td>\n",
       "      <td>9.249996</td>\n",
       "      <td>9.689594</td>\n",
       "      <td>1.519237</td>\n",
       "      <td>0.732054</td>\n",
       "      <td>2.674996</td>\n",
       "      <td>2.221711</td>\n",
       "      <td>B021</td>\n",
       "    </tr>\n",
       "    <tr>\n",
       "      <th>...</th>\n",
       "      <td>...</td>\n",
       "      <td>...</td>\n",
       "      <td>...</td>\n",
       "      <td>...</td>\n",
       "      <td>...</td>\n",
       "      <td>...</td>\n",
       "      <td>...</td>\n",
       "      <td>...</td>\n",
       "      <td>...</td>\n",
       "      <td>...</td>\n",
       "      <td>...</td>\n",
       "    </tr>\n",
       "    <tr>\n",
       "      <th>278</th>\n",
       "      <td>278</td>\n",
       "      <td>8.923791</td>\n",
       "      <td>0.000054</td>\n",
       "      <td>1.910248</td>\n",
       "      <td>3.579794</td>\n",
       "      <td>3.855140</td>\n",
       "      <td>1.053855</td>\n",
       "      <td>-0.825453</td>\n",
       "      <td>2.314777</td>\n",
       "      <td>2.018136</td>\n",
       "      <td>B007</td>\n",
       "    </tr>\n",
       "    <tr>\n",
       "      <th>3643</th>\n",
       "      <td>3643</td>\n",
       "      <td>9.453025</td>\n",
       "      <td>0.000082</td>\n",
       "      <td>2.276461</td>\n",
       "      <td>4.180687</td>\n",
       "      <td>4.525003</td>\n",
       "      <td>0.952751</td>\n",
       "      <td>-1.185354</td>\n",
       "      <td>2.089065</td>\n",
       "      <td>1.987736</td>\n",
       "      <td>OR014</td>\n",
       "    </tr>\n",
       "    <tr>\n",
       "      <th>3270</th>\n",
       "      <td>3270</td>\n",
       "      <td>9.609071</td>\n",
       "      <td>0.000115</td>\n",
       "      <td>2.252004</td>\n",
       "      <td>4.155394</td>\n",
       "      <td>4.492261</td>\n",
       "      <td>0.964621</td>\n",
       "      <td>-1.143100</td>\n",
       "      <td>2.139028</td>\n",
       "      <td>1.994784</td>\n",
       "      <td>OR014</td>\n",
       "    </tr>\n",
       "    <tr>\n",
       "      <th>1147</th>\n",
       "      <td>1147</td>\n",
       "      <td>32.243381</td>\n",
       "      <td>0.000037</td>\n",
       "      <td>5.402162</td>\n",
       "      <td>11.494720</td>\n",
       "      <td>12.033115</td>\n",
       "      <td>1.527907</td>\n",
       "      <td>0.759191</td>\n",
       "      <td>2.679554</td>\n",
       "      <td>2.227463</td>\n",
       "      <td>B021</td>\n",
       "    </tr>\n",
       "    <tr>\n",
       "      <th>3237</th>\n",
       "      <td>3237</td>\n",
       "      <td>17.482567</td>\n",
       "      <td>0.000096</td>\n",
       "      <td>3.605312</td>\n",
       "      <td>6.842331</td>\n",
       "      <td>7.345991</td>\n",
       "      <td>1.107857</td>\n",
       "      <td>-0.636073</td>\n",
       "      <td>2.379879</td>\n",
       "      <td>2.037547</td>\n",
       "      <td>OR014</td>\n",
       "    </tr>\n",
       "  </tbody>\n",
       "</table>\n",
       "<p>3850 rows × 11 columns</p>\n",
       "</div>"
      ],
      "text/plain": [
       "      Unnamed: 0        Max       Min      Mean     Stddev        RMS  \\\n",
       "3657        3657  14.080692  0.000100  2.525807   5.117041   5.412097   \n",
       "410          410  10.910429  0.000043  2.670121   4.914991   5.316676   \n",
       "950          950  18.515451  0.000081  3.615942   7.010705   7.488744   \n",
       "1554        1554  36.257926  0.000226  8.212663  15.022530  16.276200   \n",
       "1176        1176  25.919623  0.000064  4.361321   9.249996   9.689594   \n",
       "...          ...        ...       ...       ...        ...        ...   \n",
       "278          278   8.923791  0.000054  1.910248   3.579794   3.855140   \n",
       "3643        3643   9.453025  0.000082  2.276461   4.180687   4.525003   \n",
       "3270        3270   9.609071  0.000115  2.252004   4.155394   4.492261   \n",
       "1147        1147  32.243381  0.000037  5.402162  11.494720  12.033115   \n",
       "3237        3237  17.482567  0.000096  3.605312   6.842331   7.345991   \n",
       "\n",
       "          skew  kurtosis  crest factor  form factor  fault  \n",
       "3657  1.390457  0.319956      2.601707     2.142720  OR014  \n",
       "410   0.947659 -1.204088      2.052115     1.991174   B007  \n",
       "950   1.206415 -0.295578      2.472438     2.071035   B021  \n",
       "1554  0.999099 -1.016150      2.227665     1.981842  IR007  \n",
       "1176  1.519237  0.732054      2.674996     2.221711   B021  \n",
       "...        ...       ...           ...          ...    ...  \n",
       "278   1.053855 -0.825453      2.314777     2.018136   B007  \n",
       "3643  0.952751 -1.185354      2.089065     1.987736  OR014  \n",
       "3270  0.964621 -1.143100      2.139028     1.994784  OR014  \n",
       "1147  1.527907  0.759191      2.679554     2.227463   B021  \n",
       "3237  1.107857 -0.636073      2.379879     2.037547  OR014  \n",
       "\n",
       "[3850 rows x 11 columns]"
      ]
     },
     "execution_count": 5,
     "metadata": {},
     "output_type": "execute_result"
    }
   ],
   "source": [
    "train_data"
   ]
  },
  {
   "cell_type": "code",
   "execution_count": null,
   "metadata": {},
   "outputs": [],
   "source": []
  },
  {
   "cell_type": "code",
   "execution_count": null,
   "metadata": {},
   "outputs": [],
   "source": []
  },
  {
   "cell_type": "code",
   "execution_count": 6,
   "metadata": {},
   "outputs": [],
   "source": [
    "tree_clf = DecisionTreeClassifier(random_state = 532)"
   ]
  },
  {
   "cell_type": "code",
   "execution_count": 7,
   "metadata": {},
   "outputs": [
    {
     "data": {
      "text/plain": [
       "DecisionTreeClassifier(random_state=532)"
      ]
     },
     "execution_count": 7,
     "metadata": {},
     "output_type": "execute_result"
    }
   ],
   "source": [
    "tree_clf.fit(train_data.iloc[:,:-1], train_data['fault'])"
   ]
  },
  {
   "cell_type": "code",
   "execution_count": 8,
   "metadata": {},
   "outputs": [],
   "source": [
    "train_predictions = tree_clf.predict(train_data.iloc[:,:-1])\n",
    "test_predictions = tree_clf.predict(test_data.iloc[:,:-1])"
   ]
  },
  {
   "cell_type": "code",
   "execution_count": 15,
   "metadata": {},
   "outputs": [
    {
     "data": {
      "text/plain": [
       "array(['OR014', 'B007', 'B021', ..., 'OR014', 'B021', 'OR014'],\n",
       "      dtype=object)"
      ]
     },
     "execution_count": 15,
     "metadata": {},
     "output_type": "execute_result"
    }
   ],
   "source": [
    "train_predictions"
   ]
  },
  {
   "cell_type": "code",
   "execution_count": null,
   "metadata": {},
   "outputs": [],
   "source": []
  },
  {
   "cell_type": "code",
   "execution_count": 9,
   "metadata": {},
   "outputs": [
    {
     "name": "stdout",
     "output_type": "stream",
     "text": [
      "Overall train accuracy:  1.0\n"
     ]
    }
   ],
   "source": [
    "overall_train_accuracy = accuracy_score(train_data['fault'], train_predictions)\n",
    "print(\"Overall train accuracy: \", overall_train_accuracy)"
   ]
  },
  {
   "cell_type": "code",
   "execution_count": 10,
   "metadata": {},
   "outputs": [],
   "source": [
    "train_confu_matrix = confusion_matrix(train_data['fault'], train_predictions)\n",
    "test_confu_matrix = confusion_matrix(test_data['fault'], test_predictions)"
   ]
  },
  {
   "cell_type": "code",
   "execution_count": 11,
   "metadata": {},
   "outputs": [
    {
     "data": {
      "image/png": "[encoded data removed]",
      "text/plain": [
       "<Figure size 1296x576 with 2 Axes>"
      ]
     },
     "metadata": {
      "needs_background": "light"
     },
     "output_type": "display_data"
    }
   ],
   "source": [
    "fault_type = ['C1','C2','C3','C4','C5','C6','C7','C8','C9','C10']\n",
    "plt.figure(1,figsize=(18,8))\n",
    "plt.subplot(121)\n",
    "sns.heatmap(train_confu_matrix, annot= True,fmt = \"d\",\n",
    "xticklabels=fault_type, yticklabels=fault_type, cmap = \"Blues\", cbar = False)\n",
    "plt.title('Training Confusion Matrix')\n",
    "plt.xlabel('Predicted')\n",
    "plt.ylabel('True')\n",
    "plt.subplot(122)\n",
    "sns.heatmap(train_confu_matrix/155, annot= True,\n",
    "xticklabels=fault_type, yticklabels=fault_type, cmap = \"Blues\", cbar = False)\n",
    "plt.title('Training Confusion Matrix (in %age)')\n",
    "plt.xlabel('Predicted')\n",
    "plt.ylabel('True')\n",
    "plt.show()    "
   ]
  },
  {
   "cell_type": "code",
   "execution_count": 12,
   "metadata": {},
   "outputs": [
    {
     "data": {
      "image/png": "[encoded data removed]",
      "text/plain": [
       "<Figure size 1296x576 with 2 Axes>"
      ]
     },
     "metadata": {
      "needs_background": "light"
     },
     "output_type": "display_data"
    }
   ],
   "source": [
    "plt.figure(2,figsize=(18,8))\n",
    "plt.subplot(121)\n",
    "sns.heatmap(test_confu_matrix, annot = True,\n",
    "xticklabels=fault_type, yticklabels=fault_type, cmap = \"Blues\", cbar = False)\n",
    "plt.title('Test Confusion Matrix')\n",
    "plt.xlabel('Predicted')\n",
    "plt.ylabel('True')\n",
    "plt.subplot(122)\n",
    "sns.heatmap(test_confu_matrix/75, annot = True,\n",
    "xticklabels=fault_type, yticklabels=fault_type, cmap = \"Blues\", cbar = False)\n",
    "plt.title('Test Confusion Matrix (in %age)')\n",
    "plt.xlabel('Predicted')\n",
    "plt.ylabel('True')\n",
    "plt.show()"
   ]
  },
  {
   "cell_type": "code",
   "execution_count": 13,
   "metadata": {},
   "outputs": [
    {
     "name": "stdout",
     "output_type": "stream",
     "text": [
      "Overall test accuracy:  0.9973333333333333\n"
     ]
    }
   ],
   "source": [
    "overall_test_accuracy = accuracy_score(test_data['fault'], test_predictions)\n",
    "print(\"Overall test accuracy: \", overall_test_accuracy)"
   ]
  },
  {
   "cell_type": "code",
   "execution_count": 14,
   "metadata": {},
   "outputs": [
    {
     "data": {
      "image/png": "[encoded data removed]",
      "text/plain": [
       "<Figure size 432x288 with 1 Axes>"
      ]
     },
     "metadata": {
      "needs_background": "light"
     },
     "output_type": "display_data"
    }
   ],
   "source": [
    "ccp_alphas = np.linspace(0, 0.7, num = 15)\n",
    "clfs = []\n",
    "for ccp_alpha in ccp_alphas:\n",
    "    clf = DecisionTreeClassifier(random_state=0, ccp_alpha=ccp_alpha)\n",
    "    clf.fit(train_data.iloc[:,:-1], train_data['fault'])\n",
    "    clfs.append(clf)\n",
    "\n",
    "train_scores = [clf.score(train_data.iloc[:,:-1], train_data['fault']) for clf in clfs]\n",
    "test_scores = [clf.score(test_data.iloc[:,:-1], test_data['fault']) for clf in clfs]\n",
    "plt.figure()\n",
    "plt.plot(ccp_alphas, train_scores,'-o', color = \"blue\", label = \"Train\", drawstyle = \"steps-post\")\n",
    "plt.plot(ccp_alphas, test_scores, '-o', color = \"red\", label = \"Test\", drawstyle = \"steps-post\")\n",
    "plt.xlabel(\"alpha (hyperparameter)\")\n",
    "plt.ylabel(\"Accuracy\")\n",
    "plt.legend()\n",
    "plt.show()"
   ]
  },
  {
   "cell_type": "code",
   "execution_count": null,
   "metadata": {},
   "outputs": [],
   "source": []
  },
  {
   "cell_type": "code",
   "execution_count": null,
   "metadata": {},
   "outputs": [],
   "source": []
  },
  {
   "cell_type": "code",
   "execution_count": null,
   "metadata": {},
   "outputs": [],
   "source": []
  }
 ],
 "metadata": {
  "kernelspec": {
   "display_name": "Python 3",
   "language": "python",
   "name": "python3"
  },
  "language_info": {
   "codemirror_mode": {
    "name": "ipython",
    "version": 3
   },
   "file_extension": ".py",
   "mimetype": "text/x-python",
   "name": "python",
   "nbconvert_exporter": "python",
   "pygments_lexer": "ipython3",
   "version": "3.8.5"
  }
 },
 "nbformat": 4,
 "nbformat_minor": 4
}
