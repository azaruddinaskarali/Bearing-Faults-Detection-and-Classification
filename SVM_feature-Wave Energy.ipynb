{
 "cells": [
  {
   "cell_type": "code",
   "execution_count": 1,
   "metadata": {},
   "outputs": [],
   "source": [
    "import pandas as pd\n",
    "import numpy as np\n",
    "from sklearn.model_selection import train_test_split\n",
    "from sklearn.ensemble import BaggingClassifier\n",
    "from sklearn.metrics import confusion_matrix,accuracy_score\n",
    "import seaborn as sns\n",
    "import matplotlib.pyplot as plt"
   ]
  },
  {
   "cell_type": "code",
   "execution_count": 2,
   "metadata": {},
   "outputs": [],
   "source": [
    "import pandas as pd\n",
    "import numpy as np\n",
    "from sklearn.model_selection import train_test_split\n",
    "from sklearn.preprocessing import StandardScaler\n",
    "from sklearn.model_selection import GridSearchCV\n",
    "from sklearn.svm import SVC\n",
    "from sklearn.metrics import confusion_matrix,accuracy_score\n",
    "import seaborn as sns\n",
    "import matplotlib.pyplot as plt"
   ]
  },
  {
   "cell_type": "code",
   "execution_count": 3,
   "metadata": {},
   "outputs": [],
   "source": [
    "df = pd.read_csv('feature_energyy_48k_1024.csv')"
   ]
  },
  {
   "cell_type": "code",
   "execution_count": 4,
   "metadata": {},
   "outputs": [
    {
     "data": {
      "text/html": [
       "<div>\n",
       "<style scoped>\n",
       "    .dataframe tbody tr th:only-of-type {\n",
       "        vertical-align: middle;\n",
       "    }\n",
       "\n",
       "    .dataframe tbody tr th {\n",
       "        vertical-align: top;\n",
       "    }\n",
       "\n",
       "    .dataframe thead th {\n",
       "        text-align: right;\n",
       "    }\n",
       "</style>\n",
       "<table border=\"1\" class=\"dataframe\">\n",
       "  <thead>\n",
       "    <tr style=\"text-align: right;\">\n",
       "      <th></th>\n",
       "      <th>Unnamed: 0</th>\n",
       "      <th>Max</th>\n",
       "      <th>Min</th>\n",
       "      <th>Mean</th>\n",
       "      <th>Stddev</th>\n",
       "      <th>RMS</th>\n",
       "      <th>skew</th>\n",
       "      <th>kurtosis</th>\n",
       "      <th>crest factor</th>\n",
       "      <th>form factor</th>\n",
       "      <th>fault</th>\n",
       "    </tr>\n",
       "  </thead>\n",
       "  <tbody>\n",
       "    <tr>\n",
       "      <th>0</th>\n",
       "      <td>0</td>\n",
       "      <td>7.735576</td>\n",
       "      <td>0.000040</td>\n",
       "      <td>1.944408</td>\n",
       "      <td>3.569189</td>\n",
       "      <td>3.863605</td>\n",
       "      <td>0.944932</td>\n",
       "      <td>-1.213658</td>\n",
       "      <td>2.002165</td>\n",
       "      <td>1.987034</td>\n",
       "      <td>B007</td>\n",
       "    </tr>\n",
       "    <tr>\n",
       "      <th>1</th>\n",
       "      <td>1</td>\n",
       "      <td>8.695586</td>\n",
       "      <td>0.000066</td>\n",
       "      <td>2.078098</td>\n",
       "      <td>3.804390</td>\n",
       "      <td>4.121007</td>\n",
       "      <td>0.956834</td>\n",
       "      <td>-1.170024</td>\n",
       "      <td>2.110063</td>\n",
       "      <td>1.983067</td>\n",
       "      <td>B007</td>\n",
       "    </tr>\n",
       "    <tr>\n",
       "      <th>2</th>\n",
       "      <td>2</td>\n",
       "      <td>10.249304</td>\n",
       "      <td>0.000061</td>\n",
       "      <td>2.163055</td>\n",
       "      <td>4.060023</td>\n",
       "      <td>4.370598</td>\n",
       "      <td>1.077590</td>\n",
       "      <td>-0.741507</td>\n",
       "      <td>2.345058</td>\n",
       "      <td>2.020567</td>\n",
       "      <td>B007</td>\n",
       "    </tr>\n",
       "    <tr>\n",
       "      <th>3</th>\n",
       "      <td>3</td>\n",
       "      <td>13.546487</td>\n",
       "      <td>0.000056</td>\n",
       "      <td>2.453304</td>\n",
       "      <td>4.943623</td>\n",
       "      <td>5.234805</td>\n",
       "      <td>1.367799</td>\n",
       "      <td>0.245704</td>\n",
       "      <td>2.587773</td>\n",
       "      <td>2.133778</td>\n",
       "      <td>B007</td>\n",
       "    </tr>\n",
       "    <tr>\n",
       "      <th>4</th>\n",
       "      <td>4</td>\n",
       "      <td>14.398300</td>\n",
       "      <td>0.000059</td>\n",
       "      <td>3.261400</td>\n",
       "      <td>6.051951</td>\n",
       "      <td>6.533344</td>\n",
       "      <td>0.988448</td>\n",
       "      <td>-1.057899</td>\n",
       "      <td>2.203818</td>\n",
       "      <td>2.003233</td>\n",
       "      <td>B007</td>\n",
       "    </tr>\n",
       "    <tr>\n",
       "      <th>...</th>\n",
       "      <td>...</td>\n",
       "      <td>...</td>\n",
       "      <td>...</td>\n",
       "      <td>...</td>\n",
       "      <td>...</td>\n",
       "      <td>...</td>\n",
       "      <td>...</td>\n",
       "      <td>...</td>\n",
       "      <td>...</td>\n",
       "      <td>...</td>\n",
       "      <td>...</td>\n",
       "    </tr>\n",
       "    <tr>\n",
       "      <th>4595</th>\n",
       "      <td>4595</td>\n",
       "      <td>2.837118</td>\n",
       "      <td>0.000240</td>\n",
       "      <td>0.626921</td>\n",
       "      <td>1.034254</td>\n",
       "      <td>1.152823</td>\n",
       "      <td>1.165481</td>\n",
       "      <td>-0.256336</td>\n",
       "      <td>2.461018</td>\n",
       "      <td>1.838864</td>\n",
       "      <td>Normal</td>\n",
       "    </tr>\n",
       "    <tr>\n",
       "      <th>4596</th>\n",
       "      <td>4596</td>\n",
       "      <td>2.177545</td>\n",
       "      <td>0.000285</td>\n",
       "      <td>0.565410</td>\n",
       "      <td>0.874068</td>\n",
       "      <td>0.994075</td>\n",
       "      <td>0.894720</td>\n",
       "      <td>-1.119235</td>\n",
       "      <td>2.190524</td>\n",
       "      <td>1.758147</td>\n",
       "      <td>Normal</td>\n",
       "    </tr>\n",
       "    <tr>\n",
       "      <th>4597</th>\n",
       "      <td>4597</td>\n",
       "      <td>2.234886</td>\n",
       "      <td>0.000152</td>\n",
       "      <td>0.623738</td>\n",
       "      <td>0.977160</td>\n",
       "      <td>1.106587</td>\n",
       "      <td>0.860213</td>\n",
       "      <td>-1.293595</td>\n",
       "      <td>2.019620</td>\n",
       "      <td>1.774123</td>\n",
       "      <td>Normal</td>\n",
       "    </tr>\n",
       "    <tr>\n",
       "      <th>4598</th>\n",
       "      <td>4598</td>\n",
       "      <td>2.025957</td>\n",
       "      <td>0.000271</td>\n",
       "      <td>0.559964</td>\n",
       "      <td>0.851823</td>\n",
       "      <td>0.973890</td>\n",
       "      <td>0.831406</td>\n",
       "      <td>-1.295369</td>\n",
       "      <td>2.080273</td>\n",
       "      <td>1.739201</td>\n",
       "      <td>Normal</td>\n",
       "    </tr>\n",
       "    <tr>\n",
       "      <th>4599</th>\n",
       "      <td>4599</td>\n",
       "      <td>1.756989</td>\n",
       "      <td>0.000261</td>\n",
       "      <td>0.506049</td>\n",
       "      <td>0.758687</td>\n",
       "      <td>0.871631</td>\n",
       "      <td>0.800864</td>\n",
       "      <td>-1.362569</td>\n",
       "      <td>2.015748</td>\n",
       "      <td>1.722425</td>\n",
       "      <td>Normal</td>\n",
       "    </tr>\n",
       "  </tbody>\n",
       "</table>\n",
       "<p>4600 rows × 11 columns</p>\n",
       "</div>"
      ],
      "text/plain": [
       "      Unnamed: 0        Max       Min      Mean    Stddev       RMS      skew  \\\n",
       "0              0   7.735576  0.000040  1.944408  3.569189  3.863605  0.944932   \n",
       "1              1   8.695586  0.000066  2.078098  3.804390  4.121007  0.956834   \n",
       "2              2  10.249304  0.000061  2.163055  4.060023  4.370598  1.077590   \n",
       "3              3  13.546487  0.000056  2.453304  4.943623  5.234805  1.367799   \n",
       "4              4  14.398300  0.000059  3.261400  6.051951  6.533344  0.988448   \n",
       "...          ...        ...       ...       ...       ...       ...       ...   \n",
       "4595        4595   2.837118  0.000240  0.626921  1.034254  1.152823  1.165481   \n",
       "4596        4596   2.177545  0.000285  0.565410  0.874068  0.994075  0.894720   \n",
       "4597        4597   2.234886  0.000152  0.623738  0.977160  1.106587  0.860213   \n",
       "4598        4598   2.025957  0.000271  0.559964  0.851823  0.973890  0.831406   \n",
       "4599        4599   1.756989  0.000261  0.506049  0.758687  0.871631  0.800864   \n",
       "\n",
       "      kurtosis  crest factor  form factor   fault  \n",
       "0    -1.213658      2.002165     1.987034    B007  \n",
       "1    -1.170024      2.110063     1.983067    B007  \n",
       "2    -0.741507      2.345058     2.020567    B007  \n",
       "3     0.245704      2.587773     2.133778    B007  \n",
       "4    -1.057899      2.203818     2.003233    B007  \n",
       "...        ...           ...          ...     ...  \n",
       "4595 -0.256336      2.461018     1.838864  Normal  \n",
       "4596 -1.119235      2.190524     1.758147  Normal  \n",
       "4597 -1.293595      2.019620     1.774123  Normal  \n",
       "4598 -1.295369      2.080273     1.739201  Normal  \n",
       "4599 -1.362569      2.015748     1.722425  Normal  \n",
       "\n",
       "[4600 rows x 11 columns]"
      ]
     },
     "execution_count": 4,
     "metadata": {},
     "output_type": "execute_result"
    }
   ],
   "source": [
    "df"
   ]
  },
  {
   "cell_type": "code",
   "execution_count": 5,
   "metadata": {},
   "outputs": [],
   "source": [
    "df.drop(df.columns[[0]], axis = 1, inplace = True)"
   ]
  },
  {
   "cell_type": "code",
   "execution_count": 6,
   "metadata": {},
   "outputs": [
    {
     "data": {
      "text/html": [
       "<div>\n",
       "<style scoped>\n",
       "    .dataframe tbody tr th:only-of-type {\n",
       "        vertical-align: middle;\n",
       "    }\n",
       "\n",
       "    .dataframe tbody tr th {\n",
       "        vertical-align: top;\n",
       "    }\n",
       "\n",
       "    .dataframe thead th {\n",
       "        text-align: right;\n",
       "    }\n",
       "</style>\n",
       "<table border=\"1\" class=\"dataframe\">\n",
       "  <thead>\n",
       "    <tr style=\"text-align: right;\">\n",
       "      <th></th>\n",
       "      <th>Max</th>\n",
       "      <th>Min</th>\n",
       "      <th>Mean</th>\n",
       "      <th>Stddev</th>\n",
       "      <th>RMS</th>\n",
       "      <th>skew</th>\n",
       "      <th>kurtosis</th>\n",
       "      <th>crest factor</th>\n",
       "      <th>form factor</th>\n",
       "      <th>fault</th>\n",
       "    </tr>\n",
       "  </thead>\n",
       "  <tbody>\n",
       "    <tr>\n",
       "      <th>0</th>\n",
       "      <td>7.735576</td>\n",
       "      <td>0.000040</td>\n",
       "      <td>1.944408</td>\n",
       "      <td>3.569189</td>\n",
       "      <td>3.863605</td>\n",
       "      <td>0.944932</td>\n",
       "      <td>-1.213658</td>\n",
       "      <td>2.002165</td>\n",
       "      <td>1.987034</td>\n",
       "      <td>B007</td>\n",
       "    </tr>\n",
       "    <tr>\n",
       "      <th>1</th>\n",
       "      <td>8.695586</td>\n",
       "      <td>0.000066</td>\n",
       "      <td>2.078098</td>\n",
       "      <td>3.804390</td>\n",
       "      <td>4.121007</td>\n",
       "      <td>0.956834</td>\n",
       "      <td>-1.170024</td>\n",
       "      <td>2.110063</td>\n",
       "      <td>1.983067</td>\n",
       "      <td>B007</td>\n",
       "    </tr>\n",
       "    <tr>\n",
       "      <th>2</th>\n",
       "      <td>10.249304</td>\n",
       "      <td>0.000061</td>\n",
       "      <td>2.163055</td>\n",
       "      <td>4.060023</td>\n",
       "      <td>4.370598</td>\n",
       "      <td>1.077590</td>\n",
       "      <td>-0.741507</td>\n",
       "      <td>2.345058</td>\n",
       "      <td>2.020567</td>\n",
       "      <td>B007</td>\n",
       "    </tr>\n",
       "    <tr>\n",
       "      <th>3</th>\n",
       "      <td>13.546487</td>\n",
       "      <td>0.000056</td>\n",
       "      <td>2.453304</td>\n",
       "      <td>4.943623</td>\n",
       "      <td>5.234805</td>\n",
       "      <td>1.367799</td>\n",
       "      <td>0.245704</td>\n",
       "      <td>2.587773</td>\n",
       "      <td>2.133778</td>\n",
       "      <td>B007</td>\n",
       "    </tr>\n",
       "    <tr>\n",
       "      <th>4</th>\n",
       "      <td>14.398300</td>\n",
       "      <td>0.000059</td>\n",
       "      <td>3.261400</td>\n",
       "      <td>6.051951</td>\n",
       "      <td>6.533344</td>\n",
       "      <td>0.988448</td>\n",
       "      <td>-1.057899</td>\n",
       "      <td>2.203818</td>\n",
       "      <td>2.003233</td>\n",
       "      <td>B007</td>\n",
       "    </tr>\n",
       "    <tr>\n",
       "      <th>...</th>\n",
       "      <td>...</td>\n",
       "      <td>...</td>\n",
       "      <td>...</td>\n",
       "      <td>...</td>\n",
       "      <td>...</td>\n",
       "      <td>...</td>\n",
       "      <td>...</td>\n",
       "      <td>...</td>\n",
       "      <td>...</td>\n",
       "      <td>...</td>\n",
       "    </tr>\n",
       "    <tr>\n",
       "      <th>4595</th>\n",
       "      <td>2.837118</td>\n",
       "      <td>0.000240</td>\n",
       "      <td>0.626921</td>\n",
       "      <td>1.034254</td>\n",
       "      <td>1.152823</td>\n",
       "      <td>1.165481</td>\n",
       "      <td>-0.256336</td>\n",
       "      <td>2.461018</td>\n",
       "      <td>1.838864</td>\n",
       "      <td>Normal</td>\n",
       "    </tr>\n",
       "    <tr>\n",
       "      <th>4596</th>\n",
       "      <td>2.177545</td>\n",
       "      <td>0.000285</td>\n",
       "      <td>0.565410</td>\n",
       "      <td>0.874068</td>\n",
       "      <td>0.994075</td>\n",
       "      <td>0.894720</td>\n",
       "      <td>-1.119235</td>\n",
       "      <td>2.190524</td>\n",
       "      <td>1.758147</td>\n",
       "      <td>Normal</td>\n",
       "    </tr>\n",
       "    <tr>\n",
       "      <th>4597</th>\n",
       "      <td>2.234886</td>\n",
       "      <td>0.000152</td>\n",
       "      <td>0.623738</td>\n",
       "      <td>0.977160</td>\n",
       "      <td>1.106587</td>\n",
       "      <td>0.860213</td>\n",
       "      <td>-1.293595</td>\n",
       "      <td>2.019620</td>\n",
       "      <td>1.774123</td>\n",
       "      <td>Normal</td>\n",
       "    </tr>\n",
       "    <tr>\n",
       "      <th>4598</th>\n",
       "      <td>2.025957</td>\n",
       "      <td>0.000271</td>\n",
       "      <td>0.559964</td>\n",
       "      <td>0.851823</td>\n",
       "      <td>0.973890</td>\n",
       "      <td>0.831406</td>\n",
       "      <td>-1.295369</td>\n",
       "      <td>2.080273</td>\n",
       "      <td>1.739201</td>\n",
       "      <td>Normal</td>\n",
       "    </tr>\n",
       "    <tr>\n",
       "      <th>4599</th>\n",
       "      <td>1.756989</td>\n",
       "      <td>0.000261</td>\n",
       "      <td>0.506049</td>\n",
       "      <td>0.758687</td>\n",
       "      <td>0.871631</td>\n",
       "      <td>0.800864</td>\n",
       "      <td>-1.362569</td>\n",
       "      <td>2.015748</td>\n",
       "      <td>1.722425</td>\n",
       "      <td>Normal</td>\n",
       "    </tr>\n",
       "  </tbody>\n",
       "</table>\n",
       "<p>4600 rows × 10 columns</p>\n",
       "</div>"
      ],
      "text/plain": [
       "            Max       Min      Mean    Stddev       RMS      skew  kurtosis  \\\n",
       "0      7.735576  0.000040  1.944408  3.569189  3.863605  0.944932 -1.213658   \n",
       "1      8.695586  0.000066  2.078098  3.804390  4.121007  0.956834 -1.170024   \n",
       "2     10.249304  0.000061  2.163055  4.060023  4.370598  1.077590 -0.741507   \n",
       "3     13.546487  0.000056  2.453304  4.943623  5.234805  1.367799  0.245704   \n",
       "4     14.398300  0.000059  3.261400  6.051951  6.533344  0.988448 -1.057899   \n",
       "...         ...       ...       ...       ...       ...       ...       ...   \n",
       "4595   2.837118  0.000240  0.626921  1.034254  1.152823  1.165481 -0.256336   \n",
       "4596   2.177545  0.000285  0.565410  0.874068  0.994075  0.894720 -1.119235   \n",
       "4597   2.234886  0.000152  0.623738  0.977160  1.106587  0.860213 -1.293595   \n",
       "4598   2.025957  0.000271  0.559964  0.851823  0.973890  0.831406 -1.295369   \n",
       "4599   1.756989  0.000261  0.506049  0.758687  0.871631  0.800864 -1.362569   \n",
       "\n",
       "      crest factor  form factor   fault  \n",
       "0         2.002165     1.987034    B007  \n",
       "1         2.110063     1.983067    B007  \n",
       "2         2.345058     2.020567    B007  \n",
       "3         2.587773     2.133778    B007  \n",
       "4         2.203818     2.003233    B007  \n",
       "...            ...          ...     ...  \n",
       "4595      2.461018     1.838864  Normal  \n",
       "4596      2.190524     1.758147  Normal  \n",
       "4597      2.019620     1.774123  Normal  \n",
       "4598      2.080273     1.739201  Normal  \n",
       "4599      2.015748     1.722425  Normal  \n",
       "\n",
       "[4600 rows x 10 columns]"
      ]
     },
     "execution_count": 6,
     "metadata": {},
     "output_type": "execute_result"
    }
   ],
   "source": [
    "df"
   ]
  },
  {
   "cell_type": "markdown",
   "metadata": {},
   "source": [
    "## EDA"
   ]
  },
  {
   "cell_type": "code",
   "execution_count": 7,
   "metadata": {},
   "outputs": [],
   "source": [
    "#import dtale\n",
    "#import dtale.app as dtale_app"
   ]
  },
  {
   "cell_type": "code",
   "execution_count": 8,
   "metadata": {
    "scrolled": true
   },
   "outputs": [],
   "source": [
    "#dtale.show(df)"
   ]
  },
  {
   "cell_type": "code",
   "execution_count": 9,
   "metadata": {},
   "outputs": [
    {
     "name": "stdout",
     "output_type": "stream",
     "text": [
      "<class 'pandas.core.frame.DataFrame'>\n",
      "RangeIndex: 4600 entries, 0 to 4599\n",
      "Data columns (total 10 columns):\n",
      " #   Column        Non-Null Count  Dtype  \n",
      "---  ------        --------------  -----  \n",
      " 0   Max           4600 non-null   float64\n",
      " 1   Min           4600 non-null   float64\n",
      " 2   Mean          4600 non-null   float64\n",
      " 3   Stddev        4600 non-null   float64\n",
      " 4   RMS           4600 non-null   float64\n",
      " 5   skew          4600 non-null   float64\n",
      " 6   kurtosis      4600 non-null   float64\n",
      " 7   crest factor  4600 non-null   float64\n",
      " 8   form factor   4600 non-null   float64\n",
      " 9   fault         4600 non-null   object \n",
      "dtypes: float64(9), object(1)\n",
      "memory usage: 359.5+ KB\n"
     ]
    }
   ],
   "source": [
    "df.info()"
   ]
  },
  {
   "cell_type": "code",
   "execution_count": 10,
   "metadata": {},
   "outputs": [
    {
     "data": {
      "text/html": [
       "<div>\n",
       "<style scoped>\n",
       "    .dataframe tbody tr th:only-of-type {\n",
       "        vertical-align: middle;\n",
       "    }\n",
       "\n",
       "    .dataframe tbody tr th {\n",
       "        vertical-align: top;\n",
       "    }\n",
       "\n",
       "    .dataframe thead th {\n",
       "        text-align: right;\n",
       "    }\n",
       "</style>\n",
       "<table border=\"1\" class=\"dataframe\">\n",
       "  <thead>\n",
       "    <tr style=\"text-align: right;\">\n",
       "      <th></th>\n",
       "      <th>Max</th>\n",
       "      <th>Min</th>\n",
       "      <th>Mean</th>\n",
       "      <th>Stddev</th>\n",
       "      <th>RMS</th>\n",
       "      <th>skew</th>\n",
       "      <th>kurtosis</th>\n",
       "      <th>crest factor</th>\n",
       "      <th>form factor</th>\n",
       "    </tr>\n",
       "  </thead>\n",
       "  <tbody>\n",
       "    <tr>\n",
       "      <th>count</th>\n",
       "      <td>4600.000000</td>\n",
       "      <td>4600.000000</td>\n",
       "      <td>4600.000000</td>\n",
       "      <td>4600.000000</td>\n",
       "      <td>4600.000000</td>\n",
       "      <td>4600.000000</td>\n",
       "      <td>4600.000000</td>\n",
       "      <td>4600.000000</td>\n",
       "      <td>4600.000000</td>\n",
       "    </tr>\n",
       "    <tr>\n",
       "      <th>mean</th>\n",
       "      <td>143.845820</td>\n",
       "      <td>0.001452</td>\n",
       "      <td>26.995398</td>\n",
       "      <td>54.303014</td>\n",
       "      <td>57.554149</td>\n",
       "      <td>1.213199</td>\n",
       "      <td>-0.264372</td>\n",
       "      <td>2.414084</td>\n",
       "      <td>2.058249</td>\n",
       "    </tr>\n",
       "    <tr>\n",
       "      <th>std</th>\n",
       "      <td>247.648919</td>\n",
       "      <td>0.003896</td>\n",
       "      <td>46.338384</td>\n",
       "      <td>93.053076</td>\n",
       "      <td>98.591314</td>\n",
       "      <td>0.263002</td>\n",
       "      <td>0.845066</td>\n",
       "      <td>0.234275</td>\n",
       "      <td>0.166128</td>\n",
       "    </tr>\n",
       "    <tr>\n",
       "      <th>min</th>\n",
       "      <td>1.476197</td>\n",
       "      <td>0.000024</td>\n",
       "      <td>0.430476</td>\n",
       "      <td>0.641308</td>\n",
       "      <td>0.738360</td>\n",
       "      <td>0.745511</td>\n",
       "      <td>-1.449519</td>\n",
       "      <td>1.933743</td>\n",
       "      <td>1.689258</td>\n",
       "    </tr>\n",
       "    <tr>\n",
       "      <th>25%</th>\n",
       "      <td>10.953242</td>\n",
       "      <td>0.000075</td>\n",
       "      <td>2.324576</td>\n",
       "      <td>4.431590</td>\n",
       "      <td>4.773731</td>\n",
       "      <td>0.978495</td>\n",
       "      <td>-1.051138</td>\n",
       "      <td>2.212101</td>\n",
       "      <td>1.984810</td>\n",
       "    </tr>\n",
       "    <tr>\n",
       "      <th>50%</th>\n",
       "      <td>22.630508</td>\n",
       "      <td>0.000169</td>\n",
       "      <td>4.683690</td>\n",
       "      <td>8.795565</td>\n",
       "      <td>9.542292</td>\n",
       "      <td>1.137301</td>\n",
       "      <td>-0.492563</td>\n",
       "      <td>2.417587</td>\n",
       "      <td>2.035506</td>\n",
       "    </tr>\n",
       "    <tr>\n",
       "      <th>75%</th>\n",
       "      <td>173.263817</td>\n",
       "      <td>0.000370</td>\n",
       "      <td>31.227245</td>\n",
       "      <td>65.558014</td>\n",
       "      <td>68.700229</td>\n",
       "      <td>1.433094</td>\n",
       "      <td>0.461176</td>\n",
       "      <td>2.627413</td>\n",
       "      <td>2.167929</td>\n",
       "    </tr>\n",
       "    <tr>\n",
       "      <th>max</th>\n",
       "      <td>1317.684096</td>\n",
       "      <td>0.036543</td>\n",
       "      <td>241.867652</td>\n",
       "      <td>479.046731</td>\n",
       "      <td>509.215092</td>\n",
       "      <td>1.826774</td>\n",
       "      <td>1.629244</td>\n",
       "      <td>2.816443</td>\n",
       "      <td>2.583289</td>\n",
       "    </tr>\n",
       "  </tbody>\n",
       "</table>\n",
       "</div>"
      ],
      "text/plain": [
       "               Max          Min         Mean       Stddev          RMS  \\\n",
       "count  4600.000000  4600.000000  4600.000000  4600.000000  4600.000000   \n",
       "mean    143.845820     0.001452    26.995398    54.303014    57.554149   \n",
       "std     247.648919     0.003896    46.338384    93.053076    98.591314   \n",
       "min       1.476197     0.000024     0.430476     0.641308     0.738360   \n",
       "25%      10.953242     0.000075     2.324576     4.431590     4.773731   \n",
       "50%      22.630508     0.000169     4.683690     8.795565     9.542292   \n",
       "75%     173.263817     0.000370    31.227245    65.558014    68.700229   \n",
       "max    1317.684096     0.036543   241.867652   479.046731   509.215092   \n",
       "\n",
       "              skew     kurtosis  crest factor  form factor  \n",
       "count  4600.000000  4600.000000   4600.000000  4600.000000  \n",
       "mean      1.213199    -0.264372      2.414084     2.058249  \n",
       "std       0.263002     0.845066      0.234275     0.166128  \n",
       "min       0.745511    -1.449519      1.933743     1.689258  \n",
       "25%       0.978495    -1.051138      2.212101     1.984810  \n",
       "50%       1.137301    -0.492563      2.417587     2.035506  \n",
       "75%       1.433094     0.461176      2.627413     2.167929  \n",
       "max       1.826774     1.629244      2.816443     2.583289  "
      ]
     },
     "execution_count": 10,
     "metadata": {},
     "output_type": "execute_result"
    }
   ],
   "source": [
    "df.describe()"
   ]
  },
  {
   "cell_type": "code",
   "execution_count": 11,
   "metadata": {},
   "outputs": [
    {
     "data": {
      "text/html": [
       "<div>\n",
       "<style scoped>\n",
       "    .dataframe tbody tr th:only-of-type {\n",
       "        vertical-align: middle;\n",
       "    }\n",
       "\n",
       "    .dataframe tbody tr th {\n",
       "        vertical-align: top;\n",
       "    }\n",
       "\n",
       "    .dataframe thead th {\n",
       "        text-align: right;\n",
       "    }\n",
       "</style>\n",
       "<table border=\"1\" class=\"dataframe\">\n",
       "  <thead>\n",
       "    <tr style=\"text-align: right;\">\n",
       "      <th></th>\n",
       "      <th>Max</th>\n",
       "      <th>Min</th>\n",
       "      <th>Mean</th>\n",
       "      <th>Stddev</th>\n",
       "      <th>RMS</th>\n",
       "      <th>skew</th>\n",
       "      <th>kurtosis</th>\n",
       "      <th>crest factor</th>\n",
       "      <th>form factor</th>\n",
       "    </tr>\n",
       "  </thead>\n",
       "  <tbody>\n",
       "    <tr>\n",
       "      <th>Max</th>\n",
       "      <td>1.000000</td>\n",
       "      <td>-0.122527</td>\n",
       "      <td>0.987289</td>\n",
       "      <td>0.996660</td>\n",
       "      <td>0.995193</td>\n",
       "      <td>0.276510</td>\n",
       "      <td>0.264839</td>\n",
       "      <td>0.260200</td>\n",
       "      <td>0.324082</td>\n",
       "    </tr>\n",
       "    <tr>\n",
       "      <th>Min</th>\n",
       "      <td>-0.122527</td>\n",
       "      <td>1.000000</td>\n",
       "      <td>-0.115289</td>\n",
       "      <td>-0.120923</td>\n",
       "      <td>-0.119693</td>\n",
       "      <td>-0.265246</td>\n",
       "      <td>-0.261229</td>\n",
       "      <td>-0.286035</td>\n",
       "      <td>-0.347168</td>\n",
       "    </tr>\n",
       "    <tr>\n",
       "      <th>Mean</th>\n",
       "      <td>0.987289</td>\n",
       "      <td>-0.115289</td>\n",
       "      <td>1.000000</td>\n",
       "      <td>0.996553</td>\n",
       "      <td>0.997886</td>\n",
       "      <td>0.193994</td>\n",
       "      <td>0.180126</td>\n",
       "      <td>0.181141</td>\n",
       "      <td>0.258680</td>\n",
       "    </tr>\n",
       "    <tr>\n",
       "      <th>Stddev</th>\n",
       "      <td>0.996660</td>\n",
       "      <td>-0.120923</td>\n",
       "      <td>0.996553</td>\n",
       "      <td>1.000000</td>\n",
       "      <td>0.999838</td>\n",
       "      <td>0.238328</td>\n",
       "      <td>0.225232</td>\n",
       "      <td>0.221065</td>\n",
       "      <td>0.296113</td>\n",
       "    </tr>\n",
       "    <tr>\n",
       "      <th>RMS</th>\n",
       "      <td>0.995193</td>\n",
       "      <td>-0.119693</td>\n",
       "      <td>0.997886</td>\n",
       "      <td>0.999838</td>\n",
       "      <td>1.000000</td>\n",
       "      <td>0.228778</td>\n",
       "      <td>0.215500</td>\n",
       "      <td>0.212419</td>\n",
       "      <td>0.288135</td>\n",
       "    </tr>\n",
       "    <tr>\n",
       "      <th>skew</th>\n",
       "      <td>0.276510</td>\n",
       "      <td>-0.265246</td>\n",
       "      <td>0.193994</td>\n",
       "      <td>0.238328</td>\n",
       "      <td>0.228778</td>\n",
       "      <td>1.000000</td>\n",
       "      <td>0.996110</td>\n",
       "      <td>0.959898</td>\n",
       "      <td>0.921655</td>\n",
       "    </tr>\n",
       "    <tr>\n",
       "      <th>kurtosis</th>\n",
       "      <td>0.264839</td>\n",
       "      <td>-0.261229</td>\n",
       "      <td>0.180126</td>\n",
       "      <td>0.225232</td>\n",
       "      <td>0.215500</td>\n",
       "      <td>0.996110</td>\n",
       "      <td>1.000000</td>\n",
       "      <td>0.967992</td>\n",
       "      <td>0.886835</td>\n",
       "    </tr>\n",
       "    <tr>\n",
       "      <th>crest factor</th>\n",
       "      <td>0.260200</td>\n",
       "      <td>-0.286035</td>\n",
       "      <td>0.181141</td>\n",
       "      <td>0.221065</td>\n",
       "      <td>0.212419</td>\n",
       "      <td>0.959898</td>\n",
       "      <td>0.967992</td>\n",
       "      <td>1.000000</td>\n",
       "      <td>0.832032</td>\n",
       "    </tr>\n",
       "    <tr>\n",
       "      <th>form factor</th>\n",
       "      <td>0.324082</td>\n",
       "      <td>-0.347168</td>\n",
       "      <td>0.258680</td>\n",
       "      <td>0.296113</td>\n",
       "      <td>0.288135</td>\n",
       "      <td>0.921655</td>\n",
       "      <td>0.886835</td>\n",
       "      <td>0.832032</td>\n",
       "      <td>1.000000</td>\n",
       "    </tr>\n",
       "  </tbody>\n",
       "</table>\n",
       "</div>"
      ],
      "text/plain": [
       "                   Max       Min      Mean    Stddev       RMS      skew  \\\n",
       "Max           1.000000 -0.122527  0.987289  0.996660  0.995193  0.276510   \n",
       "Min          -0.122527  1.000000 -0.115289 -0.120923 -0.119693 -0.265246   \n",
       "Mean          0.987289 -0.115289  1.000000  0.996553  0.997886  0.193994   \n",
       "Stddev        0.996660 -0.120923  0.996553  1.000000  0.999838  0.238328   \n",
       "RMS           0.995193 -0.119693  0.997886  0.999838  1.000000  0.228778   \n",
       "skew          0.276510 -0.265246  0.193994  0.238328  0.228778  1.000000   \n",
       "kurtosis      0.264839 -0.261229  0.180126  0.225232  0.215500  0.996110   \n",
       "crest factor  0.260200 -0.286035  0.181141  0.221065  0.212419  0.959898   \n",
       "form factor   0.324082 -0.347168  0.258680  0.296113  0.288135  0.921655   \n",
       "\n",
       "              kurtosis  crest factor  form factor  \n",
       "Max           0.264839      0.260200     0.324082  \n",
       "Min          -0.261229     -0.286035    -0.347168  \n",
       "Mean          0.180126      0.181141     0.258680  \n",
       "Stddev        0.225232      0.221065     0.296113  \n",
       "RMS           0.215500      0.212419     0.288135  \n",
       "skew          0.996110      0.959898     0.921655  \n",
       "kurtosis      1.000000      0.967992     0.886835  \n",
       "crest factor  0.967992      1.000000     0.832032  \n",
       "form factor   0.886835      0.832032     1.000000  "
      ]
     },
     "execution_count": 11,
     "metadata": {},
     "output_type": "execute_result"
    }
   ],
   "source": [
    "df.corr()"
   ]
  },
  {
   "cell_type": "markdown",
   "metadata": {},
   "source": [
    "### Splitting"
   ]
  },
  {
   "cell_type": "code",
   "execution_count": 12,
   "metadata": {},
   "outputs": [],
   "source": [
    "X=df.iloc[:,0:-1]"
   ]
  },
  {
   "cell_type": "code",
   "execution_count": 13,
   "metadata": {},
   "outputs": [],
   "source": [
    "Y=df.iloc[:,-1]"
   ]
  },
  {
   "cell_type": "code",
   "execution_count": 14,
   "metadata": {},
   "outputs": [],
   "source": [
    "from sklearn.model_selection import train_test_split\n",
    "\n",
    "X_train, X_test, y_train, y_test = train_test_split(X, Y, test_size = 750, random_state = 0,stratify = df['fault'])"
   ]
  },
  {
   "cell_type": "code",
   "execution_count": 15,
   "metadata": {},
   "outputs": [
    {
     "data": {
      "text/html": [
       "<div>\n",
       "<style scoped>\n",
       "    .dataframe tbody tr th:only-of-type {\n",
       "        vertical-align: middle;\n",
       "    }\n",
       "\n",
       "    .dataframe tbody tr th {\n",
       "        vertical-align: top;\n",
       "    }\n",
       "\n",
       "    .dataframe thead th {\n",
       "        text-align: right;\n",
       "    }\n",
       "</style>\n",
       "<table border=\"1\" class=\"dataframe\">\n",
       "  <thead>\n",
       "    <tr style=\"text-align: right;\">\n",
       "      <th></th>\n",
       "      <th>Max</th>\n",
       "      <th>Min</th>\n",
       "      <th>Mean</th>\n",
       "      <th>Stddev</th>\n",
       "      <th>RMS</th>\n",
       "      <th>skew</th>\n",
       "      <th>kurtosis</th>\n",
       "      <th>crest factor</th>\n",
       "      <th>form factor</th>\n",
       "    </tr>\n",
       "  </thead>\n",
       "  <tbody>\n",
       "    <tr>\n",
       "      <th>3761</th>\n",
       "      <td>41.960306</td>\n",
       "      <td>0.000065</td>\n",
       "      <td>7.237596</td>\n",
       "      <td>15.001481</td>\n",
       "      <td>15.789131</td>\n",
       "      <td>1.488628</td>\n",
       "      <td>0.636525</td>\n",
       "      <td>2.657544</td>\n",
       "      <td>2.181544</td>\n",
       "    </tr>\n",
       "    <tr>\n",
       "      <th>1362</th>\n",
       "      <td>25.144545</td>\n",
       "      <td>0.000066</td>\n",
       "      <td>4.345901</td>\n",
       "      <td>9.044069</td>\n",
       "      <td>9.510922</td>\n",
       "      <td>1.461615</td>\n",
       "      <td>0.549620</td>\n",
       "      <td>2.643755</td>\n",
       "      <td>2.188481</td>\n",
       "    </tr>\n",
       "    <tr>\n",
       "      <th>162</th>\n",
       "      <td>11.915547</td>\n",
       "      <td>0.000057</td>\n",
       "      <td>2.934774</td>\n",
       "      <td>5.394367</td>\n",
       "      <td>5.837353</td>\n",
       "      <td>0.946615</td>\n",
       "      <td>-1.207700</td>\n",
       "      <td>2.041258</td>\n",
       "      <td>1.989030</td>\n",
       "    </tr>\n",
       "    <tr>\n",
       "      <th>2238</th>\n",
       "      <td>18.791377</td>\n",
       "      <td>0.006776</td>\n",
       "      <td>4.813538</td>\n",
       "      <td>8.135058</td>\n",
       "      <td>9.004272</td>\n",
       "      <td>0.929495</td>\n",
       "      <td>-1.201880</td>\n",
       "      <td>2.086940</td>\n",
       "      <td>1.870614</td>\n",
       "    </tr>\n",
       "    <tr>\n",
       "      <th>1918</th>\n",
       "      <td>28.185353</td>\n",
       "      <td>0.014729</td>\n",
       "      <td>6.121188</td>\n",
       "      <td>10.832223</td>\n",
       "      <td>11.838026</td>\n",
       "      <td>1.104566</td>\n",
       "      <td>-0.611140</td>\n",
       "      <td>2.380917</td>\n",
       "      <td>1.933942</td>\n",
       "    </tr>\n",
       "    <tr>\n",
       "      <th>...</th>\n",
       "      <td>...</td>\n",
       "      <td>...</td>\n",
       "      <td>...</td>\n",
       "      <td>...</td>\n",
       "      <td>...</td>\n",
       "      <td>...</td>\n",
       "      <td>...</td>\n",
       "      <td>...</td>\n",
       "      <td>...</td>\n",
       "    </tr>\n",
       "    <tr>\n",
       "      <th>1896</th>\n",
       "      <td>18.392755</td>\n",
       "      <td>0.007879</td>\n",
       "      <td>4.490614</td>\n",
       "      <td>7.753645</td>\n",
       "      <td>8.530518</td>\n",
       "      <td>0.957020</td>\n",
       "      <td>-1.128044</td>\n",
       "      <td>2.156112</td>\n",
       "      <td>1.899633</td>\n",
       "    </tr>\n",
       "    <tr>\n",
       "      <th>4515</th>\n",
       "      <td>3.430827</td>\n",
       "      <td>0.000257</td>\n",
       "      <td>0.701001</td>\n",
       "      <td>1.221020</td>\n",
       "      <td>1.340124</td>\n",
       "      <td>1.322054</td>\n",
       "      <td>0.207288</td>\n",
       "      <td>2.560082</td>\n",
       "      <td>1.911728</td>\n",
       "    </tr>\n",
       "    <tr>\n",
       "      <th>4545</th>\n",
       "      <td>2.421672</td>\n",
       "      <td>0.000119</td>\n",
       "      <td>0.586430</td>\n",
       "      <td>0.921907</td>\n",
       "      <td>1.042868</td>\n",
       "      <td>0.993099</td>\n",
       "      <td>-0.782956</td>\n",
       "      <td>2.322127</td>\n",
       "      <td>1.778334</td>\n",
       "    </tr>\n",
       "    <tr>\n",
       "      <th>3950</th>\n",
       "      <td>302.877054</td>\n",
       "      <td>0.000157</td>\n",
       "      <td>68.561455</td>\n",
       "      <td>127.566995</td>\n",
       "      <td>137.622106</td>\n",
       "      <td>0.987092</td>\n",
       "      <td>-1.062889</td>\n",
       "      <td>2.200788</td>\n",
       "      <td>2.007281</td>\n",
       "    </tr>\n",
       "    <tr>\n",
       "      <th>1169</th>\n",
       "      <td>26.799390</td>\n",
       "      <td>0.000065</td>\n",
       "      <td>4.556051</td>\n",
       "      <td>9.589695</td>\n",
       "      <td>10.061043</td>\n",
       "      <td>1.498023</td>\n",
       "      <td>0.665303</td>\n",
       "      <td>2.663679</td>\n",
       "      <td>2.208281</td>\n",
       "    </tr>\n",
       "  </tbody>\n",
       "</table>\n",
       "<p>3850 rows × 9 columns</p>\n",
       "</div>"
      ],
      "text/plain": [
       "             Max       Min       Mean      Stddev         RMS      skew  \\\n",
       "3761   41.960306  0.000065   7.237596   15.001481   15.789131  1.488628   \n",
       "1362   25.144545  0.000066   4.345901    9.044069    9.510922  1.461615   \n",
       "162    11.915547  0.000057   2.934774    5.394367    5.837353  0.946615   \n",
       "2238   18.791377  0.006776   4.813538    8.135058    9.004272  0.929495   \n",
       "1918   28.185353  0.014729   6.121188   10.832223   11.838026  1.104566   \n",
       "...          ...       ...        ...         ...         ...       ...   \n",
       "1896   18.392755  0.007879   4.490614    7.753645    8.530518  0.957020   \n",
       "4515    3.430827  0.000257   0.701001    1.221020    1.340124  1.322054   \n",
       "4545    2.421672  0.000119   0.586430    0.921907    1.042868  0.993099   \n",
       "3950  302.877054  0.000157  68.561455  127.566995  137.622106  0.987092   \n",
       "1169   26.799390  0.000065   4.556051    9.589695   10.061043  1.498023   \n",
       "\n",
       "      kurtosis  crest factor  form factor  \n",
       "3761  0.636525      2.657544     2.181544  \n",
       "1362  0.549620      2.643755     2.188481  \n",
       "162  -1.207700      2.041258     1.989030  \n",
       "2238 -1.201880      2.086940     1.870614  \n",
       "1918 -0.611140      2.380917     1.933942  \n",
       "...        ...           ...          ...  \n",
       "1896 -1.128044      2.156112     1.899633  \n",
       "4515  0.207288      2.560082     1.911728  \n",
       "4545 -0.782956      2.322127     1.778334  \n",
       "3950 -1.062889      2.200788     2.007281  \n",
       "1169  0.665303      2.663679     2.208281  \n",
       "\n",
       "[3850 rows x 9 columns]"
      ]
     },
     "execution_count": 15,
     "metadata": {},
     "output_type": "execute_result"
    }
   ],
   "source": [
    "X_train"
   ]
  },
  {
   "cell_type": "code",
   "execution_count": 16,
   "metadata": {},
   "outputs": [
    {
     "data": {
      "text/plain": [
       "3761     OR021\n",
       "1362      B021\n",
       "162       B007\n",
       "2238     IR014\n",
       "1918     IR014\n",
       "         ...  \n",
       "1896     IR014\n",
       "4515    Normal\n",
       "4545    Normal\n",
       "3950     OR021\n",
       "1169      B021\n",
       "Name: fault, Length: 3850, dtype: object"
      ]
     },
     "execution_count": 16,
     "metadata": {},
     "output_type": "execute_result"
    }
   ],
   "source": [
    "y_train"
   ]
  },
  {
   "cell_type": "markdown",
   "metadata": {},
   "source": [
    "### Feature scaling"
   ]
  },
  {
   "cell_type": "code",
   "execution_count": 17,
   "metadata": {},
   "outputs": [],
   "source": [
    "from sklearn.preprocessing import StandardScaler\n",
    "sc = StandardScaler()\n",
    "X_train = sc.fit_transform(X_train)\n",
    "X_test = sc.transform(X_test)"
   ]
  },
  {
   "cell_type": "code",
   "execution_count": 18,
   "metadata": {},
   "outputs": [
    {
     "data": {
      "text/plain": [
       "array([[-0.40922502, -0.35825068, -0.42458258, ...,  1.06767301,\n",
       "         1.04135611,  0.74312149],\n",
       "       [-0.47696453, -0.3580296 , -0.48672531, ...,  0.96509033,\n",
       "         0.98281289,  0.7848867 ],\n",
       "       [-0.53025535, -0.36026598, -0.51705052, ..., -1.10925818,\n",
       "        -1.57519177, -0.41584433],\n",
       "       ...,\n",
       "       [-0.56849985, -0.3442919 , -0.5675166 , ..., -0.60788817,\n",
       "        -0.38271522, -1.68426914],\n",
       "       [ 0.64183482, -0.33466684,  0.8932713 , ..., -0.93832223,\n",
       "        -0.89788172, -0.30596979],\n",
       "       [-0.47029826, -0.3583156 , -0.48220916, ...,  1.10164281,\n",
       "         1.06740545,  0.90408693]])"
      ]
     },
     "execution_count": 18,
     "metadata": {},
     "output_type": "execute_result"
    }
   ],
   "source": [
    "X_train"
   ]
  },
  {
   "cell_type": "code",
   "execution_count": 19,
   "metadata": {},
   "outputs": [
    {
     "data": {
      "text/plain": [
       "array([[-0.32118438, -0.28706573, -0.33006247, ...,  0.66995946,\n",
       "         0.78060632,  0.32758198],\n",
       "       [-0.45047954, -0.36327369, -0.45565322, ...,  0.50512637,\n",
       "         0.67638955,  0.4307631 ],\n",
       "       [-0.56924008, -0.32696254, -0.56850849, ..., -0.54112301,\n",
       "        -0.30960977, -1.73045991],\n",
       "       ...,\n",
       "       [-0.37317962, -0.29498916, -0.34647567, ..., -0.55906738,\n",
       "        -0.29042791, -0.36336819],\n",
       "       [-0.49620425,  1.75207116, -0.49562305, ...,  0.63268331,\n",
       "         0.71914939, -0.31004133],\n",
       "       [-0.41808897, -0.29812483, -0.3737688 , ..., -1.06515079,\n",
       "        -1.28125637, -0.57868139]])"
      ]
     },
     "execution_count": 19,
     "metadata": {},
     "output_type": "execute_result"
    }
   ],
   "source": [
    "X_test"
   ]
  },
  {
   "cell_type": "code",
   "execution_count": 20,
   "metadata": {},
   "outputs": [
    {
     "data": {
      "text/plain": [
       "3761     OR021\n",
       "1362      B021\n",
       "162       B007\n",
       "2238     IR014\n",
       "1918     IR014\n",
       "         ...  \n",
       "1896     IR014\n",
       "4515    Normal\n",
       "4545    Normal\n",
       "3950     OR021\n",
       "1169      B021\n",
       "Name: fault, Length: 3850, dtype: object"
      ]
     },
     "execution_count": 20,
     "metadata": {},
     "output_type": "execute_result"
    }
   ],
   "source": [
    "y_train"
   ]
  },
  {
   "cell_type": "code",
   "execution_count": 21,
   "metadata": {},
   "outputs": [
    {
     "data": {
      "text/plain": [
       "1482     IR007\n",
       "1030      B021\n",
       "4559    Normal\n",
       "2958     OR007\n",
       "1457     IR007\n",
       "         ...  \n",
       "3808     OR021\n",
       "820       B014\n",
       "1837     IR007\n",
       "2118     IR014\n",
       "1591     IR007\n",
       "Name: fault, Length: 750, dtype: object"
      ]
     },
     "execution_count": 21,
     "metadata": {},
     "output_type": "execute_result"
    }
   ],
   "source": [
    "y_test"
   ]
  },
  {
   "cell_type": "markdown",
   "metadata": {},
   "source": [
    "### Converting all the arrays to data frame"
   ]
  },
  {
   "cell_type": "code",
   "execution_count": 22,
   "metadata": {},
   "outputs": [],
   "source": [
    "X_train = pd.DataFrame(X_train)"
   ]
  },
  {
   "cell_type": "code",
   "execution_count": 23,
   "metadata": {},
   "outputs": [],
   "source": [
    "X_train.columns =['Max','Min','Mean','Stddev','RMS','skew','kurtosis','crest_factor','form_factor']\n"
   ]
  },
  {
   "cell_type": "code",
   "execution_count": 24,
   "metadata": {},
   "outputs": [
    {
     "data": {
      "text/html": [
       "<div>\n",
       "<style scoped>\n",
       "    .dataframe tbody tr th:only-of-type {\n",
       "        vertical-align: middle;\n",
       "    }\n",
       "\n",
       "    .dataframe tbody tr th {\n",
       "        vertical-align: top;\n",
       "    }\n",
       "\n",
       "    .dataframe thead th {\n",
       "        text-align: right;\n",
       "    }\n",
       "</style>\n",
       "<table border=\"1\" class=\"dataframe\">\n",
       "  <thead>\n",
       "    <tr style=\"text-align: right;\">\n",
       "      <th></th>\n",
       "      <th>Max</th>\n",
       "      <th>Min</th>\n",
       "      <th>Mean</th>\n",
       "      <th>Stddev</th>\n",
       "      <th>RMS</th>\n",
       "      <th>skew</th>\n",
       "      <th>kurtosis</th>\n",
       "      <th>crest_factor</th>\n",
       "      <th>form_factor</th>\n",
       "    </tr>\n",
       "  </thead>\n",
       "  <tbody>\n",
       "    <tr>\n",
       "      <th>0</th>\n",
       "      <td>-0.409225</td>\n",
       "      <td>-0.358251</td>\n",
       "      <td>-0.424583</td>\n",
       "      <td>-0.420410</td>\n",
       "      <td>-0.421707</td>\n",
       "      <td>1.049095</td>\n",
       "      <td>1.067673</td>\n",
       "      <td>1.041356</td>\n",
       "      <td>0.743121</td>\n",
       "    </tr>\n",
       "    <tr>\n",
       "      <th>1</th>\n",
       "      <td>-0.476965</td>\n",
       "      <td>-0.358030</td>\n",
       "      <td>-0.486725</td>\n",
       "      <td>-0.484199</td>\n",
       "      <td>-0.485148</td>\n",
       "      <td>0.946552</td>\n",
       "      <td>0.965090</td>\n",
       "      <td>0.982813</td>\n",
       "      <td>0.784887</td>\n",
       "    </tr>\n",
       "    <tr>\n",
       "      <th>2</th>\n",
       "      <td>-0.530255</td>\n",
       "      <td>-0.360266</td>\n",
       "      <td>-0.517051</td>\n",
       "      <td>-0.523278</td>\n",
       "      <td>-0.522269</td>\n",
       "      <td>-1.008467</td>\n",
       "      <td>-1.109258</td>\n",
       "      <td>-1.575192</td>\n",
       "      <td>-0.415844</td>\n",
       "    </tr>\n",
       "    <tr>\n",
       "      <th>3</th>\n",
       "      <td>-0.502557</td>\n",
       "      <td>1.372204</td>\n",
       "      <td>-0.476676</td>\n",
       "      <td>-0.493932</td>\n",
       "      <td>-0.490267</td>\n",
       "      <td>-1.073458</td>\n",
       "      <td>-1.102388</td>\n",
       "      <td>-1.381242</td>\n",
       "      <td>-1.128728</td>\n",
       "    </tr>\n",
       "    <tr>\n",
       "      <th>4</th>\n",
       "      <td>-0.464715</td>\n",
       "      <td>3.423175</td>\n",
       "      <td>-0.448574</td>\n",
       "      <td>-0.465052</td>\n",
       "      <td>-0.461633</td>\n",
       "      <td>-0.408862</td>\n",
       "      <td>-0.405075</td>\n",
       "      <td>-0.133113</td>\n",
       "      <td>-0.747481</td>\n",
       "    </tr>\n",
       "    <tr>\n",
       "      <th>...</th>\n",
       "      <td>...</td>\n",
       "      <td>...</td>\n",
       "      <td>...</td>\n",
       "      <td>...</td>\n",
       "      <td>...</td>\n",
       "      <td>...</td>\n",
       "      <td>...</td>\n",
       "      <td>...</td>\n",
       "      <td>...</td>\n",
       "    </tr>\n",
       "    <tr>\n",
       "      <th>3845</th>\n",
       "      <td>-0.504163</td>\n",
       "      <td>1.656725</td>\n",
       "      <td>-0.483615</td>\n",
       "      <td>-0.498016</td>\n",
       "      <td>-0.495055</td>\n",
       "      <td>-0.968966</td>\n",
       "      <td>-1.015232</td>\n",
       "      <td>-1.087560</td>\n",
       "      <td>-0.954029</td>\n",
       "    </tr>\n",
       "    <tr>\n",
       "      <th>3846</th>\n",
       "      <td>-0.564435</td>\n",
       "      <td>-0.308724</td>\n",
       "      <td>-0.565054</td>\n",
       "      <td>-0.567965</td>\n",
       "      <td>-0.567712</td>\n",
       "      <td>0.416758</td>\n",
       "      <td>0.561000</td>\n",
       "      <td>0.627565</td>\n",
       "      <td>-0.881217</td>\n",
       "    </tr>\n",
       "    <tr>\n",
       "      <th>3847</th>\n",
       "      <td>-0.568500</td>\n",
       "      <td>-0.344292</td>\n",
       "      <td>-0.567517</td>\n",
       "      <td>-0.571167</td>\n",
       "      <td>-0.570716</td>\n",
       "      <td>-0.832008</td>\n",
       "      <td>-0.607888</td>\n",
       "      <td>-0.382715</td>\n",
       "      <td>-1.684269</td>\n",
       "    </tr>\n",
       "    <tr>\n",
       "      <th>3848</th>\n",
       "      <td>0.641835</td>\n",
       "      <td>-0.334667</td>\n",
       "      <td>0.893271</td>\n",
       "      <td>0.784892</td>\n",
       "      <td>0.809395</td>\n",
       "      <td>-0.854809</td>\n",
       "      <td>-0.938322</td>\n",
       "      <td>-0.897882</td>\n",
       "      <td>-0.305970</td>\n",
       "    </tr>\n",
       "    <tr>\n",
       "      <th>3849</th>\n",
       "      <td>-0.470298</td>\n",
       "      <td>-0.358316</td>\n",
       "      <td>-0.482209</td>\n",
       "      <td>-0.478357</td>\n",
       "      <td>-0.479589</td>\n",
       "      <td>1.084763</td>\n",
       "      <td>1.101643</td>\n",
       "      <td>1.067405</td>\n",
       "      <td>0.904087</td>\n",
       "    </tr>\n",
       "  </tbody>\n",
       "</table>\n",
       "<p>3850 rows × 9 columns</p>\n",
       "</div>"
      ],
      "text/plain": [
       "           Max       Min      Mean    Stddev       RMS      skew  kurtosis  \\\n",
       "0    -0.409225 -0.358251 -0.424583 -0.420410 -0.421707  1.049095  1.067673   \n",
       "1    -0.476965 -0.358030 -0.486725 -0.484199 -0.485148  0.946552  0.965090   \n",
       "2    -0.530255 -0.360266 -0.517051 -0.523278 -0.522269 -1.008467 -1.109258   \n",
       "3    -0.502557  1.372204 -0.476676 -0.493932 -0.490267 -1.073458 -1.102388   \n",
       "4    -0.464715  3.423175 -0.448574 -0.465052 -0.461633 -0.408862 -0.405075   \n",
       "...        ...       ...       ...       ...       ...       ...       ...   \n",
       "3845 -0.504163  1.656725 -0.483615 -0.498016 -0.495055 -0.968966 -1.015232   \n",
       "3846 -0.564435 -0.308724 -0.565054 -0.567965 -0.567712  0.416758  0.561000   \n",
       "3847 -0.568500 -0.344292 -0.567517 -0.571167 -0.570716 -0.832008 -0.607888   \n",
       "3848  0.641835 -0.334667  0.893271  0.784892  0.809395 -0.854809 -0.938322   \n",
       "3849 -0.470298 -0.358316 -0.482209 -0.478357 -0.479589  1.084763  1.101643   \n",
       "\n",
       "      crest_factor  form_factor  \n",
       "0         1.041356     0.743121  \n",
       "1         0.982813     0.784887  \n",
       "2        -1.575192    -0.415844  \n",
       "3        -1.381242    -1.128728  \n",
       "4        -0.133113    -0.747481  \n",
       "...            ...          ...  \n",
       "3845     -1.087560    -0.954029  \n",
       "3846      0.627565    -0.881217  \n",
       "3847     -0.382715    -1.684269  \n",
       "3848     -0.897882    -0.305970  \n",
       "3849      1.067405     0.904087  \n",
       "\n",
       "[3850 rows x 9 columns]"
      ]
     },
     "execution_count": 24,
     "metadata": {},
     "output_type": "execute_result"
    }
   ],
   "source": [
    "X_train"
   ]
  },
  {
   "cell_type": "code",
   "execution_count": 25,
   "metadata": {},
   "outputs": [],
   "source": [
    "X_test = pd.DataFrame(X_test)"
   ]
  },
  {
   "cell_type": "code",
   "execution_count": 26,
   "metadata": {},
   "outputs": [],
   "source": [
    "X_test.columns =['Max','Min','Mean','Stddev','RMS','skew','kurtosis','crest_factor','form_factor']\n"
   ]
  },
  {
   "cell_type": "code",
   "execution_count": 27,
   "metadata": {},
   "outputs": [
    {
     "data": {
      "text/html": [
       "<div>\n",
       "<style scoped>\n",
       "    .dataframe tbody tr th:only-of-type {\n",
       "        vertical-align: middle;\n",
       "    }\n",
       "\n",
       "    .dataframe tbody tr th {\n",
       "        vertical-align: top;\n",
       "    }\n",
       "\n",
       "    .dataframe thead th {\n",
       "        text-align: right;\n",
       "    }\n",
       "</style>\n",
       "<table border=\"1\" class=\"dataframe\">\n",
       "  <thead>\n",
       "    <tr style=\"text-align: right;\">\n",
       "      <th></th>\n",
       "      <th>Max</th>\n",
       "      <th>Min</th>\n",
       "      <th>Mean</th>\n",
       "      <th>Stddev</th>\n",
       "      <th>RMS</th>\n",
       "      <th>skew</th>\n",
       "      <th>kurtosis</th>\n",
       "      <th>crest_factor</th>\n",
       "      <th>form_factor</th>\n",
       "    </tr>\n",
       "  </thead>\n",
       "  <tbody>\n",
       "    <tr>\n",
       "      <th>0</th>\n",
       "      <td>-0.321184</td>\n",
       "      <td>-0.287066</td>\n",
       "      <td>-0.330062</td>\n",
       "      <td>-0.333185</td>\n",
       "      <td>-0.332866</td>\n",
       "      <td>0.649489</td>\n",
       "      <td>0.669959</td>\n",
       "      <td>0.780606</td>\n",
       "      <td>0.327582</td>\n",
       "    </tr>\n",
       "    <tr>\n",
       "      <th>1</th>\n",
       "      <td>-0.450480</td>\n",
       "      <td>-0.363274</td>\n",
       "      <td>-0.455653</td>\n",
       "      <td>-0.456381</td>\n",
       "      <td>-0.456616</td>\n",
       "      <td>0.491868</td>\n",
       "      <td>0.505126</td>\n",
       "      <td>0.676390</td>\n",
       "      <td>0.430763</td>\n",
       "    </tr>\n",
       "    <tr>\n",
       "      <th>2</th>\n",
       "      <td>-0.569240</td>\n",
       "      <td>-0.326963</td>\n",
       "      <td>-0.568508</td>\n",
       "      <td>-0.572002</td>\n",
       "      <td>-0.571587</td>\n",
       "      <td>-0.798214</td>\n",
       "      <td>-0.541123</td>\n",
       "      <td>-0.309610</td>\n",
       "      <td>-1.730460</td>\n",
       "    </tr>\n",
       "    <tr>\n",
       "      <th>3</th>\n",
       "      <td>1.971181</td>\n",
       "      <td>-0.277011</td>\n",
       "      <td>1.997875</td>\n",
       "      <td>1.946462</td>\n",
       "      <td>1.957954</td>\n",
       "      <td>0.201835</td>\n",
       "      <td>0.203957</td>\n",
       "      <td>0.451209</td>\n",
       "      <td>0.220400</td>\n",
       "    </tr>\n",
       "    <tr>\n",
       "      <th>4</th>\n",
       "      <td>-0.366871</td>\n",
       "      <td>-0.277311</td>\n",
       "      <td>-0.378977</td>\n",
       "      <td>-0.379132</td>\n",
       "      <td>-0.379479</td>\n",
       "      <td>0.854112</td>\n",
       "      <td>0.876973</td>\n",
       "      <td>0.915535</td>\n",
       "      <td>0.453324</td>\n",
       "    </tr>\n",
       "    <tr>\n",
       "      <th>...</th>\n",
       "      <td>...</td>\n",
       "      <td>...</td>\n",
       "      <td>...</td>\n",
       "      <td>...</td>\n",
       "      <td>...</td>\n",
       "      <td>...</td>\n",
       "      <td>...</td>\n",
       "      <td>...</td>\n",
       "      <td>...</td>\n",
       "    </tr>\n",
       "    <tr>\n",
       "      <th>745</th>\n",
       "      <td>2.387959</td>\n",
       "      <td>-0.338980</td>\n",
       "      <td>1.965222</td>\n",
       "      <td>2.198019</td>\n",
       "      <td>2.148368</td>\n",
       "      <td>1.555319</td>\n",
       "      <td>1.553633</td>\n",
       "      <td>1.331409</td>\n",
       "      <td>1.339962</td>\n",
       "    </tr>\n",
       "    <tr>\n",
       "      <th>746</th>\n",
       "      <td>-0.533600</td>\n",
       "      <td>-0.362867</td>\n",
       "      <td>-0.535401</td>\n",
       "      <td>-0.537067</td>\n",
       "      <td>-0.537108</td>\n",
       "      <td>0.303004</td>\n",
       "      <td>0.309940</td>\n",
       "      <td>0.531331</td>\n",
       "      <td>0.249265</td>\n",
       "    </tr>\n",
       "    <tr>\n",
       "      <th>747</th>\n",
       "      <td>-0.373180</td>\n",
       "      <td>-0.294989</td>\n",
       "      <td>-0.346476</td>\n",
       "      <td>-0.365806</td>\n",
       "      <td>-0.361779</td>\n",
       "      <td>-0.516059</td>\n",
       "      <td>-0.559067</td>\n",
       "      <td>-0.290428</td>\n",
       "      <td>-0.363368</td>\n",
       "    </tr>\n",
       "    <tr>\n",
       "      <th>748</th>\n",
       "      <td>-0.496204</td>\n",
       "      <td>1.752071</td>\n",
       "      <td>-0.495623</td>\n",
       "      <td>-0.502741</td>\n",
       "      <td>-0.501530</td>\n",
       "      <td>0.572878</td>\n",
       "      <td>0.632683</td>\n",
       "      <td>0.719149</td>\n",
       "      <td>-0.310041</td>\n",
       "    </tr>\n",
       "    <tr>\n",
       "      <th>749</th>\n",
       "      <td>-0.418089</td>\n",
       "      <td>-0.298125</td>\n",
       "      <td>-0.373769</td>\n",
       "      <td>-0.395503</td>\n",
       "      <td>-0.390887</td>\n",
       "      <td>-0.975591</td>\n",
       "      <td>-1.065151</td>\n",
       "      <td>-1.281256</td>\n",
       "      <td>-0.578681</td>\n",
       "    </tr>\n",
       "  </tbody>\n",
       "</table>\n",
       "<p>750 rows × 9 columns</p>\n",
       "</div>"
      ],
      "text/plain": [
       "          Max       Min      Mean    Stddev       RMS      skew  kurtosis  \\\n",
       "0   -0.321184 -0.287066 -0.330062 -0.333185 -0.332866  0.649489  0.669959   \n",
       "1   -0.450480 -0.363274 -0.455653 -0.456381 -0.456616  0.491868  0.505126   \n",
       "2   -0.569240 -0.326963 -0.568508 -0.572002 -0.571587 -0.798214 -0.541123   \n",
       "3    1.971181 -0.277011  1.997875  1.946462  1.957954  0.201835  0.203957   \n",
       "4   -0.366871 -0.277311 -0.378977 -0.379132 -0.379479  0.854112  0.876973   \n",
       "..        ...       ...       ...       ...       ...       ...       ...   \n",
       "745  2.387959 -0.338980  1.965222  2.198019  2.148368  1.555319  1.553633   \n",
       "746 -0.533600 -0.362867 -0.535401 -0.537067 -0.537108  0.303004  0.309940   \n",
       "747 -0.373180 -0.294989 -0.346476 -0.365806 -0.361779 -0.516059 -0.559067   \n",
       "748 -0.496204  1.752071 -0.495623 -0.502741 -0.501530  0.572878  0.632683   \n",
       "749 -0.418089 -0.298125 -0.373769 -0.395503 -0.390887 -0.975591 -1.065151   \n",
       "\n",
       "     crest_factor  form_factor  \n",
       "0        0.780606     0.327582  \n",
       "1        0.676390     0.430763  \n",
       "2       -0.309610    -1.730460  \n",
       "3        0.451209     0.220400  \n",
       "4        0.915535     0.453324  \n",
       "..            ...          ...  \n",
       "745      1.331409     1.339962  \n",
       "746      0.531331     0.249265  \n",
       "747     -0.290428    -0.363368  \n",
       "748      0.719149    -0.310041  \n",
       "749     -1.281256    -0.578681  \n",
       "\n",
       "[750 rows x 9 columns]"
      ]
     },
     "execution_count": 27,
     "metadata": {},
     "output_type": "execute_result"
    }
   ],
   "source": [
    "X_test"
   ]
  },
  {
   "cell_type": "code",
   "execution_count": null,
   "metadata": {},
   "outputs": [],
   "source": []
  },
  {
   "cell_type": "markdown",
   "metadata": {},
   "source": [
    "### Feature Selection"
   ]
  },
  {
   "cell_type": "code",
   "execution_count": 28,
   "metadata": {},
   "outputs": [
    {
     "data": {
      "text/plain": [
       "VarianceThreshold(threshold=0)"
      ]
     },
     "execution_count": 28,
     "metadata": {},
     "output_type": "execute_result"
    }
   ],
   "source": [
    "from sklearn.feature_selection import VarianceThreshold\n",
    "var_thres=VarianceThreshold(threshold=0)\n",
    "var_thres.fit(df.iloc[:,:-1])"
   ]
  },
  {
   "cell_type": "code",
   "execution_count": 29,
   "metadata": {},
   "outputs": [
    {
     "data": {
      "text/plain": [
       "array([ True,  True,  True,  True,  True,  True,  True,  True,  True])"
      ]
     },
     "execution_count": 29,
     "metadata": {},
     "output_type": "execute_result"
    }
   ],
   "source": [
    "var_thres.get_support()"
   ]
  },
  {
   "cell_type": "code",
   "execution_count": 30,
   "metadata": {},
   "outputs": [
    {
     "data": {
      "text/plain": [
       "9"
      ]
     },
     "execution_count": 30,
     "metadata": {},
     "output_type": "execute_result"
    }
   ],
   "source": [
    "sum(var_thres.get_support())"
   ]
  },
  {
   "cell_type": "code",
   "execution_count": 31,
   "metadata": {},
   "outputs": [
    {
     "name": "stdout",
     "output_type": "stream",
     "text": [
      "0\n"
     ]
    }
   ],
   "source": [
    "constant_columns = [column for column in X_train.columns\n",
    "                    if column not in X_train.columns[var_thres.get_support()]]\n",
    "\n",
    "print(len(constant_columns))"
   ]
  },
  {
   "cell_type": "markdown",
   "metadata": {},
   "source": [
    "###  Checking for correlation"
   ]
  },
  {
   "cell_type": "code",
   "execution_count": 32,
   "metadata": {},
   "outputs": [
    {
     "data": {
      "image/png": "[encoded data removed]",
      "text/plain": [
       "<Figure size 864x720 with 2 Axes>"
      ]
     },
     "metadata": {
      "needs_background": "light"
     },
     "output_type": "display_data"
    }
   ],
   "source": [
    "import seaborn as sns\n",
    "#Using Pearson Correlation\n",
    "plt.figure(figsize=(12,10))\n",
    "cor = X_train.corr()\n",
    "sns.heatmap(cor, annot=True, cmap=plt.cm.CMRmap_r)\n",
    "plt.show()"
   ]
  },
  {
   "cell_type": "code",
   "execution_count": 33,
   "metadata": {},
   "outputs": [],
   "source": [
    "# with the following function we can select highly correlated features\n",
    "# it will remove the first feature that is correlated with anything other feature\n",
    "\n",
    "def correlation(dataset, threshold):\n",
    "    col_corr = set()  # Set of all the names of correlated columns\n",
    "    corr_matrix = dataset.corr()\n",
    "    for i in range(len(corr_matrix.columns)):\n",
    "        for j in range(i):\n",
    "            if (corr_matrix.iloc[i, j]) > threshold: # we are interested in absolute coeff value\n",
    "                colname = corr_matrix.columns[i]  # getting the name of column\n",
    "                col_corr.add(colname)\n",
    "    return col_corr"
   ]
  },
  {
   "cell_type": "code",
   "execution_count": 34,
   "metadata": {},
   "outputs": [
    {
     "data": {
      "text/plain": [
       "6"
      ]
     },
     "execution_count": 34,
     "metadata": {},
     "output_type": "execute_result"
    }
   ],
   "source": [
    "corr_features = correlation(X_train, 0.85)\n",
    "len(set(corr_features))"
   ]
  },
  {
   "cell_type": "code",
   "execution_count": 35,
   "metadata": {},
   "outputs": [
    {
     "data": {
      "text/plain": [
       "{'Mean', 'RMS', 'Stddev', 'crest_factor', 'form_factor', 'kurtosis'}"
      ]
     },
     "execution_count": 35,
     "metadata": {},
     "output_type": "execute_result"
    }
   ],
   "source": [
    "corr_features"
   ]
  },
  {
   "cell_type": "code",
   "execution_count": 36,
   "metadata": {},
   "outputs": [],
   "source": [
    "X_train=X_train.drop(corr_features,axis=1)\n",
    "X_test=X_test.drop(corr_features,axis=1)"
   ]
  },
  {
   "cell_type": "code",
   "execution_count": 37,
   "metadata": {},
   "outputs": [
    {
     "data": {
      "text/html": [
       "<div>\n",
       "<style scoped>\n",
       "    .dataframe tbody tr th:only-of-type {\n",
       "        vertical-align: middle;\n",
       "    }\n",
       "\n",
       "    .dataframe tbody tr th {\n",
       "        vertical-align: top;\n",
       "    }\n",
       "\n",
       "    .dataframe thead th {\n",
       "        text-align: right;\n",
       "    }\n",
       "</style>\n",
       "<table border=\"1\" class=\"dataframe\">\n",
       "  <thead>\n",
       "    <tr style=\"text-align: right;\">\n",
       "      <th></th>\n",
       "      <th>Max</th>\n",
       "      <th>Min</th>\n",
       "      <th>skew</th>\n",
       "    </tr>\n",
       "  </thead>\n",
       "  <tbody>\n",
       "    <tr>\n",
       "      <th>0</th>\n",
       "      <td>-0.409225</td>\n",
       "      <td>-0.358251</td>\n",
       "      <td>1.049095</td>\n",
       "    </tr>\n",
       "    <tr>\n",
       "      <th>1</th>\n",
       "      <td>-0.476965</td>\n",
       "      <td>-0.358030</td>\n",
       "      <td>0.946552</td>\n",
       "    </tr>\n",
       "    <tr>\n",
       "      <th>2</th>\n",
       "      <td>-0.530255</td>\n",
       "      <td>-0.360266</td>\n",
       "      <td>-1.008467</td>\n",
       "    </tr>\n",
       "    <tr>\n",
       "      <th>3</th>\n",
       "      <td>-0.502557</td>\n",
       "      <td>1.372204</td>\n",
       "      <td>-1.073458</td>\n",
       "    </tr>\n",
       "    <tr>\n",
       "      <th>4</th>\n",
       "      <td>-0.464715</td>\n",
       "      <td>3.423175</td>\n",
       "      <td>-0.408862</td>\n",
       "    </tr>\n",
       "    <tr>\n",
       "      <th>...</th>\n",
       "      <td>...</td>\n",
       "      <td>...</td>\n",
       "      <td>...</td>\n",
       "    </tr>\n",
       "    <tr>\n",
       "      <th>3845</th>\n",
       "      <td>-0.504163</td>\n",
       "      <td>1.656725</td>\n",
       "      <td>-0.968966</td>\n",
       "    </tr>\n",
       "    <tr>\n",
       "      <th>3846</th>\n",
       "      <td>-0.564435</td>\n",
       "      <td>-0.308724</td>\n",
       "      <td>0.416758</td>\n",
       "    </tr>\n",
       "    <tr>\n",
       "      <th>3847</th>\n",
       "      <td>-0.568500</td>\n",
       "      <td>-0.344292</td>\n",
       "      <td>-0.832008</td>\n",
       "    </tr>\n",
       "    <tr>\n",
       "      <th>3848</th>\n",
       "      <td>0.641835</td>\n",
       "      <td>-0.334667</td>\n",
       "      <td>-0.854809</td>\n",
       "    </tr>\n",
       "    <tr>\n",
       "      <th>3849</th>\n",
       "      <td>-0.470298</td>\n",
       "      <td>-0.358316</td>\n",
       "      <td>1.084763</td>\n",
       "    </tr>\n",
       "  </tbody>\n",
       "</table>\n",
       "<p>3850 rows × 3 columns</p>\n",
       "</div>"
      ],
      "text/plain": [
       "           Max       Min      skew\n",
       "0    -0.409225 -0.358251  1.049095\n",
       "1    -0.476965 -0.358030  0.946552\n",
       "2    -0.530255 -0.360266 -1.008467\n",
       "3    -0.502557  1.372204 -1.073458\n",
       "4    -0.464715  3.423175 -0.408862\n",
       "...        ...       ...       ...\n",
       "3845 -0.504163  1.656725 -0.968966\n",
       "3846 -0.564435 -0.308724  0.416758\n",
       "3847 -0.568500 -0.344292 -0.832008\n",
       "3848  0.641835 -0.334667 -0.854809\n",
       "3849 -0.470298 -0.358316  1.084763\n",
       "\n",
       "[3850 rows x 3 columns]"
      ]
     },
     "execution_count": 37,
     "metadata": {},
     "output_type": "execute_result"
    }
   ],
   "source": [
    "X_train"
   ]
  },
  {
   "cell_type": "code",
   "execution_count": 38,
   "metadata": {},
   "outputs": [
    {
     "data": {
      "text/plain": [
       "3761     OR021\n",
       "1362      B021\n",
       "162       B007\n",
       "2238     IR014\n",
       "1918     IR014\n",
       "         ...  \n",
       "1896     IR014\n",
       "4515    Normal\n",
       "4545    Normal\n",
       "3950     OR021\n",
       "1169      B021\n",
       "Name: fault, Length: 3850, dtype: object"
      ]
     },
     "execution_count": 38,
     "metadata": {},
     "output_type": "execute_result"
    }
   ],
   "source": [
    "y_train"
   ]
  },
  {
   "cell_type": "code",
   "execution_count": null,
   "metadata": {},
   "outputs": [],
   "source": []
  },
  {
   "cell_type": "code",
   "execution_count": null,
   "metadata": {},
   "outputs": [],
   "source": []
  },
  {
   "cell_type": "code",
   "execution_count": null,
   "metadata": {},
   "outputs": [],
   "source": []
  },
  {
   "cell_type": "code",
   "execution_count": null,
   "metadata": {},
   "outputs": [],
   "source": []
  },
  {
   "cell_type": "code",
   "execution_count": null,
   "metadata": {},
   "outputs": [],
   "source": []
  },
  {
   "cell_type": "code",
   "execution_count": null,
   "metadata": {},
   "outputs": [],
   "source": []
  },
  {
   "cell_type": "code",
   "execution_count": null,
   "metadata": {},
   "outputs": [],
   "source": []
  },
  {
   "cell_type": "code",
   "execution_count": null,
   "metadata": {},
   "outputs": [],
   "source": []
  },
  {
   "cell_type": "code",
   "execution_count": null,
   "metadata": {},
   "outputs": [],
   "source": []
  },
  {
   "cell_type": "code",
   "execution_count": null,
   "metadata": {},
   "outputs": [],
   "source": []
  },
  {
   "cell_type": "code",
   "execution_count": 39,
   "metadata": {},
   "outputs": [],
   "source": [
    "parameters = {\"C\":[1, 10, 50, 100, 300, 500],\n",
    "             'gamma':[0.01, 0.05, 0.1, 0.5, 1, 5],\n",
    "             'kernel':[\"rbf\"]}"
   ]
  },
  {
   "cell_type": "code",
   "execution_count": 40,
   "metadata": {},
   "outputs": [],
   "source": [
    "tuned_svm_clf = GridSearchCV(SVC(),parameters,n_jobs = -1, cv= 10)"
   ]
  },
  {
   "cell_type": "code",
   "execution_count": 41,
   "metadata": {},
   "outputs": [
    {
     "data": {
      "text/plain": [
       "GridSearchCV(cv=10, estimator=SVC(), n_jobs=-1,\n",
       "             param_grid={'C': [1, 10, 50, 100, 300, 500],\n",
       "                         'gamma': [0.01, 0.05, 0.1, 0.5, 1, 5],\n",
       "                         'kernel': ['rbf']})"
      ]
     },
     "execution_count": 41,
     "metadata": {},
     "output_type": "execute_result"
    }
   ],
   "source": [
    "tuned_svm_clf.fit(X_train, y_train)"
   ]
  },
  {
   "cell_type": "code",
   "execution_count": 42,
   "metadata": {},
   "outputs": [
    {
     "data": {
      "text/plain": [
       "0.8633766233766235"
      ]
     },
     "execution_count": 42,
     "metadata": {},
     "output_type": "execute_result"
    }
   ],
   "source": [
    "tuned_svm_clf.best_score_"
   ]
  },
  {
   "cell_type": "code",
   "execution_count": 43,
   "metadata": {},
   "outputs": [
    {
     "data": {
      "text/plain": [
       "{'C': 500, 'gamma': 0.5, 'kernel': 'rbf'}"
      ]
     },
     "execution_count": 43,
     "metadata": {},
     "output_type": "execute_result"
    }
   ],
   "source": [
    "tuned_svm_clf.best_params_"
   ]
  },
  {
   "cell_type": "code",
   "execution_count": 44,
   "metadata": {},
   "outputs": [
    {
     "data": {
      "text/plain": [
       "SVC(C=500, gamma=0.5)"
      ]
     },
     "execution_count": 44,
     "metadata": {},
     "output_type": "execute_result"
    }
   ],
   "source": [
    "best_clf = tuned_svm_clf.best_estimator_\n",
    "best_clf"
   ]
  },
  {
   "cell_type": "code",
   "execution_count": 45,
   "metadata": {},
   "outputs": [],
   "source": [
    "\n",
    "test_predictions = best_clf.predict(X_test)"
   ]
  },
  {
   "cell_type": "code",
   "execution_count": 46,
   "metadata": {},
   "outputs": [],
   "source": [
    "\n",
    "test_confu_matrix = confusion_matrix(y_test, test_predictions)"
   ]
  },
  {
   "cell_type": "code",
   "execution_count": 47,
   "metadata": {},
   "outputs": [
    {
     "name": "stdout",
     "output_type": "stream",
     "text": [
      "[[73  0  1  0  0  0  0  0  1  0]\n",
      " [ 5 47 15  0  0  0  0  0  7  1]\n",
      " [ 5  6 57  0  0  1  0  0  0  6]\n",
      " [ 0  0  0 75  0  0  0  0  0  0]\n",
      " [ 0  0  0  0 75  0  0  0  0  0]\n",
      " [ 0  0  0  0  0 67  0  1  0  7]\n",
      " [ 0  0  0  0  0  0 75  0  0  0]\n",
      " [ 0  0  0  0  0  3  0 67  0  5]\n",
      " [ 3  5  0  0  0  0  0  0 67  0]\n",
      " [ 0  1  7  5  0  7  0  8  0 47]]\n"
     ]
    },
    {
     "data": {
      "text/plain": [
       "0.8666666666666667"
      ]
     },
     "execution_count": 47,
     "metadata": {},
     "output_type": "execute_result"
    }
   ],
   "source": [
    "from sklearn.metrics import confusion_matrix, accuracy_score\n",
    "cm = confusion_matrix(y_test, test_predictions)\n",
    "print(cm)\n",
    "accuracy_score(y_test, test_predictions)"
   ]
  },
  {
   "cell_type": "code",
   "execution_count": 48,
   "metadata": {},
   "outputs": [],
   "source": [
    "fault_type = ['C1','C2','C3','C4','C5','C6','C7','C8','C9','C10']\n"
   ]
  },
  {
   "cell_type": "code",
   "execution_count": 49,
   "metadata": {},
   "outputs": [
    {
     "data": {
      "image/png": "[encoded data removed]",
      "text/plain": [
       "<Figure size 1296x576 with 2 Axes>"
      ]
     },
     "metadata": {
      "needs_background": "light"
     },
     "output_type": "display_data"
    }
   ],
   "source": [
    "plt.figure(2,figsize=(18,8))\n",
    "plt.subplot(121)\n",
    "sns.heatmap(test_confu_matrix, annot = True,\n",
    "xticklabels=fault_type, yticklabels=fault_type, cmap = \"Blues\", cbar = False)\n",
    "plt.title('Test Confusion Matrix')\n",
    "plt.xlabel('Predicted')\n",
    "plt.ylabel('True')\n",
    "plt.subplot(122)\n",
    "sns.heatmap(test_confu_matrix/75, annot = True,\n",
    "xticklabels=fault_type, yticklabels=fault_type, cmap = \"Blues\", cbar = False)\n",
    "plt.title('Test Confusion Matrix (in %age)')\n",
    "plt.xlabel('Predicted')\n",
    "plt.ylabel('True')\n",
    "plt.show()"
   ]
  },
  {
   "cell_type": "code",
   "execution_count": 50,
   "metadata": {},
   "outputs": [
    {
     "name": "stdout",
     "output_type": "stream",
     "text": [
      "Overall test accuracy:  0.8666666666666667\n"
     ]
    }
   ],
   "source": [
    "overall_test_accuracy = accuracy_score(y_test, test_predictions)\n",
    "print(\"Overall test accuracy: \", overall_test_accuracy)"
   ]
  },
  {
   "cell_type": "code",
   "execution_count": null,
   "metadata": {},
   "outputs": [],
   "source": []
  },
  {
   "cell_type": "code",
   "execution_count": null,
   "metadata": {},
   "outputs": [],
   "source": []
  }
 ],
 "metadata": {
  "kernelspec": {
   "display_name": "Python 3",
   "language": "python",
   "name": "python3"
  },
  "language_info": {
   "codemirror_mode": {
    "name": "ipython",
    "version": 3
   },
   "file_extension": ".py",
   "mimetype": "text/x-python",
   "name": "python",
   "nbconvert_exporter": "python",
   "pygments_lexer": "ipython3",
   "version": "3.8.5"
  }
 },
 "nbformat": 4,
 "nbformat_minor": 4
}
