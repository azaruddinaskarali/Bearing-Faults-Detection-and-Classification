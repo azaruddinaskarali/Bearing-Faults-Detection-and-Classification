{
 "cells": [
  {
   "cell_type": "markdown",
   "metadata": {},
   "source": [
    "### About/Info about Setup"
   ]
  },
  {
   "cell_type": "markdown",
   "metadata": {},
   "source": [
    "♦ Faulty bearings with known fault depth (0.007 inch, or 0.014 inch, or 0.021 inch) are installed in the motor and the Resulting vibration signal is collected by accelerometers.\n",
    "\n",
    "♦ Accelerometers are placed at three locations of the motor: at the drive end (DE), fan end (FE) and base (BA).\n",
    "\n",
    "♦ Resulting time series data are collected with a sampling frequency of either 12k or 48k.\n",
    "\n",
    "♦ In the experiment, different amounts of (torsional) loads are applied to the motor. \n",
    "\n",
    "♦ We have taken data with 1hp load and 48k sampling frequency for all our anlaysis and only the drive end data as they are closer to the faults which might help us get good analysis. \n",
    "\n"
   ]
  },
  {
   "cell_type": "markdown",
   "metadata": {},
   "source": [
    "### Importing all the required Libraries"
   ]
  },
  {
   "cell_type": "code",
   "execution_count": 2,
   "metadata": {},
   "outputs": [],
   "source": [
    "import glob                               #For moving throug directories and returing paths too\n",
    "from scipy.io import loadmat              #for reasing Matlab files\n",
    "import numpy as np\n",
    "import pandas as pd"
   ]
  },
  {
   "cell_type": "code",
   "execution_count": 3,
   "metadata": {},
   "outputs": [
    {
     "name": "stdout",
     "output_type": "stream",
     "text": [
      "C:\\Users\\Lenovo\\Desktop\\Bearing Fault\\data\\raw matlab data\\B007_1_123.mat\n",
      "C:\\Users\\Lenovo\\Desktop\\Bearing Fault\\data\\raw matlab data\\B007_1_190.mat\n",
      "C:\\Users\\Lenovo\\Desktop\\Bearing Fault\\data\\raw matlab data\\B007_1_227.mat\n",
      "C:\\Users\\Lenovo\\Desktop\\Bearing Fault\\data\\raw matlab data\\IR007_1_110.mat\n",
      "C:\\Users\\Lenovo\\Desktop\\Bearing Fault\\data\\raw matlab data\\IR007_1_175.mat\n",
      "C:\\Users\\Lenovo\\Desktop\\Bearing Fault\\data\\raw matlab data\\IR007_1_214.mat\n",
      "C:\\Users\\Lenovo\\Desktop\\Bearing Fault\\data\\raw matlab data\\OR007_6_1_136.mat\n",
      "C:\\Users\\Lenovo\\Desktop\\Bearing Fault\\data\\raw matlab data\\OR007_6_1_202.mat\n",
      "C:\\Users\\Lenovo\\Desktop\\Bearing Fault\\data\\raw matlab data\\OR007_6_1_239.mat\n",
      "C:\\Users\\Lenovo\\Desktop\\Bearing Fault\\data\\raw matlab data\\Time_Normal_1_098.mat\n"
     ]
    }
   ],
   "source": [
    "files = glob.glob(r\"C:\\Users\\Lenovo\\Desktop\\Bearing Fault\\data\\raw matlab data/*\",  \n",
    "                   recursive = True) \n",
    "for file in files: \n",
    "    print(file) "
   ]
  },
  {
   "cell_type": "markdown",
   "metadata": {},
   "source": [
    "### Checking the type of our Mat files"
   ]
  },
  {
   "cell_type": "code",
   "execution_count": 4,
   "metadata": {},
   "outputs": [
    {
     "data": {
      "text/plain": [
       "dict"
      ]
     },
     "execution_count": 4,
     "metadata": {},
     "output_type": "execute_result"
    }
   ],
   "source": [
    "check_data = loadmat(files[0])\n",
    "type(check_data)"
   ]
  },
  {
   "cell_type": "code",
   "execution_count": 5,
   "metadata": {},
   "outputs": [
    {
     "data": {
      "text/plain": [
       "dict_keys(['__header__', '__version__', '__globals__', 'X123_DE_time', 'X123_FE_time', 'X123RPM'])"
      ]
     },
     "execution_count": 5,
     "metadata": {},
     "output_type": "execute_result"
    }
   ],
   "source": [
    "check_data.keys()"
   ]
  },
  {
   "cell_type": "markdown",
   "metadata": {},
   "source": [
    "♦ Keys of each file contain Drive end signal (DE_time), Fan end signal (FE_time), and in some cases base signal (BA) and X123RPM gives RPM information. \n",
    "\n",
    "♦ We will only take drive end data for our analysis. Drive ends are closer to the bearing. \n",
    "\n",
    "♦ So we believe, it would give more reliable indication of fault. \n",
    "\n",
    "♦ Thus, we have used only drive end data. \n",
    "\n",
    "♦ We can get drive end data using its key."
   ]
  },
  {
   "cell_type": "code",
   "execution_count": 6,
   "metadata": {},
   "outputs": [
    {
     "data": {
      "text/plain": [
       "(487384, 1)"
      ]
     },
     "execution_count": 6,
     "metadata": {},
     "output_type": "execute_result"
    }
   ],
   "source": [
    "drive_end_data = check_data[\"X123_DE_time\"]\n",
    "drive_end_data.shape"
   ]
  },
  {
   "cell_type": "code",
   "execution_count": 7,
   "metadata": {},
   "outputs": [
    {
     "data": {
      "text/plain": [
       "dict_keys(['__header__', '__version__', '__globals__', 'X217', 'X217_DE_time', 'X175_DE_time', 'X175_FE_time', 'X175RPM'])"
      ]
     },
     "execution_count": 7,
     "metadata": {},
     "output_type": "execute_result"
    }
   ],
   "source": [
    "check_data_2 = loadmat(files[4])\n",
    "check_data_2.keys()"
   ]
  },
  {
   "cell_type": "code",
   "execution_count": 8,
   "metadata": {},
   "outputs": [
    {
     "data": {
      "text/plain": [
       "array([[0.23782154],\n",
       "       [0.20444308],\n",
       "       [0.12141415],\n",
       "       ...,\n",
       "       [0.41368431],\n",
       "       [0.46270892],\n",
       "       [0.45311262]])"
      ]
     },
     "execution_count": 8,
     "metadata": {},
     "output_type": "execute_result"
    }
   ],
   "source": [
    "check_data_2['X217_DE_time']"
   ]
  },
  {
   "cell_type": "code",
   "execution_count": 9,
   "metadata": {},
   "outputs": [
    {
     "data": {
      "text/plain": [
       "array([[-0.07026545],\n",
       "       [-0.02958545],\n",
       "       [ 0.04006364],\n",
       "       ...,\n",
       "       [-0.05485636],\n",
       "       [-0.03020182],\n",
       "       [-0.01088909]])"
      ]
     },
     "execution_count": 9,
     "metadata": {},
     "output_type": "execute_result"
    }
   ],
   "source": [
    "check_data_2['X175_FE_time']"
   ]
  },
  {
   "cell_type": "code",
   "execution_count": 10,
   "metadata": {},
   "outputs": [
    {
     "data": {
      "text/plain": [
       "array([[1772]], dtype=uint16)"
      ]
     },
     "execution_count": 10,
     "metadata": {},
     "output_type": "execute_result"
    }
   ],
   "source": [
    "check_data_2['X175RPM']"
   ]
  },
  {
   "cell_type": "markdown",
   "metadata": {},
   "source": [
    "♦ Of all the files in the folder, one file (IR014_1_175.mat) with index 4 is rather peculiar. \n",
    "\n",
    "♦ It has following keys: 'X217', 'X217_DE_time', 'X175_DE_time', 'X175_FE_time', 'X175RPM'. '\n",
    "\n"
   ]
  },
  {
   "cell_type": "code",
   "execution_count": 13,
   "metadata": {},
   "outputs": [
    {
     "data": {
      "text/plain": [
       "(489125, 1)"
      ]
     },
     "execution_count": 13,
     "metadata": {},
     "output_type": "execute_result"
    }
   ],
   "source": [
    "a = check_data_2['X217_DE_time']\n",
    "a.shape"
   ]
  },
  {
   "cell_type": "code",
   "execution_count": 14,
   "metadata": {},
   "outputs": [
    {
     "data": {
      "text/plain": [
       "(381890, 1)"
      ]
     },
     "execution_count": 14,
     "metadata": {},
     "output_type": "execute_result"
    }
   ],
   "source": [
    "b= check_data_2['X175_DE_time']\n",
    "b.shape"
   ]
  },
  {
   "cell_type": "markdown",
   "metadata": {},
   "source": [
    "♦ We can clearly see 'X175_DE_time' contains less number of data points than we need for further analysis. \n",
    "\n",
    "♦ So we have taken 'X217_DE_time' from this particular file for our anlaysis"
   ]
  },
  {
   "cell_type": "markdown",
   "metadata": {},
   "source": [
    "###  Preprocessing the  Raw CWRU data"
   ]
  },
  {
   "cell_type": "markdown",
   "metadata": {},
   "source": [
    "                                   \n",
    "\n",
    "♦ We will be using feature based techniques for fault diagnosis. \n",
    "\n",
    "♦ In feature based techniques, first relevant features are collected from the data. \n",
    "\n",
    "♦ Features can be categorized as Time domain features, Frequency domain features or Time-frequency domain features."
   ]
  },
  {
   "cell_type": "markdown",
   "metadata": {},
   "source": [
    "\n",
    "♦ To compute time domain features, what we do is we segment our whole signal(raw) obtained into lengths of 1024 or 2048\n",
    "without any overlap between them which would hopefully represent original data in a better way instead of taking \n",
    "whole signal at a go(in which we get only 8 features which is not at all enough to represent ourn whole data.)"
   ]
  },
  {
   "cell_type": "markdown",
   "metadata": {},
   "source": [
    "♦ So First, let's compute the maximum number of segments of length 1024 that we can extract from each file using only \n",
    "the Drive end data ."
   ]
  },
  {
   "cell_type": "code",
   "execution_count": 15,
   "metadata": {},
   "outputs": [
    {
     "name": "stdout",
     "output_type": "stream",
     "text": [
      "475.0\n",
      "474.0\n",
      "475.0\n",
      "474.0\n",
      "477.0\n",
      "473.0\n",
      "475.0\n",
      "473.0\n",
      "477.0\n",
      "472.0\n"
     ]
    }
   ],
   "source": [
    "for file in files:\n",
    "    data = loadmat(file)\n",
    "    if file[-7:-4] == \"175\":         # for the Peculiar IR014_1 data which had lesser data points in one of the DE data\n",
    "        key = \"X217_DE_time\"\n",
    "    else:\n",
    "        key = \"X\" + file[-7:-4] + \"_DE_time\"\n",
    "    drive_end_data = data[key]\n",
    "    num_segments = np.floor(len(drive_end_data)/1024)\n",
    "    print(num_segments)                                                "
   ]
  },
  {
   "cell_type": "markdown",
   "metadata": {},
   "source": [
    "\n",
    "♦ We can clearly see we can extract at least 470 segments from each file.\n",
    "\n",
    "♦ In the processed data, we have taken first 460 segments from each file.\n",
    "\n",
    "♦ After extraction we will have our data of shape (4600*1024)\n",
    "\n",
    "♦ Now if we want to collect our time domain features, we can collect features taking each row of this data. \n",
    "\n",
    "♦ For example, if we collect 8 time domain features for each segment, our feature matrix will have a shape of (4600*8)\n",
    "\n",
    "♦Here, We will not compute features. \n",
    "\n",
    "♦ We will just create a preprocessed data matrix of shape (4600*1024).\n",
    "\n",
    "♦ Features will be created in separate folders like time related ones separately,time frequency related ones separately and so on.\n",
    "\n"
   ]
  },
  {
   "cell_type": "code",
   "execution_count": 16,
   "metadata": {},
   "outputs": [],
   "source": [
    "segmented_data = np.repeat(np.nan, 4600*1024).reshape(4600,1024)\n",
    "num = 0\n",
    "for file in files:\n",
    "    data = loadmat(file)\n",
    "    if file[-7:-4] == \"175\":    \n",
    "        key = \"X217_DE_time\"\n",
    "    else:\n",
    "        key = \"X\" + file[-7:-4] + \"_DE_time\"\n",
    "    drive_end_data = data[key]\n",
    "    for i in range(460):           # We collect 460 segments from each file\n",
    "        segmented_data[num,:] = drive_end_data[i*1024:(i+1)*1024, 0]\n",
    "        num = num + 1"
   ]
  },
  {
   "cell_type": "code",
   "execution_count": 17,
   "metadata": {},
   "outputs": [
    {
     "data": {
      "text/plain": [
       "array([[-0.04109723, -0.046104  , -0.02837169, ...,  0.13601723,\n",
       "         0.10138708,  0.06654831],\n",
       "       [ 0.04839877,  0.04839877,  0.05090215, ..., -0.28601169,\n",
       "        -0.15708738,  0.01293415],\n",
       "       [ 0.18671077,  0.31876431,  0.39845538, ..., -0.22551323,\n",
       "        -0.25367631, -0.22926831],\n",
       "       ...,\n",
       "       [-0.10555938, -0.07802215, -0.01564615, ..., -0.09658892,\n",
       "        -0.11828492, -0.08115138],\n",
       "       [-0.00250338,  0.05361415,  0.07489292, ...,  0.00730154,\n",
       "         0.00646708, -0.02127877],\n",
       "       [-0.04631262, -0.05528308, -0.03838523, ..., -0.06049846,\n",
       "        -0.08574092, -0.10013538]])"
      ]
     },
     "execution_count": 17,
     "metadata": {},
     "output_type": "execute_result"
    }
   ],
   "source": [
    "segmented_data"
   ]
  },
  {
   "cell_type": "code",
   "execution_count": null,
   "metadata": {},
   "outputs": [],
   "source": []
  },
  {
   "cell_type": "markdown",
   "metadata": {},
   "source": [
    " ♦ Checking total no of sample points we have by flattening the two-d array into a single array"
   ]
  },
  {
   "cell_type": "code",
   "execution_count": 19,
   "metadata": {},
   "outputs": [],
   "source": [
    "p=segmented_data.flatten()"
   ]
  },
  {
   "cell_type": "code",
   "execution_count": 20,
   "metadata": {},
   "outputs": [
    {
     "data": {
      "text/plain": [
       "array([-0.04109723, -0.046104  , -0.02837169, ..., -0.06049846,\n",
       "       -0.08574092, -0.10013538])"
      ]
     },
     "execution_count": 20,
     "metadata": {},
     "output_type": "execute_result"
    }
   ],
   "source": [
    "p"
   ]
  },
  {
   "cell_type": "code",
   "execution_count": 21,
   "metadata": {},
   "outputs": [
    {
     "data": {
      "text/plain": [
       "4710400"
      ]
     },
     "execution_count": 21,
     "metadata": {},
     "output_type": "execute_result"
    }
   ],
   "source": [
    "len(p)"
   ]
  },
  {
   "cell_type": "markdown",
   "metadata": {},
   "source": [
    "♦ We check whether the segmented_data contains any nan values or not."
   ]
  },
  {
   "cell_type": "code",
   "execution_count": 22,
   "metadata": {},
   "outputs": [
    {
     "data": {
      "text/plain": [
       "0"
      ]
     },
     "execution_count": 22,
     "metadata": {},
     "output_type": "execute_result"
    }
   ],
   "source": [
    "np.sum(np.isnan(segmented_data))"
   ]
  },
  {
   "cell_type": "code",
   "execution_count": 23,
   "metadata": {},
   "outputs": [],
   "source": [
    "DF = pd.DataFrame(segmented_data)"
   ]
  },
  {
   "cell_type": "code",
   "execution_count": 24,
   "metadata": {},
   "outputs": [
    {
     "data": {
      "text/html": [
       "<div>\n",
       "<style scoped>\n",
       "    .dataframe tbody tr th:only-of-type {\n",
       "        vertical-align: middle;\n",
       "    }\n",
       "\n",
       "    .dataframe tbody tr th {\n",
       "        vertical-align: top;\n",
       "    }\n",
       "\n",
       "    .dataframe thead th {\n",
       "        text-align: right;\n",
       "    }\n",
       "</style>\n",
       "<table border=\"1\" class=\"dataframe\">\n",
       "  <thead>\n",
       "    <tr style=\"text-align: right;\">\n",
       "      <th></th>\n",
       "      <th>0</th>\n",
       "      <th>1</th>\n",
       "      <th>2</th>\n",
       "      <th>3</th>\n",
       "      <th>4</th>\n",
       "      <th>5</th>\n",
       "      <th>6</th>\n",
       "      <th>7</th>\n",
       "      <th>8</th>\n",
       "      <th>9</th>\n",
       "      <th>...</th>\n",
       "      <th>1014</th>\n",
       "      <th>1015</th>\n",
       "      <th>1016</th>\n",
       "      <th>1017</th>\n",
       "      <th>1018</th>\n",
       "      <th>1019</th>\n",
       "      <th>1020</th>\n",
       "      <th>1021</th>\n",
       "      <th>1022</th>\n",
       "      <th>1023</th>\n",
       "    </tr>\n",
       "  </thead>\n",
       "  <tbody>\n",
       "    <tr>\n",
       "      <th>0</th>\n",
       "      <td>-0.041097</td>\n",
       "      <td>-0.046104</td>\n",
       "      <td>-0.028372</td>\n",
       "      <td>0.001252</td>\n",
       "      <td>0.033796</td>\n",
       "      <td>0.069886</td>\n",
       "      <td>0.117242</td>\n",
       "      <td>0.164389</td>\n",
       "      <td>0.200688</td>\n",
       "      <td>0.215082</td>\n",
       "      <td>...</td>\n",
       "      <td>0.005215</td>\n",
       "      <td>0.029623</td>\n",
       "      <td>0.039428</td>\n",
       "      <td>0.057369</td>\n",
       "      <td>0.087201</td>\n",
       "      <td>0.125169</td>\n",
       "      <td>0.151038</td>\n",
       "      <td>0.136017</td>\n",
       "      <td>0.101387</td>\n",
       "      <td>0.066548</td>\n",
       "    </tr>\n",
       "    <tr>\n",
       "      <th>1</th>\n",
       "      <td>0.048399</td>\n",
       "      <td>0.048399</td>\n",
       "      <td>0.050902</td>\n",
       "      <td>0.050485</td>\n",
       "      <td>0.040889</td>\n",
       "      <td>0.039846</td>\n",
       "      <td>0.055492</td>\n",
       "      <td>0.069678</td>\n",
       "      <td>0.064879</td>\n",
       "      <td>0.037342</td>\n",
       "      <td>...</td>\n",
       "      <td>0.093877</td>\n",
       "      <td>-0.045478</td>\n",
       "      <td>-0.196098</td>\n",
       "      <td>-0.329195</td>\n",
       "      <td>-0.400750</td>\n",
       "      <td>-0.418900</td>\n",
       "      <td>-0.379263</td>\n",
       "      <td>-0.286012</td>\n",
       "      <td>-0.157087</td>\n",
       "      <td>0.012934</td>\n",
       "    </tr>\n",
       "    <tr>\n",
       "      <th>2</th>\n",
       "      <td>0.186711</td>\n",
       "      <td>0.318764</td>\n",
       "      <td>0.398455</td>\n",
       "      <td>0.410764</td>\n",
       "      <td>0.369875</td>\n",
       "      <td>0.291853</td>\n",
       "      <td>0.188588</td>\n",
       "      <td>0.079691</td>\n",
       "      <td>-0.045687</td>\n",
       "      <td>-0.149369</td>\n",
       "      <td>...</td>\n",
       "      <td>0.269948</td>\n",
       "      <td>0.210076</td>\n",
       "      <td>0.138103</td>\n",
       "      <td>0.061124</td>\n",
       "      <td>-0.014394</td>\n",
       "      <td>-0.089913</td>\n",
       "      <td>-0.166475</td>\n",
       "      <td>-0.225513</td>\n",
       "      <td>-0.253676</td>\n",
       "      <td>-0.229268</td>\n",
       "    </tr>\n",
       "    <tr>\n",
       "      <th>3</th>\n",
       "      <td>-0.173777</td>\n",
       "      <td>-0.105977</td>\n",
       "      <td>-0.030041</td>\n",
       "      <td>0.042975</td>\n",
       "      <td>0.127047</td>\n",
       "      <td>0.213205</td>\n",
       "      <td>0.274538</td>\n",
       "      <td>0.294148</td>\n",
       "      <td>0.268905</td>\n",
       "      <td>0.209867</td>\n",
       "      <td>...</td>\n",
       "      <td>0.125795</td>\n",
       "      <td>0.118076</td>\n",
       "      <td>0.112235</td>\n",
       "      <td>0.107020</td>\n",
       "      <td>0.088662</td>\n",
       "      <td>0.060498</td>\n",
       "      <td>0.030249</td>\n",
       "      <td>0.014603</td>\n",
       "      <td>0.011891</td>\n",
       "      <td>0.010014</td>\n",
       "    </tr>\n",
       "    <tr>\n",
       "      <th>4</th>\n",
       "      <td>-0.003964</td>\n",
       "      <td>-0.031501</td>\n",
       "      <td>-0.057369</td>\n",
       "      <td>-0.071764</td>\n",
       "      <td>-0.064879</td>\n",
       "      <td>-0.053823</td>\n",
       "      <td>-0.037968</td>\n",
       "      <td>-0.011057</td>\n",
       "      <td>0.023365</td>\n",
       "      <td>0.070303</td>\n",
       "      <td>...</td>\n",
       "      <td>-0.009388</td>\n",
       "      <td>-0.011265</td>\n",
       "      <td>0.001669</td>\n",
       "      <td>0.018358</td>\n",
       "      <td>0.025242</td>\n",
       "      <td>0.013351</td>\n",
       "      <td>0.008970</td>\n",
       "      <td>0.014186</td>\n",
       "      <td>0.018150</td>\n",
       "      <td>0.010431</td>\n",
       "    </tr>\n",
       "    <tr>\n",
       "      <th>...</th>\n",
       "      <td>...</td>\n",
       "      <td>...</td>\n",
       "      <td>...</td>\n",
       "      <td>...</td>\n",
       "      <td>...</td>\n",
       "      <td>...</td>\n",
       "      <td>...</td>\n",
       "      <td>...</td>\n",
       "      <td>...</td>\n",
       "      <td>...</td>\n",
       "      <td>...</td>\n",
       "      <td>...</td>\n",
       "      <td>...</td>\n",
       "      <td>...</td>\n",
       "      <td>...</td>\n",
       "      <td>...</td>\n",
       "      <td>...</td>\n",
       "      <td>...</td>\n",
       "      <td>...</td>\n",
       "      <td>...</td>\n",
       "      <td>...</td>\n",
       "    </tr>\n",
       "    <tr>\n",
       "      <th>4595</th>\n",
       "      <td>-0.022113</td>\n",
       "      <td>0.033587</td>\n",
       "      <td>0.040889</td>\n",
       "      <td>0.036925</td>\n",
       "      <td>0.028163</td>\n",
       "      <td>0.042558</td>\n",
       "      <td>0.056535</td>\n",
       "      <td>0.061959</td>\n",
       "      <td>0.046313</td>\n",
       "      <td>0.008553</td>\n",
       "      <td>...</td>\n",
       "      <td>0.013351</td>\n",
       "      <td>0.024408</td>\n",
       "      <td>0.044435</td>\n",
       "      <td>0.054449</td>\n",
       "      <td>0.025451</td>\n",
       "      <td>-0.035465</td>\n",
       "      <td>-0.078648</td>\n",
       "      <td>-0.084281</td>\n",
       "      <td>-0.025660</td>\n",
       "      <td>0.030666</td>\n",
       "    </tr>\n",
       "    <tr>\n",
       "      <th>4596</th>\n",
       "      <td>0.046104</td>\n",
       "      <td>0.042975</td>\n",
       "      <td>0.047356</td>\n",
       "      <td>0.064879</td>\n",
       "      <td>0.064254</td>\n",
       "      <td>0.027120</td>\n",
       "      <td>-0.047356</td>\n",
       "      <td>-0.129133</td>\n",
       "      <td>-0.178575</td>\n",
       "      <td>-0.149994</td>\n",
       "      <td>...</td>\n",
       "      <td>0.020653</td>\n",
       "      <td>0.066340</td>\n",
       "      <td>0.066757</td>\n",
       "      <td>0.022948</td>\n",
       "      <td>-0.023782</td>\n",
       "      <td>-0.036925</td>\n",
       "      <td>-0.027329</td>\n",
       "      <td>-0.018984</td>\n",
       "      <td>-0.037968</td>\n",
       "      <td>-0.083655</td>\n",
       "    </tr>\n",
       "    <tr>\n",
       "      <th>4597</th>\n",
       "      <td>-0.105559</td>\n",
       "      <td>-0.078022</td>\n",
       "      <td>-0.015646</td>\n",
       "      <td>0.022530</td>\n",
       "      <td>0.016063</td>\n",
       "      <td>-0.024408</td>\n",
       "      <td>-0.057161</td>\n",
       "      <td>-0.044018</td>\n",
       "      <td>-0.023365</td>\n",
       "      <td>-0.015229</td>\n",
       "      <td>...</td>\n",
       "      <td>0.170439</td>\n",
       "      <td>0.168353</td>\n",
       "      <td>0.129550</td>\n",
       "      <td>0.109106</td>\n",
       "      <td>0.089705</td>\n",
       "      <td>0.054449</td>\n",
       "      <td>-0.017941</td>\n",
       "      <td>-0.096589</td>\n",
       "      <td>-0.118285</td>\n",
       "      <td>-0.081151</td>\n",
       "    </tr>\n",
       "    <tr>\n",
       "      <th>4598</th>\n",
       "      <td>-0.002503</td>\n",
       "      <td>0.053614</td>\n",
       "      <td>0.074893</td>\n",
       "      <td>0.087618</td>\n",
       "      <td>0.100970</td>\n",
       "      <td>0.112861</td>\n",
       "      <td>0.086158</td>\n",
       "      <td>0.035047</td>\n",
       "      <td>-0.025868</td>\n",
       "      <td>-0.067174</td>\n",
       "      <td>...</td>\n",
       "      <td>-0.045270</td>\n",
       "      <td>-0.019610</td>\n",
       "      <td>0.031084</td>\n",
       "      <td>0.063836</td>\n",
       "      <td>0.055909</td>\n",
       "      <td>0.030041</td>\n",
       "      <td>0.009805</td>\n",
       "      <td>0.007302</td>\n",
       "      <td>0.006467</td>\n",
       "      <td>-0.021279</td>\n",
       "    </tr>\n",
       "    <tr>\n",
       "      <th>4599</th>\n",
       "      <td>-0.046313</td>\n",
       "      <td>-0.055283</td>\n",
       "      <td>-0.038385</td>\n",
       "      <td>0.013143</td>\n",
       "      <td>0.046104</td>\n",
       "      <td>0.041097</td>\n",
       "      <td>-0.000209</td>\n",
       "      <td>-0.025034</td>\n",
       "      <td>-0.017315</td>\n",
       "      <td>0.008553</td>\n",
       "      <td>...</td>\n",
       "      <td>0.083655</td>\n",
       "      <td>0.128507</td>\n",
       "      <td>0.108897</td>\n",
       "      <td>0.058204</td>\n",
       "      <td>-0.006676</td>\n",
       "      <td>-0.031084</td>\n",
       "      <td>-0.039846</td>\n",
       "      <td>-0.060498</td>\n",
       "      <td>-0.085741</td>\n",
       "      <td>-0.100135</td>\n",
       "    </tr>\n",
       "  </tbody>\n",
       "</table>\n",
       "<p>4600 rows × 1024 columns</p>\n",
       "</div>"
      ],
      "text/plain": [
       "          0         1         2         3         4         5         6     \\\n",
       "0    -0.041097 -0.046104 -0.028372  0.001252  0.033796  0.069886  0.117242   \n",
       "1     0.048399  0.048399  0.050902  0.050485  0.040889  0.039846  0.055492   \n",
       "2     0.186711  0.318764  0.398455  0.410764  0.369875  0.291853  0.188588   \n",
       "3    -0.173777 -0.105977 -0.030041  0.042975  0.127047  0.213205  0.274538   \n",
       "4    -0.003964 -0.031501 -0.057369 -0.071764 -0.064879 -0.053823 -0.037968   \n",
       "...        ...       ...       ...       ...       ...       ...       ...   \n",
       "4595 -0.022113  0.033587  0.040889  0.036925  0.028163  0.042558  0.056535   \n",
       "4596  0.046104  0.042975  0.047356  0.064879  0.064254  0.027120 -0.047356   \n",
       "4597 -0.105559 -0.078022 -0.015646  0.022530  0.016063 -0.024408 -0.057161   \n",
       "4598 -0.002503  0.053614  0.074893  0.087618  0.100970  0.112861  0.086158   \n",
       "4599 -0.046313 -0.055283 -0.038385  0.013143  0.046104  0.041097 -0.000209   \n",
       "\n",
       "          7         8         9     ...      1014      1015      1016  \\\n",
       "0     0.164389  0.200688  0.215082  ...  0.005215  0.029623  0.039428   \n",
       "1     0.069678  0.064879  0.037342  ...  0.093877 -0.045478 -0.196098   \n",
       "2     0.079691 -0.045687 -0.149369  ...  0.269948  0.210076  0.138103   \n",
       "3     0.294148  0.268905  0.209867  ...  0.125795  0.118076  0.112235   \n",
       "4    -0.011057  0.023365  0.070303  ... -0.009388 -0.011265  0.001669   \n",
       "...        ...       ...       ...  ...       ...       ...       ...   \n",
       "4595  0.061959  0.046313  0.008553  ...  0.013351  0.024408  0.044435   \n",
       "4596 -0.129133 -0.178575 -0.149994  ...  0.020653  0.066340  0.066757   \n",
       "4597 -0.044018 -0.023365 -0.015229  ...  0.170439  0.168353  0.129550   \n",
       "4598  0.035047 -0.025868 -0.067174  ... -0.045270 -0.019610  0.031084   \n",
       "4599 -0.025034 -0.017315  0.008553  ...  0.083655  0.128507  0.108897   \n",
       "\n",
       "          1017      1018      1019      1020      1021      1022      1023  \n",
       "0     0.057369  0.087201  0.125169  0.151038  0.136017  0.101387  0.066548  \n",
       "1    -0.329195 -0.400750 -0.418900 -0.379263 -0.286012 -0.157087  0.012934  \n",
       "2     0.061124 -0.014394 -0.089913 -0.166475 -0.225513 -0.253676 -0.229268  \n",
       "3     0.107020  0.088662  0.060498  0.030249  0.014603  0.011891  0.010014  \n",
       "4     0.018358  0.025242  0.013351  0.008970  0.014186  0.018150  0.010431  \n",
       "...        ...       ...       ...       ...       ...       ...       ...  \n",
       "4595  0.054449  0.025451 -0.035465 -0.078648 -0.084281 -0.025660  0.030666  \n",
       "4596  0.022948 -0.023782 -0.036925 -0.027329 -0.018984 -0.037968 -0.083655  \n",
       "4597  0.109106  0.089705  0.054449 -0.017941 -0.096589 -0.118285 -0.081151  \n",
       "4598  0.063836  0.055909  0.030041  0.009805  0.007302  0.006467 -0.021279  \n",
       "4599  0.058204 -0.006676 -0.031084 -0.039846 -0.060498 -0.085741 -0.100135  \n",
       "\n",
       "[4600 rows x 1024 columns]"
      ]
     },
     "execution_count": 24,
     "metadata": {},
     "output_type": "execute_result"
    }
   ],
   "source": [
    "DF"
   ]
  },
  {
   "cell_type": "code",
   "execution_count": 25,
   "metadata": {},
   "outputs": [],
   "source": [
    "DF.to_csv(\"Preprocessed features from the Raw Matlab data.csv\")"
   ]
  },
  {
   "cell_type": "code",
   "execution_count": null,
   "metadata": {},
   "outputs": [],
   "source": []
  },
  {
   "cell_type": "code",
   "execution_count": null,
   "metadata": {},
   "outputs": [],
   "source": []
  },
  {
   "cell_type": "markdown",
   "metadata": {},
   "source": [
    "### Visualising the Preprocessed data"
   ]
  },
  {
   "cell_type": "markdown",
   "metadata": {},
   "source": [
    "### Ball Faults"
   ]
  },
  {
   "cell_type": "code",
   "execution_count": 27,
   "metadata": {},
   "outputs": [
    {
     "data": {
      "text/plain": [
       "Text(0.5, 1.0, 'Ball fault (diameter 0.021 inch)')"
      ]
     },
     "execution_count": 27,
     "metadata": {},
     "output_type": "execute_result"
    },
    {
     "data": {
      "image/png": "[encoded data removed]",
      "text/plain": [
       "<Figure size 720x432 with 4 Axes>"
      ]
     },
     "metadata": {
      "needs_background": "light"
     },
     "output_type": "display_data"
    }
   ],
   "source": [
    "%matplotlib inline\n",
    "import matplotlib.pyplot as plt\n",
    "\n",
    "range_of_samples = range(0,490000)\n",
    "\n",
    "#plotting\n",
    "fig, axs = plt.subplots(2, 2, sharey=True, figsize=(10, 6), constrained_layout=True)\n",
    "fig.suptitle('Acceleration data recorded at the Drive End')\n",
    "\n",
    "axs[0, 0].plot(p[0:487384])                                 #Ball-Fault 007\n",
    "axs[0, 0].set_title('Ball fault (diameter 0.007)')\n",
    " \n",
    "axs[0, 1].plot(p[489125:978250])                            #Ball-Fault 014\n",
    "axs[0, 1].set_title('Ball fault (diameter 0.014 inch)')\n",
    "\n",
    "axs[1, 0].plot(p[978250:1467375])                            #Ball-Fault 021\n",
    "axs[1, 0].set_title('Ball fault (diameter 0.021 inch)')"
   ]
  },
  {
   "cell_type": "code",
   "execution_count": null,
   "metadata": {},
   "outputs": [],
   "source": []
  },
  {
   "cell_type": "markdown",
   "metadata": {},
   "source": [
    "### Inner Race Faults"
   ]
  },
  {
   "cell_type": "code",
   "execution_count": 28,
   "metadata": {},
   "outputs": [
    {
     "data": {
      "text/plain": [
       "Text(0.5, 1.0, 'Inner race (diameter 0.021 inch)')"
      ]
     },
     "execution_count": 28,
     "metadata": {},
     "output_type": "execute_result"
    },
    {
     "data": {
      "image/png": "[encoded data removed]",
      "text/plain": [
       "<Figure size 720x432 with 4 Axes>"
      ]
     },
     "metadata": {
      "needs_background": "light"
     },
     "output_type": "display_data"
    }
   ],
   "source": [
    "%matplotlib inline\n",
    "import matplotlib.pyplot as plt\n",
    "\n",
    "range_of_samples = range(0,490000)\n",
    "\n",
    "#plotting\n",
    "fig, axs = plt.subplots(2, 2, sharey=True, figsize=(10, 6), constrained_layout=True)\n",
    "fig.suptitle('Acceleration data recorded at the Drive End')\n",
    "\n",
    "axs[0, 0].plot(p[1467375:1949536])                        #Inner Race-Fault 007\n",
    "axs[0, 0].set_title('Inner race (diameter 0.007)')\n",
    "\n",
    "axs[0, 1].plot(p[1949536:2436920])                         #Inner Race-Fault 014\n",
    "axs[0, 1].set_title('Inner race (diameter 0.014 inch)')\n",
    "\n",
    "axs[1, 0].plot(p[2436920:2924304])                         #Inner Race-Fault 021\n",
    "axs[1, 0].set_title('Inner race (diameter 0.021 inch)')"
   ]
  },
  {
   "cell_type": "code",
   "execution_count": null,
   "metadata": {},
   "outputs": [],
   "source": []
  },
  {
   "cell_type": "markdown",
   "metadata": {},
   "source": [
    "### Outer-Race Faults"
   ]
  },
  {
   "cell_type": "code",
   "execution_count": 29,
   "metadata": {},
   "outputs": [
    {
     "data": {
      "text/plain": [
       "Text(0.5, 1.0, 'Outer race (diameter 0.021 inch)')"
      ]
     },
     "execution_count": 29,
     "metadata": {},
     "output_type": "execute_result"
    },
    {
     "data": {
      "image/png": "[encoded data removed]",
      "text/plain": [
       "<Figure size 720x432 with 4 Axes>"
      ]
     },
     "metadata": {
      "needs_background": "light"
     },
     "output_type": "display_data"
    }
   ],
   "source": [
    "%matplotlib inline\n",
    "import matplotlib.pyplot as plt\n",
    "\n",
    "range_of_samples = range(0,490000)\n",
    "\n",
    "#plotting\n",
    "fig, axs = plt.subplots(2, 2, sharey=True, figsize=(10, 6), constrained_layout=True)\n",
    "fig.suptitle('Acceleration data recorded at the Drive End')\n",
    "\n",
    "axs[0, 0].plot(p[2924304:3411688])                          #Outer Race-Fault 007\n",
    "axs[0, 0].set_title('Outer  race (diameter 0.007)')\n",
    "\n",
    "axs[0, 1].plot(p[3411688:3899072])                          #Outer Race-Fault 014\n",
    "axs[0, 1].set_title('Outer race (diameter 0.014 inch)')\n",
    "\n",
    "axs[1, 0].plot(p[3899072:4386456])                          #Outer Race-Fault 021\n",
    "axs[1, 0].set_title('Outer race (diameter 0.021 inch)')"
   ]
  },
  {
   "cell_type": "code",
   "execution_count": null,
   "metadata": {},
   "outputs": [],
   "source": []
  },
  {
   "cell_type": "markdown",
   "metadata": {},
   "source": [
    "### Normal Bearing"
   ]
  },
  {
   "cell_type": "code",
   "execution_count": 30,
   "metadata": {},
   "outputs": [
    {
     "data": {
      "text/plain": [
       "Text(0.5, 1.0, 'Normal/Baseline')"
      ]
     },
     "execution_count": 30,
     "metadata": {},
     "output_type": "execute_result"
    },
    {
     "data": {
      "image/png": "[encoded data removed]",
      "text/plain": [
       "<Figure size 720x432 with 4 Axes>"
      ]
     },
     "metadata": {
      "needs_background": "light"
     },
     "output_type": "display_data"
    }
   ],
   "source": [
    "%matplotlib inline\n",
    "import matplotlib.pyplot as plt\n",
    "\n",
    "range_of_samples = range(0,490000)\n",
    "\n",
    "#plotting\n",
    "fig, axs = plt.subplots(2, 2, sharey=True, figsize=(10, 6), constrained_layout=True)\n",
    "fig.suptitle('Acceleration data recorded at the Drive End')\n",
    "\n",
    "axs[0, 0].plot(p[4386456:])\n",
    "axs[0, 0].set_title('Normal/Baseline')\n",
    "\n"
   ]
  },
  {
   "cell_type": "code",
   "execution_count": null,
   "metadata": {},
   "outputs": [],
   "source": []
  },
  {
   "cell_type": "code",
   "execution_count": null,
   "metadata": {},
   "outputs": [],
   "source": []
  },
  {
   "cell_type": "code",
   "execution_count": null,
   "metadata": {},
   "outputs": [],
   "source": []
  },
  {
   "cell_type": "code",
   "execution_count": null,
   "metadata": {},
   "outputs": [],
   "source": []
  },
  {
   "cell_type": "code",
   "execution_count": null,
   "metadata": {},
   "outputs": [],
   "source": []
  },
  {
   "cell_type": "code",
   "execution_count": null,
   "metadata": {},
   "outputs": [],
   "source": []
  },
  {
   "cell_type": "code",
   "execution_count": null,
   "metadata": {},
   "outputs": [],
   "source": []
  }
 ],
 "metadata": {
  "kernelspec": {
   "display_name": "Python 3",
   "language": "python",
   "name": "python3"
  },
  "language_info": {
   "codemirror_mode": {
    "name": "ipython",
    "version": 3
   },
   "file_extension": ".py",
   "mimetype": "text/x-python",
   "name": "python",
   "nbconvert_exporter": "python",
   "pygments_lexer": "ipython3",
   "version": "3.8.5"
  }
 },
 "nbformat": 4,
 "nbformat_minor": 4
}
